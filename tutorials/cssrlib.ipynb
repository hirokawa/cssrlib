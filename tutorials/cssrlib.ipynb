{
 "cells": [
  {
   "cell_type": "markdown",
   "id": "a4123944",
   "metadata": {
    "id": "a4123944"
   },
   "source": [
    "# Introduction to the high accuracy positioning with open PPP/PPP-RTK services"
   ]
  },
  {
   "cell_type": "markdown",
   "id": "ee5d7f23",
   "metadata": {
    "id": "ee5d7f23"
   },
   "source": [
    "## Introduction to CSSRlib\n",
    "\n",
    "*CSSRLIB* is a open toolkit in Python for high accuracy GNSS positioning. It supports SSR (State-Space Representation) based potitioning such as PPP (Precise Point Positioning) or PPP-RTK (Realtime Kinematic), and also supports RTK. The goal of the CSSRlib toolkit is to provide an easy-to-understand open implementation to learn PPP/PPP-RTK positioning provided by satellite-based open PPP/PPP-RTK services such as QZSS CLAS, Galileo HAS, and BeiDou 3 PPP. It also supports ground based open service by IGS. The code is based on RTKlib.\n",
    "\n",
    "It supports the following open format:\n",
    "\n",
    "- The observation data and the ephemeis in RINEX\n",
    "- The PPP/PPP-RTK correction data in RTCM SSR, IGS SSR, Compact SSR, ...\n",
    "- The precise orbit/clock data in SP3 format.\n"
   ]
  },
  {
   "cell_type": "markdown",
   "id": "82da5f11",
   "metadata": {
    "id": "82da5f11"
   },
   "source": [
    "## Installation\n",
    "\n",
    "You can install CSSRlib using pip or clone the repo from Github.\n",
    "\n"
   ]
  },
  {
   "cell_type": "code",
   "execution_count": 5,
   "id": "gIGxzxg9gPuR",
   "metadata": {
    "colab": {
     "base_uri": "https://localhost:8080/"
    },
    "id": "gIGxzxg9gPuR",
    "outputId": "a2efe066-1f28-45c0-add0-9b6f686a26c5"
   },
   "outputs": [
    {
     "name": "stderr",
     "output_type": "stream",
     "text": [
      "Cloning into 'cssrlib'...\n",
      "'mv' �́A�����R�}���h�܂��͊O���R�}���h�A\n",
      "����\\�ȃv���O�����܂��̓o�b�` �t�@�C���Ƃ��ĔF������Ă��܂���B\n"
     ]
    }
   ],
   "source": [
    "# %pip install cssrlib   # install released version\n",
    "\n",
    "# load most recent code to local folder for easier visibility\n",
    "#!rm -rf cssrlib\n",
    "!git clone https://github.com/hirokawa/cssrlib.git\n",
    "!mv cssrlib/src/cssrlib/*.* cssrlib"
   ]
  },
  {
   "cell_type": "markdown",
   "id": "PKWUV4K0iWJm",
   "metadata": {
    "id": "PKWUV4K0iWJm"
   },
   "source": [
    "Additional python packages are required as prerequisites and can be installed via the following commands.  Note that the cartopy package is not available in Windows but is used only for plotting the results."
   ]
  },
  {
   "cell_type": "code",
   "execution_count": 6,
   "id": "bUmrxVJrgkUF",
   "metadata": {
    "colab": {
     "base_uri": "https://localhost:8080/"
    },
    "id": "bUmrxVJrgkUF",
    "outputId": "7542c218-9395-4d69-ec4f-26341be93312"
   },
   "outputs": [
    {
     "name": "stdout",
     "output_type": "stream",
     "text": [
      "Requirement already satisfied: bitstruct in c:\\tools\\python313\\lib\\site-packages (8.21.0)\n",
      "Requirement already satisfied: galois in c:\\tools\\python313\\lib\\site-packages (0.4.6)\n",
      "Requirement already satisfied: numpy>=1.21.0 in c:\\tools\\python313\\lib\\site-packages (from galois) (2.2.6)\n",
      "Collecting numba<0.62,>=0.55 (from galois)\n",
      "  Using cached numba-0.61.2-cp313-cp313-win_amd64.whl.metadata (2.8 kB)\n",
      "Requirement already satisfied: typing-extensions>=4.0.0 in c:\\tools\\python313\\lib\\site-packages (from galois) (4.15.0)\n",
      "Collecting llvmlite<0.45,>=0.44.0dev0 (from numba<0.62,>=0.55->galois)\n",
      "  Using cached llvmlite-0.44.0-cp313-cp313-win_amd64.whl.metadata (5.0 kB)\n",
      "Using cached numba-0.61.2-cp313-cp313-win_amd64.whl (2.8 MB)\n",
      "Using cached llvmlite-0.44.0-cp313-cp313-win_amd64.whl (30.3 MB)\n",
      "Installing collected packages: llvmlite, numba\n",
      "\n",
      "  Attempting uninstall: llvmlite\n",
      "\n",
      "    Found existing installation: llvmlite 0.45.1\n",
      "\n",
      "    Uninstalling llvmlite-0.45.1:\n",
      "\n",
      "      Successfully uninstalled llvmlite-0.45.1\n",
      "\n",
      "   ---------------------------------------- 0/2 [llvmlite]\n",
      "   ---------------------------------------- 0/2 [llvmlite]\n",
      "   ---------------------------------------- 0/2 [llvmlite]\n",
      "   ---------------------------------------- 0/2 [llvmlite]\n",
      "  Attempting uninstall: numba\n",
      "   ---------------------------------------- 0/2 [llvmlite]\n",
      "    Found existing installation: numba 0.62.1\n",
      "   ---------------------------------------- 0/2 [llvmlite]\n",
      "   -------------------- ------------------- 1/2 [numba]\n",
      "    Uninstalling numba-0.62.1:\n",
      "   -------------------- ------------------- 1/2 [numba]\n",
      "      Successfully uninstalled numba-0.62.1\n",
      "   -------------------- ------------------- 1/2 [numba]\n",
      "   -------------------- ------------------- 1/2 [numba]\n",
      "   -------------------- ------------------- 1/2 [numba]\n",
      "   -------------------- ------------------- 1/2 [numba]\n",
      "   -------------------- ------------------- 1/2 [numba]\n",
      "   -------------------- ------------------- 1/2 [numba]\n",
      "   -------------------- ------------------- 1/2 [numba]\n",
      "   -------------------- ------------------- 1/2 [numba]\n",
      "   -------------------- ------------------- 1/2 [numba]\n",
      "   -------------------- ------------------- 1/2 [numba]\n",
      "   -------------------- ------------------- 1/2 [numba]\n",
      "   -------------------- ------------------- 1/2 [numba]\n",
      "   -------------------- ------------------- 1/2 [numba]\n",
      "   -------------------- ------------------- 1/2 [numba]\n",
      "   -------------------- ------------------- 1/2 [numba]\n",
      "   -------------------- ------------------- 1/2 [numba]\n",
      "   -------------------- ------------------- 1/2 [numba]\n",
      "   -------------------- ------------------- 1/2 [numba]\n",
      "   -------------------- ------------------- 1/2 [numba]\n",
      "   -------------------- ------------------- 1/2 [numba]\n",
      "   -------------------- ------------------- 1/2 [numba]\n",
      "   -------------------- ------------------- 1/2 [numba]\n",
      "   -------------------- ------------------- 1/2 [numba]\n",
      "   -------------------- ------------------- 1/2 [numba]\n",
      "   -------------------- ------------------- 1/2 [numba]\n",
      "   -------------------- ------------------- 1/2 [numba]\n",
      "   -------------------- ------------------- 1/2 [numba]\n",
      "   -------------------- ------------------- 1/2 [numba]\n",
      "   -------------------- ------------------- 1/2 [numba]\n",
      "   -------------------- ------------------- 1/2 [numba]\n",
      "   -------------------- ------------------- 1/2 [numba]\n",
      "   -------------------- ------------------- 1/2 [numba]\n",
      "   -------------------- ------------------- 1/2 [numba]\n",
      "   -------------------- ------------------- 1/2 [numba]\n",
      "   -------------------- ------------------- 1/2 [numba]\n",
      "   -------------------- ------------------- 1/2 [numba]\n",
      "   -------------------- ------------------- 1/2 [numba]\n",
      "   -------------------- ------------------- 1/2 [numba]\n",
      "   -------------------- ------------------- 1/2 [numba]\n",
      "   -------------------- ------------------- 1/2 [numba]\n",
      "   -------------------- ------------------- 1/2 [numba]\n",
      "   -------------------- ------------------- 1/2 [numba]\n",
      "   -------------------- ------------------- 1/2 [numba]\n",
      "   -------------------- ------------------- 1/2 [numba]\n",
      "   -------------------- ------------------- 1/2 [numba]\n",
      "   -------------------- ------------------- 1/2 [numba]\n",
      "   ---------------------------------------- 2/2 [numba]\n",
      "\n",
      "Successfully installed llvmlite-0.44.0 numba-0.61.2\n",
      "Note: you may need to restart the kernel to use updated packages.\n",
      "Note: you may need to restart the kernel to use updated packages.\n"
     ]
    },
    {
     "name": "stderr",
     "output_type": "stream",
     "text": [
      "ERROR: Invalid requirement: '#': Expected package name at the start of dependency specifier\n",
      "    #\n",
      "    ^\n"
     ]
    },
    {
     "name": "stdout",
     "output_type": "stream",
     "text": [
      "Note: you may need to restart the kernel to use updated packages.\n"
     ]
    },
    {
     "name": "stderr",
     "output_type": "stream",
     "text": [
      "ERROR: Invalid requirement: '#': Expected package name at the start of dependency specifier\n",
      "    #\n",
      "    ^\n"
     ]
    }
   ],
   "source": [
    "# %pip install notebook numpy matplotlib  # Already installed in Colab but may be needed if running locally\n",
    "\n",
    "%pip install bitstruct galois\n",
    "%pip install cartopy                      # Comment this line out if running in Windows\n",
    "%pip install pysolid                      # Comment this line out if running in Windows"
   ]
  },
  {
   "cell_type": "markdown",
   "id": "0bbf3e8a",
   "metadata": {
    "id": "0bbf3e8a"
   },
   "source": [
    "## Structure of CSSRlib\n",
    "\n",
    "\n",
    "CSSRlib consits of multiple python files/modules as follows:\n",
    "\n",
    "- Contructor (`__init__`): initialize the variables used in CSSRlib.\n",
    "- `gnss`: Common subroutines and classes used in CSSRlib.\n",
    "- `ephemeris`: calculate the position of satellite using ephemeris.\n",
    "- `peph`: calculate the position of satellite using precise ephemeris in SP3 format．\n",
    "- `tlesim`: calculate the position of satellite using TLE.\n",
    "- `plot`: subroutines to visualize.\n",
    "\n",
    "- `rinex`: parse RINEX obs/nav file.\n",
    "- `cssrlib`: parse PPP/PPP-RTK correction messages in Compact SSR (CSSR) format.\n",
    "- `cssr_has`: parse PPP correction messages for Galileo HAS format.\n",
    "- `cssr_bds`: parse PPP correction messages for BeiDou PPP format.\n",
    "- `cssr_pvs`: parse PPP correction messages for PPP via SouthPAN (PVS) format (experimental).\n",
    "- `rtcm`: parse RTCM 3 messsages.\n",
    "- `ppp`: functions for PPP positioning\n",
    "- `pppssr`: PPP/PPP-AR positioning\n",
    "- `ppprtk`: PPP-RTK positioning\n",
    "- `pntpos`: standalone positioning\n",
    "- `rtk`: RTK positioning\n",
    "- `rawnav`: decoder for raw navigation message\n",
    "- `mlambda`: Ambiguity resolution using modified LAMBDA method\n",
    "- `sbas`: SBAS (L1/L5) message decoder\n"
   ]
  },
  {
   "cell_type": "markdown",
   "id": "jmERUADzi3T_",
   "metadata": {
    "id": "jmERUADzi3T_"
   },
   "source": [
    "## Load Sample Data and Test Scripts from Github\n",
    "\n",
    "Sample data and test scripts are provided in a separate Github respository"
   ]
  },
  {
   "cell_type": "code",
   "execution_count": 1,
   "id": "mX6DLsZDvEMX",
   "metadata": {
    "colab": {
     "base_uri": "https://localhost:8080/"
    },
    "id": "mX6DLsZDvEMX",
    "outputId": "ed386e82-cf75-450c-d23c-8d76e795a6cd"
   },
   "outputs": [
    {
     "name": "stderr",
     "output_type": "stream",
     "text": [
      "fatal: destination path 'cssrlib-data' already exists and is not an empty directory.\n"
     ]
    }
   ],
   "source": [
    "!git clone https://github.com/hirokawa/cssrlib-data.git"
   ]
  },
  {
   "cell_type": "markdown",
   "id": "1587878b",
   "metadata": {},
   "source": [
    "Download IGS related files."
   ]
  },
  {
   "cell_type": "code",
   "execution_count": 43,
   "id": "562b4f1a",
   "metadata": {},
   "outputs": [
    {
     "name": "stdout",
     "output_type": "stream",
     "text": [
      "Found 32 files to download.\n",
      "Connected to gdc.cddis.eosdis.nasa.gov as anonymous (Binary Mode)\n",
      "FTP session closed.\n"
     ]
    },
    {
     "name": "stderr",
     "output_type": "stream",
     "text": [
      "\n",
      "igs20.atx:   0%|          | 0.00/51.0M [00:00<?, ?B/s]\n",
      "igs20.atx:   0%|          | 8.19k/51.0M [00:00<17:16, 49.2kB/s]\n",
      "igs20.atx:   0%|          | 39.9k/51.0M [00:00<06:36, 129kB/s] \n",
      "igs20.atx:   0%|          | 96.3k/51.0M [00:00<03:53, 218kB/s]\n",
      "igs20.atx:   0%|          | 208k/51.0M [00:00<02:11, 387kB/s] \n",
      "igs20.atx:   1%|          | 432k/51.0M [00:00<01:10, 714kB/s]\n",
      "igs20.atx:   2%|▏         | 881k/51.0M [00:01<00:37, 1.35MB/s]\n",
      "igs20.atx:   3%|▎         | 1.78M/51.0M [00:01<00:18, 2.61MB/s]\n",
      "igs20.atx:   6%|▌         | 2.97M/51.0M [00:01<00:10, 4.57MB/s]\n",
      "igs20.atx:   7%|▋         | 3.52M/51.0M [00:01<00:09, 4.77MB/s]\n",
      "igs20.atx:   9%|▉         | 4.70M/51.0M [00:01<00:07, 6.50MB/s]\n",
      "igs20.atx:  11%|█         | 5.44M/51.0M [00:01<00:06, 6.56MB/s]\n",
      "igs20.atx:  12%|█▏        | 6.28M/51.0M [00:01<00:06, 6.88MB/s]\n",
      "igs20.atx:  15%|█▍        | 7.40M/51.0M [00:01<00:05, 8.05MB/s]\n",
      "igs20.atx:  16%|█▌        | 8.25M/51.0M [00:01<00:05, 8.08MB/s]\n",
      "igs20.atx:  18%|█▊        | 9.43M/51.0M [00:02<00:04, 9.13MB/s]\n",
      "igs20.atx:  20%|██        | 10.4M/51.0M [00:02<00:04, 9.08MB/s]\n",
      "igs20.atx:  22%|██▏       | 11.5M/51.0M [00:02<00:04, 9.57MB/s]\n",
      "igs20.atx:  24%|██▍       | 12.5M/51.0M [00:02<00:03, 9.73MB/s]\n",
      "igs20.atx:  26%|██▋       | 13.5M/51.0M [00:02<00:03, 9.89MB/s]\n",
      "igs20.atx:  29%|██▊       | 14.7M/51.0M [00:02<00:03, 10.4MB/s]\n",
      "igs20.atx:  31%|███       | 15.8M/51.0M [00:02<00:03, 10.5MB/s]\n",
      "igs20.atx:  33%|███▎      | 16.9M/51.0M [00:02<00:03, 10.9MB/s]\n",
      "igs20.atx:  35%|███▌      | 18.0M/51.0M [00:03<00:04, 7.25MB/s]\n",
      "igs20.atx:  40%|████      | 20.4M/51.0M [00:03<00:03, 9.30MB/s]\n",
      "igs20.atx:  42%|████▏     | 21.6M/51.0M [00:03<00:04, 7.00MB/s]\n",
      "igs20.atx:  47%|████▋     | 23.7M/51.0M [00:03<00:02, 9.57MB/s]\n",
      "igs20.atx:  49%|████▉     | 25.0M/51.0M [00:03<00:03, 8.38MB/s]\n",
      "igs20.atx:  51%|█████     | 26.0M/51.0M [00:03<00:03, 7.79MB/s]\n",
      "igs20.atx:  53%|█████▎    | 26.9M/51.0M [00:04<00:03, 7.43MB/s]\n",
      "igs20.atx:  54%|█████▍    | 27.7M/51.0M [00:04<00:03, 7.32MB/s]\n",
      "igs20.atx:  56%|█████▌    | 28.5M/51.0M [00:04<00:03, 7.14MB/s]\n",
      "igs20.atx:  57%|█████▋    | 29.3M/51.0M [00:04<00:03, 7.07MB/s]\n",
      "igs20.atx:  59%|█████▉    | 30.0M/51.0M [00:04<00:02, 7.13MB/s]\n",
      "igs20.atx:  60%|██████    | 30.8M/51.0M [00:04<00:02, 7.02MB/s]\n",
      "igs20.atx:  62%|██████▏   | 31.5M/51.0M [00:04<00:02, 6.88MB/s]\n",
      "igs20.atx:  63%|██████▎   | 32.2M/51.0M [00:04<00:02, 6.98MB/s]\n",
      "igs20.atx:  65%|██████▍   | 32.9M/51.0M [00:04<00:02, 6.96MB/s]\n",
      "igs20.atx:  66%|██████▌   | 33.7M/51.0M [00:05<00:02, 7.21MB/s]\n",
      "igs20.atx:  67%|██████▋   | 34.4M/51.0M [00:05<00:02, 7.08MB/s]\n",
      "igs20.atx:  69%|██████▉   | 35.1M/51.0M [00:05<00:03, 4.76MB/s]\n",
      "igs20.atx:  72%|███████▏  | 36.8M/51.0M [00:05<00:01, 7.28MB/s]\n",
      "igs20.atx:  74%|███████▍  | 37.7M/51.0M [00:05<00:02, 6.49MB/s]\n",
      "igs20.atx:  75%|███████▌  | 38.4M/51.0M [00:05<00:02, 6.13MB/s]\n",
      "igs20.atx:  77%|███████▋  | 39.1M/51.0M [00:06<00:02, 5.76MB/s]\n",
      "igs20.atx:  78%|███████▊  | 39.8M/51.0M [00:06<00:02, 5.50MB/s]\n",
      "igs20.atx:  79%|███████▉  | 40.4M/51.0M [00:06<00:01, 5.67MB/s]\n",
      "igs20.atx:  80%|████████  | 41.0M/51.0M [00:06<00:01, 5.48MB/s]\n",
      "igs20.atx:  82%|████████▏ | 41.6M/51.0M [00:06<00:01, 5.60MB/s]\n",
      "igs20.atx:  83%|████████▎ | 42.2M/51.0M [00:06<00:01, 5.64MB/s]\n",
      "igs20.atx:  84%|████████▍ | 42.8M/51.0M [00:06<00:01, 5.33MB/s]\n",
      "igs20.atx:  85%|████████▍ | 43.3M/51.0M [00:06<00:01, 5.33MB/s]\n",
      "igs20.atx:  86%|████████▌ | 43.9M/51.0M [00:06<00:01, 5.54MB/s]\n",
      "igs20.atx:  87%|████████▋ | 44.5M/51.0M [00:06<00:01, 5.53MB/s]\n",
      "igs20.atx:  88%|████████▊ | 45.1M/51.0M [00:07<00:01, 5.46MB/s]\n",
      "igs20.atx:  90%|████████▉ | 45.6M/51.0M [00:07<00:01, 5.11MB/s]\n",
      "igs20.atx:  91%|█████████ | 46.2M/51.0M [00:07<00:00, 5.19MB/s]\n",
      "igs20.atx:  92%|█████████▏| 46.8M/51.0M [00:07<00:00, 5.49MB/s]\n",
      "igs20.atx:  93%|█████████▎| 47.4M/51.0M [00:07<00:00, 5.52MB/s]\n",
      "igs20.atx:  94%|█████████▍| 48.1M/51.0M [00:07<00:00, 5.83MB/s]\n",
      "igs20.atx:  95%|█████████▌| 48.6M/51.0M [00:07<00:00, 5.53MB/s]\n",
      "igs20.atx:  97%|█████████▋| 49.2M/51.0M [00:07<00:00, 5.53MB/s]\n",
      "igs20.atx:  98%|█████████▊| 49.9M/51.0M [00:07<00:00, 5.79MB/s]\n",
      "igs20.atx:  99%|█████████▉| 50.4M/51.0M [00:08<00:00, 5.54MB/s]\n",
      "igs20.atx: 100%|██████████| 51.0M/51.0M [00:08<00:00, 6.24MB/s]\n",
      "\n",
      "igs14.atx:   0%|          | 0.00/23.4M [00:00<?, ?B/s]\n",
      "igs14.atx:   0%|          | 8.19k/23.4M [00:00<08:58, 43.5kB/s]\n",
      "igs14.atx:   0%|          | 39.9k/23.4M [00:00<03:13, 121kB/s] \n",
      "igs14.atx:   0%|          | 96.3k/23.4M [00:00<01:53, 206kB/s]\n",
      "igs14.atx:   1%|          | 208k/23.4M [00:00<01:04, 361kB/s] \n",
      "igs14.atx:   2%|▏         | 432k/23.4M [00:00<00:34, 658kB/s]\n",
      "igs14.atx:   4%|▍         | 881k/23.4M [00:01<00:18, 1.20MB/s]\n",
      "igs14.atx:   8%|▊         | 1.78M/23.4M [00:01<00:09, 2.30MB/s]\n",
      "igs14.atx:  12%|█▏        | 2.79M/23.4M [00:01<00:06, 3.19MB/s]\n",
      "igs14.atx:  16%|█▋        | 3.85M/23.4M [00:01<00:05, 3.84MB/s]\n",
      "igs14.atx:  21%|██        | 4.95M/23.4M [00:01<00:03, 4.93MB/s]\n",
      "igs14.atx:  23%|██▎       | 5.49M/23.4M [00:02<00:03, 4.64MB/s]\n",
      "igs14.atx:  26%|██▌       | 6.13M/23.4M [00:02<00:03, 4.54MB/s]\n",
      "igs14.atx:  31%|███       | 7.18M/23.4M [00:02<00:02, 5.80MB/s]\n",
      "igs14.atx:  33%|███▎      | 7.82M/23.4M [00:02<00:02, 5.38MB/s]\n",
      "igs14.atx:  37%|███▋      | 8.63M/23.4M [00:02<00:02, 5.42MB/s]\n",
      "igs14.atx:  41%|████      | 9.56M/23.4M [00:02<00:02, 6.30MB/s]\n",
      "igs14.atx:  44%|████▎     | 10.2M/23.4M [00:02<00:02, 5.81MB/s]\n",
      "igs14.atx:  48%|████▊     | 11.3M/23.4M [00:02<00:01, 6.94MB/s]\n",
      "igs14.atx:  51%|█████▏    | 12.0M/23.4M [00:03<00:01, 6.06MB/s]\n",
      "igs14.atx:  55%|█████▌    | 12.9M/23.4M [00:03<00:01, 6.19MB/s]\n",
      "igs14.atx:  58%|█████▊    | 13.6M/23.4M [00:03<00:01, 6.44MB/s]\n",
      "igs14.atx:  62%|██████▏   | 14.4M/23.4M [00:03<00:01, 6.66MB/s]\n",
      "igs14.atx:  65%|██████▌   | 15.2M/23.4M [00:03<00:01, 7.02MB/s]\n",
      "igs14.atx:  69%|██████▊   | 16.1M/23.4M [00:03<00:01, 7.24MB/s]\n",
      "igs14.atx:  72%|███████▏  | 16.9M/23.4M [00:03<00:00, 7.45MB/s]\n",
      "igs14.atx:  76%|███████▌  | 17.8M/23.4M [00:03<00:00, 8.03MB/s]\n",
      "igs14.atx:  80%|████████  | 18.8M/23.4M [00:03<00:00, 8.37MB/s]\n",
      "igs14.atx:  84%|████████▍ | 19.7M/23.4M [00:04<00:00, 8.53MB/s]\n",
      "igs14.atx:  88%|████████▊ | 20.5M/23.4M [00:04<00:00, 8.19MB/s]\n",
      "igs14.atx:  92%|█████████▏| 21.5M/23.4M [00:04<00:00, 5.18MB/s]\n",
      "igs14.atx:  95%|█████████▌| 22.2M/23.4M [00:04<00:00, 5.51MB/s]\n",
      "igs14.atx: 100%|██████████| 23.4M/23.4M [00:04<00:00, 5.09MB/s]\n",
      "\n",
      "igs20_2353.atx:   0%|          | 0.00/45.0M [00:00<?, ?B/s]\n",
      "igs20_2353.atx:   0%|          | 8.19k/45.0M [00:00<19:06, 39.2kB/s]\n",
      "igs20_2353.atx:   0%|          | 39.9k/45.0M [00:00<07:18, 103kB/s] \n",
      "igs20_2353.atx:   0%|          | 96.3k/45.0M [00:00<04:16, 175kB/s]\n",
      "igs20_2353.atx:   0%|          | 153k/45.0M [00:00<03:41, 203kB/s] \n",
      "igs20_2353.atx:   0%|          | 216k/45.0M [00:01<04:21, 171kB/s]\n",
      "igs20_2353.atx:   1%|          | 321k/45.0M [00:01<02:59, 249kB/s]\n",
      "igs20_2353.atx:   1%|          | 369k/45.0M [00:01<02:59, 248kB/s]\n",
      "igs20_2353.atx:   1%|          | 424k/45.0M [00:01<02:52, 258kB/s]\n",
      "igs20_2353.atx:   1%|          | 472k/45.0M [00:02<02:53, 257kB/s]\n",
      "igs20_2353.atx:   1%|          | 528k/45.0M [00:02<02:45, 269kB/s]\n",
      "igs20_2353.atx:   1%|▏         | 592k/45.0M [00:02<02:40, 277kB/s]\n",
      "igs20_2353.atx:   1%|▏         | 648k/45.0M [00:02<02:36, 284kB/s]\n",
      "igs20_2353.atx:   2%|▏         | 705k/45.0M [00:02<02:24, 307kB/s]\n",
      "igs20_2353.atx:   2%|▏         | 761k/45.0M [00:03<02:11, 337kB/s]\n",
      "igs20_2353.atx:   2%|▏         | 797k/45.0M [00:03<03:23, 217kB/s]\n",
      "igs20_2353.atx:   2%|▏         | 864k/45.0M [00:03<02:34, 286kB/s]\n",
      "igs20_2353.atx:   2%|▏         | 904k/45.0M [00:03<02:39, 277kB/s]\n",
      "igs20_2353.atx:   2%|▏         | 939k/45.0M [00:03<02:36, 282kB/s]\n",
      "igs20_2353.atx:   2%|▏         | 973k/45.0M [00:03<02:56, 249kB/s]\n",
      "igs20_2353.atx:   2%|▏         | 1.01M/45.0M [00:04<03:10, 231kB/s]\n",
      "igs20_2353.atx:   2%|▏         | 1.06M/45.0M [00:04<03:08, 233kB/s]\n",
      "igs20_2353.atx:   2%|▏         | 1.10M/45.0M [00:04<02:48, 261kB/s]\n",
      "igs20_2353.atx:   3%|▎         | 1.13M/45.0M [00:04<02:44, 266kB/s]\n",
      "igs20_2353.atx:   3%|▎         | 1.16M/45.0M [00:04<02:41, 271kB/s]\n",
      "igs20_2353.atx:   3%|▎         | 1.21M/45.0M [00:04<02:41, 271kB/s]\n",
      "igs20_2353.atx:   3%|▎         | 1.26M/45.0M [00:05<02:40, 272kB/s]\n",
      "igs20_2353.atx:   3%|▎         | 1.31M/45.0M [00:05<02:33, 285kB/s]\n",
      "igs20_2353.atx:   3%|▎         | 1.37M/45.0M [00:05<02:28, 295kB/s]\n",
      "igs20_2353.atx:   3%|▎         | 1.42M/45.0M [00:05<02:33, 284kB/s]\n",
      "igs20_2353.atx:   3%|▎         | 1.46M/45.0M [00:05<02:14, 323kB/s]\n",
      "igs20_2353.atx:   3%|▎         | 1.50M/45.0M [00:05<02:36, 278kB/s]\n",
      "igs20_2353.atx:   3%|▎         | 1.54M/45.0M [00:06<02:49, 256kB/s]\n",
      "igs20_2353.atx:   4%|▎         | 1.58M/45.0M [00:06<02:32, 284kB/s]\n",
      "igs20_2353.atx:   4%|▎         | 1.63M/45.0M [00:06<02:35, 279kB/s]\n",
      "igs20_2353.atx:   4%|▍         | 1.69M/45.0M [00:06<02:38, 273kB/s]\n",
      "igs20_2353.atx:   4%|▍         | 1.74M/45.0M [00:06<02:41, 268kB/s]\n",
      "igs20_2353.atx:   4%|▍         | 1.80M/45.0M [00:06<02:32, 283kB/s]\n",
      "igs20_2353.atx:   4%|▍         | 1.86M/45.0M [00:07<02:26, 294kB/s]\n",
      "igs20_2353.atx:   4%|▍         | 1.91M/45.0M [00:07<02:23, 301kB/s]\n",
      "igs20_2353.atx:   4%|▍         | 1.97M/45.0M [00:07<02:23, 300kB/s]\n",
      "igs20_2353.atx:   4%|▍         | 2.02M/45.0M [00:07<02:21, 303kB/s]\n",
      "igs20_2353.atx:   5%|▍         | 2.08M/45.0M [00:07<02:18, 309kB/s]\n",
      "igs20_2353.atx:   5%|▍         | 2.14M/45.0M [00:08<02:12, 324kB/s]\n",
      "igs20_2353.atx:   5%|▍         | 2.20M/45.0M [00:08<02:12, 323kB/s]\n",
      "igs20_2353.atx:   5%|▌         | 2.26M/45.0M [00:08<02:07, 334kB/s]\n",
      "igs20_2353.atx:   5%|▌         | 2.33M/45.0M [00:08<02:04, 342kB/s]\n",
      "igs20_2353.atx:   5%|▌         | 2.39M/45.0M [00:08<02:02, 347kB/s]\n",
      "igs20_2353.atx:   5%|▌         | 2.46M/45.0M [00:08<02:06, 336kB/s]\n",
      "igs20_2353.atx:   6%|▌         | 2.52M/45.0M [00:09<01:59, 355kB/s]\n",
      "igs20_2353.atx:   6%|▌         | 2.58M/45.0M [00:09<02:02, 347kB/s]\n",
      "igs20_2353.atx:   6%|▌         | 2.66M/45.0M [00:09<02:00, 352kB/s]\n",
      "igs20_2353.atx:   6%|▌         | 2.74M/45.0M [00:09<01:51, 379kB/s]\n",
      "igs20_2353.atx:   6%|▋         | 2.82M/45.0M [00:09<01:45, 400kB/s]\n",
      "igs20_2353.atx:   6%|▋         | 2.90M/45.0M [00:10<01:43, 409kB/s]\n",
      "igs20_2353.atx:   7%|▋         | 2.98M/45.0M [00:10<01:38, 428kB/s]\n",
      "igs20_2353.atx:   7%|▋         | 3.08M/45.0M [00:10<01:30, 463kB/s]\n",
      "igs20_2353.atx:   7%|▋         | 3.18M/45.0M [00:10<01:25, 488kB/s]\n",
      "igs20_2353.atx:   7%|▋         | 3.28M/45.0M [00:10<01:21, 512kB/s]\n",
      "igs20_2353.atx:   8%|▊         | 3.39M/45.0M [00:10<01:16, 543kB/s]\n",
      "igs20_2353.atx:   8%|▊         | 3.51M/45.0M [00:11<01:11, 582kB/s]\n",
      "igs20_2353.atx:   8%|▊         | 3.64M/45.0M [00:11<01:06, 625kB/s]\n",
      "igs20_2353.atx:   8%|▊         | 3.77M/45.0M [00:11<00:58, 710kB/s]\n",
      "igs20_2353.atx:   9%|▊         | 3.84M/45.0M [00:11<01:01, 671kB/s]\n",
      "igs20_2353.atx:   9%|▊         | 3.92M/45.0M [00:11<01:02, 655kB/s]\n",
      "igs20_2353.atx:   9%|▉         | 4.06M/45.0M [00:11<00:51, 790kB/s]\n",
      "igs20_2353.atx:   9%|▉         | 4.15M/45.0M [00:11<00:54, 756kB/s]\n",
      "igs20_2353.atx:   9%|▉         | 4.23M/45.0M [00:12<00:52, 771kB/s]\n",
      "igs20_2353.atx:  10%|▉         | 4.40M/45.0M [00:12<00:43, 935kB/s]\n",
      "igs20_2353.atx:  10%|▉         | 4.49M/45.0M [00:12<00:45, 881kB/s]\n",
      "igs20_2353.atx:  10%|█         | 4.59M/45.0M [00:12<00:45, 880kB/s]\n",
      "igs20_2353.atx:  11%|█         | 4.76M/45.0M [00:12<00:37, 1.09MB/s]\n",
      "igs20_2353.atx:  11%|█         | 4.87M/45.0M [00:12<00:42, 941kB/s] \n",
      "igs20_2353.atx:  11%|█         | 5.01M/45.0M [00:12<00:38, 1.04MB/s]\n",
      "igs20_2353.atx:  12%|█▏        | 5.22M/45.0M [00:12<00:32, 1.22MB/s]\n",
      "igs20_2353.atx:  12%|█▏        | 5.35M/45.0M [00:12<00:33, 1.17MB/s]\n",
      "igs20_2353.atx:  12%|█▏        | 5.47M/45.0M [00:13<00:33, 1.18MB/s]\n",
      "igs20_2353.atx:  13%|█▎        | 5.71M/45.0M [00:13<00:28, 1.38MB/s]\n",
      "igs20_2353.atx:  13%|█▎        | 5.85M/45.0M [00:13<00:30, 1.30MB/s]\n",
      "igs20_2353.atx:  13%|█▎        | 6.02M/45.0M [00:13<00:27, 1.39MB/s]\n",
      "igs20_2353.atx:  14%|█▍        | 6.20M/45.0M [00:13<00:25, 1.50MB/s]\n",
      "igs20_2353.atx:  14%|█▍        | 6.35M/45.0M [00:13<00:28, 1.34MB/s]\n",
      "igs20_2353.atx:  15%|█▍        | 6.58M/45.0M [00:13<00:24, 1.54MB/s]\n",
      "igs20_2353.atx:  15%|█▌        | 6.83M/45.0M [00:13<00:21, 1.78MB/s]\n",
      "igs20_2353.atx:  16%|█▌        | 7.02M/45.0M [00:14<00:23, 1.60MB/s]\n",
      "igs20_2353.atx:  16%|█▌        | 7.25M/45.0M [00:14<00:21, 1.76MB/s]\n",
      "igs20_2353.atx:  17%|█▋        | 7.50M/45.0M [00:14<00:19, 1.95MB/s]\n",
      "igs20_2353.atx:  17%|█▋        | 7.70M/45.0M [00:14<00:22, 1.66MB/s]\n",
      "igs20_2353.atx:  18%|█▊        | 7.98M/45.0M [00:14<00:19, 1.93MB/s]\n",
      "igs20_2353.atx:  18%|█▊        | 8.29M/45.0M [00:14<00:16, 2.18MB/s]\n",
      "igs20_2353.atx:  19%|█▉        | 8.52M/45.0M [00:14<00:18, 1.94MB/s]\n",
      "igs20_2353.atx:  20%|█▉        | 8.82M/45.0M [00:14<00:16, 2.22MB/s]\n",
      "igs20_2353.atx:  20%|██        | 9.14M/45.0M [00:15<00:14, 2.43MB/s]\n",
      "igs20_2353.atx:  21%|██        | 9.39M/45.0M [00:15<00:18, 1.98MB/s]\n",
      "igs20_2353.atx:  22%|██▏       | 9.74M/45.0M [00:15<00:15, 2.24MB/s]\n",
      "igs20_2353.atx:  22%|██▏       | 9.99M/45.0M [00:15<00:16, 2.19MB/s]\n",
      "igs20_2353.atx:  23%|██▎       | 10.3M/45.0M [00:15<00:15, 2.31MB/s]\n",
      "igs20_2353.atx:  23%|██▎       | 10.5M/45.0M [00:15<00:15, 2.18MB/s]\n",
      "igs20_2353.atx:  24%|██▍       | 10.9M/45.0M [00:15<00:13, 2.45MB/s]\n",
      "igs20_2353.atx:  25%|██▌       | 11.4M/45.0M [00:15<00:11, 2.86MB/s]\n",
      "igs20_2353.atx:  26%|██▌       | 11.6M/45.0M [00:16<00:12, 2.73MB/s]\n",
      "igs20_2353.atx:  27%|██▋       | 12.1M/45.0M [00:16<00:10, 3.06MB/s]\n",
      "igs20_2353.atx:  28%|██▊       | 12.6M/45.0M [00:16<00:09, 3.56MB/s]\n",
      "igs20_2353.atx:  29%|██▊       | 12.9M/45.0M [00:16<00:10, 3.12MB/s]\n",
      "igs20_2353.atx:  30%|██▉       | 13.4M/45.0M [00:16<00:09, 3.27MB/s]\n",
      "igs20_2353.atx:  31%|███       | 14.0M/45.0M [00:16<00:07, 3.90MB/s]\n",
      "igs20_2353.atx:  32%|███▏      | 14.4M/45.0M [00:16<00:08, 3.66MB/s]\n",
      "igs20_2353.atx:  33%|███▎      | 14.8M/45.0M [00:16<00:08, 3.71MB/s]\n",
      "igs20_2353.atx:  34%|███▍      | 15.5M/45.0M [00:16<00:06, 4.40MB/s]\n",
      "igs20_2353.atx:  35%|███▌      | 15.9M/45.0M [00:17<00:07, 4.09MB/s]\n",
      "igs20_2353.atx:  36%|███▋      | 16.4M/45.0M [00:17<00:07, 4.04MB/s]\n",
      "igs20_2353.atx:  38%|███▊      | 17.1M/45.0M [00:17<00:05, 4.71MB/s]\n",
      "igs20_2353.atx:  39%|███▉      | 17.6M/45.0M [00:17<00:06, 4.22MB/s]\n",
      "igs20_2353.atx:  40%|████      | 18.2M/45.0M [00:17<00:06, 4.29MB/s]\n",
      "igs20_2353.atx:  42%|████▏     | 18.9M/45.0M [00:17<00:05, 5.17MB/s]\n",
      "igs20_2353.atx:  43%|████▎     | 19.5M/45.0M [00:17<00:05, 4.84MB/s]\n",
      "igs20_2353.atx:  45%|████▍     | 20.1M/45.0M [00:17<00:05, 4.86MB/s]\n",
      "igs20_2353.atx:  46%|████▌     | 20.8M/45.0M [00:18<00:04, 5.45MB/s]\n",
      "igs20_2353.atx:  47%|████▋     | 21.3M/45.0M [00:18<00:04, 5.11MB/s]\n",
      "igs20_2353.atx:  49%|████▉     | 22.1M/45.0M [00:18<00:04, 5.47MB/s]\n",
      "igs20_2353.atx:  51%|█████     | 22.8M/45.0M [00:18<00:03, 5.85MB/s]\n",
      "igs20_2353.atx:  52%|█████▏    | 23.4M/45.0M [00:18<00:03, 5.44MB/s]\n",
      "igs20_2353.atx:  54%|█████▍    | 24.4M/45.0M [00:18<00:03, 6.46MB/s]\n",
      "igs20_2353.atx:  56%|█████▌    | 25.0M/45.0M [00:18<00:03, 6.15MB/s]\n",
      "igs20_2353.atx:  57%|█████▋    | 25.7M/45.0M [00:18<00:03, 5.97MB/s]\n",
      "igs20_2353.atx:  59%|█████▉    | 26.7M/45.0M [00:18<00:02, 7.01MB/s]\n",
      "igs20_2353.atx:  61%|██████    | 27.4M/45.0M [00:19<00:02, 6.59MB/s]\n",
      "igs20_2353.atx:  63%|██████▎   | 28.2M/45.0M [00:19<00:02, 6.69MB/s]\n",
      "igs20_2353.atx:  65%|██████▍   | 29.1M/45.0M [00:19<00:02, 7.47MB/s]\n",
      "igs20_2353.atx:  66%|██████▋   | 29.9M/45.0M [00:19<00:02, 6.95MB/s]\n",
      "igs20_2353.atx:  69%|██████▊   | 30.9M/45.0M [00:19<00:01, 7.79MB/s]\n",
      "igs20_2353.atx:  70%|███████   | 31.7M/45.0M [00:19<00:01, 7.51MB/s]\n",
      "igs20_2353.atx:  72%|███████▏  | 32.5M/45.0M [00:19<00:01, 7.56MB/s]\n",
      "igs20_2353.atx:  74%|███████▍  | 33.3M/45.0M [00:19<00:01, 7.83MB/s]\n",
      "igs20_2353.atx:  76%|███████▌  | 34.1M/45.0M [00:19<00:01, 7.56MB/s]\n",
      "igs20_2353.atx:  78%|███████▊  | 34.9M/45.0M [00:20<00:01, 7.63MB/s]\n",
      "igs20_2353.atx:  79%|███████▉  | 35.7M/45.0M [00:20<00:01, 7.55MB/s]\n",
      "igs20_2353.atx:  81%|████████▏ | 36.6M/45.0M [00:20<00:01, 7.99MB/s]\n",
      "igs20_2353.atx:  83%|████████▎ | 37.4M/45.0M [00:20<00:00, 8.01MB/s]\n",
      "igs20_2353.atx:  85%|████████▌ | 38.4M/45.0M [00:20<00:00, 8.59MB/s]\n",
      "igs20_2353.atx:  87%|████████▋ | 39.3M/45.0M [00:20<00:00, 8.54MB/s]\n",
      "igs20_2353.atx:  90%|████████▉ | 40.4M/45.0M [00:20<00:00, 9.28MB/s]\n",
      "igs20_2353.atx:  92%|█████████▏| 41.4M/45.0M [00:20<00:00, 9.39MB/s]\n",
      "igs20_2353.atx:  94%|█████████▍| 42.5M/45.0M [00:20<00:00, 9.90MB/s]\n",
      "igs20_2353.atx:  97%|█████████▋| 43.5M/45.0M [00:20<00:00, 10.1MB/s]\n",
      "igs20_2353.atx:  99%|█████████▉| 44.5M/45.0M [00:21<00:00, 10.0MB/s]\n",
      "igs20_2353.atx: 100%|██████████| 45.0M/45.0M [00:21<00:00, 2.13MB/s]\n",
      "\n",
      "has14_2345.atx:   0%|          | 0.00/4.28M [00:00<?, ?B/s]\n",
      "has14_2345.atx:   0%|          | 8.19k/4.28M [00:00<02:54, 24.6kB/s]\n",
      "has14_2345.atx:   0%|          | 16.4k/4.28M [00:00<02:51, 24.8kB/s]\n",
      "has14_2345.atx:   1%|          | 49.2k/4.28M [00:01<01:13, 57.6kB/s]\n",
      "has14_2345.atx:   2%|▏         | 79.9k/4.28M [00:01<00:58, 72.2kB/s]\n",
      "has14_2345.atx:   3%|▎         | 128k/4.28M [00:01<00:41, 100kB/s]  \n",
      "has14_2345.atx:   5%|▍         | 200k/4.28M [00:01<00:29, 139kB/s]\n",
      "has14_2345.atx:   7%|▋         | 296k/4.28M [00:02<00:20, 190kB/s]\n",
      "has14_2345.atx:  11%|█         | 456k/4.28M [00:02<00:10, 356kB/s]\n",
      "has14_2345.atx:  12%|█▏        | 511k/4.28M [00:02<00:11, 332kB/s]\n",
      "has14_2345.atx:  16%|█▋        | 705k/4.28M [00:02<00:06, 556kB/s]\n",
      "has14_2345.atx:  18%|█▊        | 784k/4.28M [00:02<00:06, 510kB/s]\n",
      "has14_2345.atx:  25%|██▍       | 1.06M/4.28M [00:03<00:04, 658kB/s]\n",
      "has14_2345.atx:  37%|███▋      | 1.58M/4.28M [00:03<00:02, 1.32MB/s]\n",
      "has14_2345.atx:  41%|████      | 1.76M/4.28M [00:03<00:02, 1.19MB/s]\n",
      "has14_2345.atx:  55%|█████▌    | 2.37M/4.28M [00:03<00:00, 1.95MB/s]\n",
      "has14_2345.atx:  61%|██████    | 2.62M/4.28M [00:03<00:00, 1.73MB/s]\n",
      "has14_2345.atx:  83%|████████▎ | 3.56M/4.28M [00:04<00:00, 3.06MB/s]\n",
      "has14_2345.atx:  92%|█████████▏| 3.94M/4.28M [00:04<00:00, 2.65MB/s]\n",
      "has14_2345.atx: 100%|██████████| 4.28M/4.28M [00:04<00:00, 1.00MB/s]\n",
      "\n",
      "I20.ATX:   0%|          | 0.00/51.0M [00:00<?, ?B/s]\n",
      "I20.ATX:   0%|          | 14.3k/51.0M [00:00<17:36, 48.2kB/s]\n",
      "I20.ATX:   0%|          | 39.9k/51.0M [00:00<11:50, 71.7kB/s]\n",
      "I20.ATX:   0%|          | 99.3k/51.0M [00:00<06:29, 131kB/s] \n",
      "I20.ATX:   0%|          | 188k/51.0M [00:01<04:16, 198kB/s] \n",
      "I20.ATX:   1%|          | 286k/51.0M [00:01<03:24, 249kB/s]\n",
      "I20.ATX:   1%|          | 386k/51.0M [00:01<03:02, 278kB/s]\n",
      "I20.ATX:   1%|          | 490k/51.0M [00:02<02:45, 305kB/s]\n",
      "I20.ATX:   1%|          | 601k/51.0M [00:02<02:37, 320kB/s]\n",
      "I20.ATX:   1%|▏         | 717k/51.0M [00:02<02:28, 339kB/s]\n",
      "I20.ATX:   2%|▏         | 839k/51.0M [00:02<02:16, 368kB/s]\n",
      "I20.ATX:   2%|▏         | 966k/51.0M [00:03<02:07, 392kB/s]\n",
      "I20.ATX:   2%|▏         | 1.10M/51.0M [00:03<01:58, 420kB/s]\n",
      "I20.ATX:   2%|▏         | 1.24M/51.0M [00:03<01:51, 447kB/s]\n",
      "I20.ATX:   3%|▎         | 1.39M/51.0M [00:04<01:45, 469kB/s]\n",
      "I20.ATX:   3%|▎         | 1.54M/51.0M [00:04<01:39, 497kB/s]\n",
      "I20.ATX:   3%|▎         | 1.70M/51.0M [00:04<01:34, 524kB/s]\n",
      "I20.ATX:   4%|▎         | 1.87M/51.0M [00:04<01:12, 678kB/s]\n",
      "I20.ATX:   4%|▍         | 1.96M/51.0M [00:04<01:18, 625kB/s]\n",
      "I20.ATX:   4%|▍         | 2.06M/51.0M [00:05<01:31, 534kB/s]\n",
      "I20.ATX:   4%|▍         | 2.24M/51.0M [00:05<01:05, 739kB/s]\n",
      "I20.ATX:   5%|▍         | 2.34M/51.0M [00:05<01:11, 676kB/s]\n",
      "I20.ATX:   5%|▍         | 2.44M/51.0M [00:05<01:06, 732kB/s]\n",
      "I20.ATX:   5%|▍         | 2.53M/51.0M [00:05<01:14, 650kB/s]\n",
      "I20.ATX:   5%|▌         | 2.65M/51.0M [00:05<01:20, 597kB/s]\n",
      "I20.ATX:   6%|▌         | 2.86M/51.0M [00:06<00:57, 830kB/s]\n",
      "I20.ATX:   6%|▌         | 2.96M/51.0M [00:06<01:04, 740kB/s]\n",
      "I20.ATX:   6%|▌         | 3.10M/51.0M [00:06<01:09, 685kB/s]\n",
      "I20.ATX:   7%|▋         | 3.33M/51.0M [00:06<00:52, 916kB/s]\n",
      "I20.ATX:   7%|▋         | 3.44M/51.0M [00:06<00:58, 809kB/s]\n",
      "I20.ATX:   7%|▋         | 3.59M/51.0M [00:06<00:51, 924kB/s]\n",
      "I20.ATX:   7%|▋         | 3.69M/51.0M [00:07<00:56, 835kB/s]\n",
      "I20.ATX:   8%|▊         | 3.85M/51.0M [00:07<00:48, 967kB/s]\n",
      "I20.ATX:   8%|▊         | 3.95M/51.0M [00:07<00:54, 866kB/s]\n",
      "I20.ATX:   8%|▊         | 4.13M/51.0M [00:07<00:46, 1.01MB/s]\n",
      "I20.ATX:   8%|▊         | 4.24M/51.0M [00:07<00:50, 920kB/s] \n",
      "I20.ATX:   9%|▊         | 4.42M/51.0M [00:07<00:43, 1.06MB/s]\n",
      "I20.ATX:   9%|▉         | 4.53M/51.0M [00:07<00:50, 924kB/s] \n",
      "I20.ATX:   9%|▉         | 4.73M/51.0M [00:08<00:40, 1.14MB/s]\n",
      "I20.ATX:  10%|▉         | 4.85M/51.0M [00:08<00:50, 916kB/s] \n",
      "I20.ATX:  10%|▉         | 5.06M/51.0M [00:08<00:45, 1.01MB/s]\n",
      "I20.ATX:  10%|█         | 5.19M/51.0M [00:08<00:43, 1.05MB/s]\n",
      "I20.ATX:  11%|█         | 5.38M/51.0M [00:08<00:36, 1.24MB/s]\n",
      "I20.ATX:  11%|█         | 5.51M/51.0M [00:08<00:41, 1.08MB/s]\n",
      "I20.ATX:  11%|█         | 5.71M/51.0M [00:08<00:35, 1.27MB/s]\n",
      "I20.ATX:  11%|█▏        | 5.85M/51.0M [00:09<00:37, 1.20MB/s]\n",
      "I20.ATX:  12%|█▏        | 6.04M/51.0M [00:09<00:32, 1.39MB/s]\n",
      "I20.ATX:  12%|█▏        | 6.23M/51.0M [00:09<00:29, 1.51MB/s]\n",
      "I20.ATX:  13%|█▎        | 6.39M/51.0M [00:09<00:31, 1.41MB/s]\n",
      "I20.ATX:  13%|█▎        | 6.61M/51.0M [00:09<00:27, 1.61MB/s]\n",
      "I20.ATX:  13%|█▎        | 6.78M/51.0M [00:09<00:29, 1.48MB/s]\n",
      "I20.ATX:  14%|█▎        | 6.99M/51.0M [00:09<00:26, 1.66MB/s]\n",
      "I20.ATX:  14%|█▍        | 7.20M/51.0M [00:09<00:24, 1.75MB/s]\n",
      "I20.ATX:  14%|█▍        | 7.38M/51.0M [00:09<00:27, 1.59MB/s]\n",
      "I20.ATX:  15%|█▍        | 7.59M/51.0M [00:10<00:25, 1.72MB/s]\n",
      "I20.ATX:  15%|█▌        | 7.78M/51.0M [00:10<00:24, 1.78MB/s]\n",
      "I20.ATX:  16%|█▌        | 7.98M/51.0M [00:10<00:23, 1.83MB/s]\n",
      "I20.ATX:  16%|█▌        | 8.25M/51.0M [00:10<00:20, 2.05MB/s]\n",
      "I20.ATX:  17%|█▋        | 8.46M/51.0M [00:10<00:22, 1.90MB/s]\n",
      "I20.ATX:  17%|█▋        | 8.76M/51.0M [00:10<00:19, 2.19MB/s]\n",
      "I20.ATX:  18%|█▊        | 8.99M/51.0M [00:10<00:19, 2.19MB/s]\n",
      "I20.ATX:  18%|█▊        | 9.21M/51.0M [00:10<00:19, 2.19MB/s]\n",
      "I20.ATX:  19%|█▊        | 9.51M/51.0M [00:10<00:17, 2.41MB/s]\n",
      "I20.ATX:  19%|█▉        | 9.75M/51.0M [00:11<00:18, 2.24MB/s]\n",
      "I20.ATX:  20%|█▉        | 10.1M/51.0M [00:11<00:15, 2.57MB/s]\n",
      "I20.ATX:  20%|██        | 10.4M/51.0M [00:11<00:15, 2.57MB/s]\n",
      "I20.ATX:  21%|██        | 10.6M/51.0M [00:11<00:16, 2.40MB/s]\n",
      "I20.ATX:  22%|██▏       | 11.0M/51.0M [00:11<00:14, 2.74MB/s]\n",
      "I20.ATX:  22%|██▏       | 11.3M/51.0M [00:11<00:16, 2.43MB/s]\n",
      "I20.ATX:  23%|██▎       | 11.7M/51.0M [00:11<00:14, 2.80MB/s]\n",
      "I20.ATX:  23%|██▎       | 11.9M/51.0M [00:11<00:14, 2.79MB/s]\n",
      "I20.ATX:  24%|██▍       | 12.2M/51.0M [00:12<00:16, 2.39MB/s]\n",
      "I20.ATX:  25%|██▍       | 12.7M/51.0M [00:12<00:12, 2.98MB/s]\n",
      "I20.ATX:  26%|██▌       | 13.0M/51.0M [00:12<00:14, 2.68MB/s]\n",
      "I20.ATX:  26%|██▋       | 13.4M/51.0M [00:12<00:12, 3.06MB/s]\n",
      "I20.ATX:  27%|██▋       | 13.8M/51.0M [00:12<00:11, 3.11MB/s]\n",
      "I20.ATX:  28%|██▊       | 14.1M/51.0M [00:12<00:13, 2.80MB/s]\n",
      "I20.ATX:  29%|██▊       | 14.6M/51.0M [00:12<00:10, 3.31MB/s]\n",
      "I20.ATX:  29%|██▉       | 14.9M/51.0M [00:12<00:10, 3.31MB/s]\n",
      "I20.ATX:  30%|██▉       | 15.3M/51.0M [00:13<00:21, 1.67MB/s]\n",
      "I20.ATX:  33%|███▎      | 16.6M/51.0M [00:13<00:09, 3.63MB/s]\n",
      "I20.ATX:  34%|███▍      | 17.2M/51.0M [00:13<00:10, 3.31MB/s]\n",
      "I20.ATX:  35%|███▍      | 17.7M/51.0M [00:13<00:10, 3.10MB/s]\n",
      "I20.ATX:  36%|███▌      | 18.2M/51.0M [00:13<00:10, 3.06MB/s]\n",
      "I20.ATX:  36%|███▋      | 18.5M/51.0M [00:14<00:10, 2.96MB/s]\n",
      "I20.ATX:  37%|███▋      | 18.9M/51.0M [00:14<00:10, 2.98MB/s]\n",
      "I20.ATX:  38%|███▊      | 19.2M/51.0M [00:14<00:10, 2.90MB/s]\n",
      "I20.ATX:  38%|███▊      | 19.5M/51.0M [00:14<00:10, 2.93MB/s]\n",
      "I20.ATX:  39%|███▉      | 20.0M/51.0M [00:14<00:09, 3.20MB/s]\n",
      "I20.ATX:  40%|███▉      | 20.3M/51.0M [00:14<00:09, 3.12MB/s]\n",
      "I20.ATX:  40%|████      | 20.6M/51.0M [00:14<00:09, 3.13MB/s]\n",
      "I20.ATX:  41%|████      | 21.0M/51.0M [00:14<00:09, 3.30MB/s]\n",
      "I20.ATX:  42%|████▏     | 21.3M/51.0M [00:14<00:09, 3.15MB/s]\n",
      "I20.ATX:  43%|████▎     | 21.8M/51.0M [00:15<00:08, 3.45MB/s]\n",
      "I20.ATX:  43%|████▎     | 22.1M/51.0M [00:15<00:08, 3.22MB/s]\n",
      "I20.ATX:  44%|████▍     | 22.4M/51.0M [00:15<00:08, 3.21MB/s]\n",
      "I20.ATX:  45%|████▍     | 22.9M/51.0M [00:15<00:07, 3.52MB/s]\n",
      "I20.ATX:  46%|████▌     | 23.2M/51.0M [00:15<00:08, 3.39MB/s]\n",
      "I20.ATX:  46%|████▋     | 23.7M/51.0M [00:15<00:07, 3.60MB/s]\n",
      "I20.ATX:  47%|████▋     | 24.0M/51.0M [00:15<00:07, 3.39MB/s]\n",
      "I20.ATX:  48%|████▊     | 24.4M/51.0M [00:15<00:08, 3.22MB/s]\n",
      "I20.ATX:  49%|████▉     | 24.9M/51.0M [00:15<00:07, 3.66MB/s]\n",
      "I20.ATX:  49%|████▉     | 25.2M/51.0M [00:16<00:08, 3.18MB/s]\n",
      "I20.ATX:  50%|█████     | 25.6M/51.0M [00:16<00:07, 3.39MB/s]\n",
      "I20.ATX:  51%|█████     | 26.0M/51.0M [00:16<00:07, 3.34MB/s]\n",
      "I20.ATX:  52%|█████▏    | 26.3M/51.0M [00:16<00:07, 3.25MB/s]\n",
      "I20.ATX:  53%|█████▎    | 26.8M/51.0M [00:16<00:06, 3.59MB/s]\n",
      "I20.ATX:  53%|█████▎    | 27.1M/51.0M [00:16<00:07, 3.25MB/s]\n",
      "I20.ATX:  54%|█████▍    | 27.5M/51.0M [00:16<00:08, 2.76MB/s]\n",
      "I20.ATX:  55%|█████▍    | 27.9M/51.0M [00:17<00:12, 1.89MB/s]\n",
      "I20.ATX:  56%|█████▌    | 28.6M/51.0M [00:17<00:08, 2.76MB/s]\n",
      "I20.ATX:  57%|█████▋    | 29.0M/51.0M [00:18<00:17, 1.29MB/s]\n",
      "I20.ATX:  57%|█████▋    | 29.3M/51.0M [00:18<00:19, 1.10MB/s]\n",
      "I20.ATX:  58%|█████▊    | 29.5M/51.0M [00:18<00:22, 966kB/s] \n",
      "I20.ATX:  58%|█████▊    | 29.7M/51.0M [00:19<00:30, 695kB/s]\n",
      "I20.ATX:  59%|█████▊    | 29.9M/51.0M [00:19<00:25, 840kB/s]\n",
      "I20.ATX:  59%|█████▉    | 30.1M/51.0M [00:19<00:26, 786kB/s]\n",
      "I20.ATX:  59%|█████▉    | 30.2M/51.0M [00:19<00:27, 747kB/s]\n",
      "I20.ATX:  59%|█████▉    | 30.3M/51.0M [00:20<00:27, 752kB/s]\n",
      "I20.ATX:  60%|█████▉    | 30.4M/51.0M [00:20<00:26, 768kB/s]\n",
      "I20.ATX:  60%|█████▉    | 30.5M/51.0M [00:20<00:26, 760kB/s]\n",
      "I20.ATX:  60%|█████▉    | 30.6M/51.0M [00:20<00:26, 775kB/s]\n",
      "I20.ATX:  60%|██████    | 30.7M/51.0M [00:20<00:27, 744kB/s]\n",
      "I20.ATX:  60%|██████    | 30.7M/51.0M [00:20<00:28, 703kB/s]\n",
      "I20.ATX:  60%|██████    | 30.8M/51.0M [00:20<00:29, 687kB/s]\n",
      "I20.ATX:  61%|██████    | 30.9M/51.0M [00:20<00:28, 694kB/s]\n",
      "I20.ATX:  61%|██████    | 31.0M/51.0M [00:21<00:28, 706kB/s]\n",
      "I20.ATX:  61%|██████    | 31.1M/51.0M [00:21<00:26, 740kB/s]\n",
      "I20.ATX:  61%|██████    | 31.2M/51.0M [00:21<00:24, 800kB/s]\n",
      "I20.ATX:  61%|██████▏   | 31.2M/51.0M [00:21<00:25, 766kB/s]\n",
      "I20.ATX:  61%|██████▏   | 31.3M/51.0M [00:21<00:25, 769kB/s]\n",
      "I20.ATX:  62%|██████▏   | 31.4M/51.0M [00:21<00:26, 750kB/s]\n",
      "I20.ATX:  62%|██████▏   | 31.5M/51.0M [00:21<00:26, 734kB/s]\n",
      "I20.ATX:  62%|██████▏   | 31.5M/51.0M [00:21<00:26, 725kB/s]\n",
      "I20.ATX:  62%|██████▏   | 31.6M/51.0M [00:21<00:27, 714kB/s]\n",
      "I20.ATX:  62%|██████▏   | 31.7M/51.0M [00:22<00:26, 720kB/s]\n",
      "I20.ATX:  62%|██████▏   | 31.8M/51.0M [00:22<00:27, 709kB/s]\n",
      "I20.ATX:  62%|██████▏   | 31.8M/51.0M [00:22<00:26, 713kB/s]\n",
      "I20.ATX:  63%|██████▎   | 31.9M/51.0M [00:22<00:25, 752kB/s]\n",
      "I20.ATX:  63%|██████▎   | 32.0M/51.0M [00:22<00:23, 808kB/s]\n",
      "I20.ATX:  63%|██████▎   | 32.1M/51.0M [00:22<00:22, 831kB/s]\n",
      "I20.ATX:  63%|██████▎   | 32.2M/51.0M [00:22<00:21, 866kB/s]\n",
      "I20.ATX:  63%|██████▎   | 32.3M/51.0M [00:22<00:19, 953kB/s]\n",
      "I20.ATX:  64%|██████▎   | 32.4M/51.0M [00:22<00:19, 946kB/s]\n",
      "I20.ATX:  64%|██████▍   | 32.5M/51.0M [00:22<00:21, 854kB/s]\n",
      "I20.ATX:  64%|██████▍   | 32.6M/51.0M [00:23<00:20, 876kB/s]\n",
      "I20.ATX:  64%|██████▍   | 32.7M/51.0M [00:23<00:21, 837kB/s]\n",
      "I20.ATX:  64%|██████▍   | 32.8M/51.0M [00:23<00:22, 825kB/s]\n",
      "I20.ATX:  64%|██████▍   | 32.9M/51.0M [00:23<00:22, 813kB/s]\n",
      "I20.ATX:  65%|██████▍   | 33.0M/51.0M [00:23<00:23, 770kB/s]\n",
      "I20.ATX:  65%|██████▍   | 33.0M/51.0M [00:23<00:22, 795kB/s]\n",
      "I20.ATX:  65%|██████▍   | 33.1M/51.0M [00:23<00:22, 780kB/s]\n",
      "I20.ATX:  65%|██████▌   | 33.2M/51.0M [00:23<00:22, 801kB/s]\n",
      "I20.ATX:  65%|██████▌   | 33.3M/51.0M [00:23<00:22, 783kB/s]\n",
      "I20.ATX:  65%|██████▌   | 33.4M/51.0M [00:24<00:21, 834kB/s]\n",
      "I20.ATX:  66%|██████▌   | 33.5M/51.0M [00:24<00:18, 939kB/s]\n",
      "I20.ATX:  66%|██████▌   | 33.6M/51.0M [00:24<00:16, 1.02MB/s]\n",
      "I20.ATX:  66%|██████▌   | 33.8M/51.0M [00:24<00:15, 1.10MB/s]\n",
      "I20.ATX:  67%|██████▋   | 33.9M/51.0M [00:24<00:13, 1.23MB/s]\n",
      "I20.ATX:  67%|██████▋   | 34.1M/51.0M [00:24<00:11, 1.49MB/s]\n",
      "I20.ATX:  67%|██████▋   | 34.4M/51.0M [00:24<00:09, 1.71MB/s]\n",
      "I20.ATX:  68%|██████▊   | 34.5M/51.0M [00:24<00:09, 1.73MB/s]\n",
      "I20.ATX:  68%|██████▊   | 34.8M/51.0M [00:24<00:08, 1.96MB/s]\n",
      "I20.ATX:  69%|██████▊   | 35.0M/51.0M [00:24<00:07, 2.06MB/s]\n",
      "I20.ATX:  69%|██████▉   | 35.2M/51.0M [00:25<00:07, 2.06MB/s]\n",
      "I20.ATX:  70%|██████▉   | 35.5M/51.0M [00:25<00:06, 2.22MB/s]\n",
      "I20.ATX:  70%|███████   | 35.7M/51.0M [00:25<00:06, 2.19MB/s]\n",
      "I20.ATX:  71%|███████   | 36.0M/51.0M [00:25<00:06, 2.25MB/s]\n",
      "I20.ATX:  71%|███████   | 36.2M/51.0M [00:25<00:06, 2.34MB/s]\n",
      "I20.ATX:  71%|███████▏  | 36.4M/51.0M [00:25<00:06, 2.20MB/s]\n",
      "I20.ATX:  72%|███████▏  | 36.7M/51.0M [00:25<00:06, 2.22MB/s]\n",
      "I20.ATX:  72%|███████▏  | 36.9M/51.0M [00:25<00:06, 2.33MB/s]\n",
      "I20.ATX:  73%|███████▎  | 37.2M/51.0M [00:25<00:06, 2.01MB/s]\n",
      "I20.ATX:  73%|███████▎  | 37.5M/51.0M [00:26<00:06, 2.21MB/s]\n",
      "I20.ATX:  74%|███████▍  | 37.7M/51.0M [00:26<00:06, 2.10MB/s]\n",
      "I20.ATX:  74%|███████▍  | 37.9M/51.0M [00:26<00:06, 2.11MB/s]\n",
      "I20.ATX:  75%|███████▍  | 38.2M/51.0M [00:26<00:05, 2.29MB/s]\n",
      "I20.ATX:  75%|███████▌  | 38.4M/51.0M [00:26<00:06, 2.05MB/s]\n",
      "I20.ATX:  76%|███████▌  | 38.7M/51.0M [00:26<00:05, 2.22MB/s]\n",
      "I20.ATX:  76%|███████▋  | 39.0M/51.0M [00:26<00:05, 2.32MB/s]\n",
      "I20.ATX:  77%|███████▋  | 39.2M/51.0M [00:26<00:05, 2.15MB/s]\n",
      "I20.ATX:  78%|███████▊  | 39.5M/51.0M [00:26<00:04, 2.50MB/s]\n",
      "I20.ATX:  78%|███████▊  | 39.8M/51.0M [00:27<00:05, 2.18MB/s]\n",
      "I20.ATX:  79%|███████▊  | 40.1M/51.0M [00:27<00:04, 2.46MB/s]\n",
      "I20.ATX:  79%|███████▉  | 40.4M/51.0M [00:27<00:04, 2.26MB/s]\n",
      "I20.ATX:  80%|███████▉  | 40.7M/51.0M [00:27<00:04, 2.42MB/s]\n",
      "I20.ATX:  80%|████████  | 40.9M/51.0M [00:27<00:04, 2.27MB/s]\n",
      "I20.ATX:  81%|████████  | 41.2M/51.0M [00:27<00:04, 2.21MB/s]\n",
      "I20.ATX:  81%|████████▏ | 41.5M/51.0M [00:27<00:03, 2.54MB/s]\n",
      "I20.ATX:  82%|████████▏ | 41.8M/51.0M [00:27<00:04, 2.26MB/s]\n",
      "I20.ATX:  83%|████████▎ | 42.1M/51.0M [00:28<00:03, 2.56MB/s]\n",
      "I20.ATX:  83%|████████▎ | 42.4M/51.0M [00:28<00:03, 2.15MB/s]\n",
      "I20.ATX:  84%|████████▎ | 42.7M/51.0M [00:28<00:03, 2.36MB/s]\n",
      "I20.ATX:  84%|████████▍ | 42.9M/51.0M [00:28<00:03, 2.11MB/s]\n",
      "I20.ATX:  85%|████████▍ | 43.2M/51.0M [00:28<00:03, 2.12MB/s]\n",
      "I20.ATX:  85%|████████▌ | 43.5M/51.0M [00:28<00:03, 2.40MB/s]\n",
      "I20.ATX:  86%|████████▌ | 43.8M/51.0M [00:28<00:03, 2.21MB/s]\n",
      "I20.ATX:  86%|████████▋ | 44.0M/51.0M [00:28<00:03, 2.24MB/s]\n",
      "I20.ATX:  87%|████████▋ | 44.2M/51.0M [00:29<00:03, 2.18MB/s]\n",
      "I20.ATX:  87%|████████▋ | 44.5M/51.0M [00:29<00:03, 2.04MB/s]\n",
      "I20.ATX:  88%|████████▊ | 44.7M/51.0M [00:29<00:02, 2.26MB/s]\n",
      "I20.ATX:  88%|████████▊ | 45.0M/51.0M [00:29<00:02, 2.24MB/s]\n",
      "I20.ATX:  89%|████████▊ | 45.2M/51.0M [00:29<00:02, 2.12MB/s]\n",
      "I20.ATX:  89%|████████▉ | 45.5M/51.0M [00:29<00:02, 2.27MB/s]\n",
      "I20.ATX:  90%|████████▉ | 45.7M/51.0M [00:30<00:06, 813kB/s] \n",
      "I20.ATX:  91%|█████████ | 46.4M/51.0M [00:30<00:03, 1.47MB/s]\n",
      "I20.ATX:  92%|█████████▏| 46.7M/51.0M [00:30<00:02, 1.47MB/s]\n",
      "I20.ATX:  93%|█████████▎| 47.3M/51.0M [00:30<00:01, 2.05MB/s]\n",
      "I20.ATX:  93%|█████████▎| 47.6M/51.0M [00:31<00:02, 1.66MB/s]\n",
      "I20.ATX:  94%|█████████▍| 47.8M/51.0M [00:31<00:02, 1.52MB/s]\n",
      "I20.ATX:  94%|█████████▍| 48.0M/51.0M [00:31<00:01, 1.51MB/s]\n",
      "I20.ATX:  95%|█████████▍| 48.2M/51.0M [00:31<00:02, 1.31MB/s]\n",
      "I20.ATX:  95%|█████████▍| 48.4M/51.0M [00:31<00:01, 1.41MB/s]\n",
      "I20.ATX:  95%|█████████▌| 48.6M/51.0M [00:32<00:01, 1.25MB/s]\n",
      "I20.ATX:  96%|█████████▌| 48.8M/51.0M [00:32<00:01, 1.38MB/s]\n",
      "I20.ATX:  96%|█████████▌| 48.9M/51.0M [00:32<00:01, 1.20MB/s]\n",
      "I20.ATX:  96%|█████████▋| 49.1M/51.0M [00:32<00:01, 1.24MB/s]\n",
      "I20.ATX:  97%|█████████▋| 49.2M/51.0M [00:32<00:01, 1.21MB/s]\n",
      "I20.ATX:  97%|█████████▋| 49.3M/51.0M [00:32<00:01, 1.18MB/s]\n",
      "I20.ATX:  97%|█████████▋| 49.6M/51.0M [00:32<00:01, 1.39MB/s]\n",
      "I20.ATX:  97%|█████████▋| 49.7M/51.0M [00:32<00:01, 1.17MB/s]\n",
      "I20.ATX:  98%|█████████▊| 49.8M/51.0M [00:33<00:00, 1.21MB/s]\n",
      "I20.ATX:  98%|█████████▊| 50.0M/51.0M [00:33<00:00, 1.31MB/s]\n",
      "I20.ATX:  98%|█████████▊| 50.1M/51.0M [00:33<00:00, 1.19MB/s]\n",
      "I20.ATX:  99%|█████████▉| 50.4M/51.0M [00:33<00:00, 1.44MB/s]\n",
      "I20.ATX:  99%|█████████▉| 50.5M/51.0M [00:33<00:00, 1.26MB/s]\n",
      "I20.ATX:  99%|█████████▉| 50.7M/51.0M [00:33<00:00, 1.42MB/s]\n",
      "I20.ATX: 100%|█████████▉| 50.9M/51.0M [00:33<00:00, 1.33MB/s]\n",
      "I20.ATX: 100%|██████████| 51.0M/51.0M [00:33<00:00, 1.51MB/s]\n",
      "\n",
      "M20.ATX:   0%|          | 0.00/27.7M [00:00<?, ?B/s]\n",
      "M20.ATX:   0%|          | 14.3k/27.7M [00:00<08:50, 52.1kB/s]\n",
      "M20.ATX:   0%|          | 39.9k/27.7M [00:00<06:13, 74.1kB/s]\n",
      "M20.ATX:   0%|          | 99.3k/27.7M [00:00<03:22, 136kB/s] \n",
      "M20.ATX:   1%|          | 189k/27.7M [00:01<02:09, 212kB/s] \n",
      "M20.ATX:   1%|          | 286k/27.7M [00:01<01:44, 263kB/s]\n",
      "M20.ATX:   1%|▏         | 386k/27.7M [00:01<01:31, 298kB/s]\n",
      "M20.ATX:   2%|▏         | 489k/27.7M [00:01<01:23, 327kB/s]\n",
      "M20.ATX:   2%|▏         | 600k/27.7M [00:02<01:16, 354kB/s]\n",
      "M20.ATX:   3%|▎         | 716k/27.7M [00:02<01:11, 378kB/s]\n",
      "M20.ATX:   3%|▎         | 838k/27.7M [00:02<01:07, 399kB/s]\n",
      "M20.ATX:   3%|▎         | 965k/27.7M [00:03<01:03, 421kB/s]\n",
      "M20.ATX:   4%|▍         | 1.10M/27.7M [00:03<00:59, 444kB/s]\n",
      "M20.ATX:   4%|▍         | 1.24M/27.7M [00:03<00:56, 464kB/s]\n",
      "M20.ATX:   5%|▌         | 1.39M/27.7M [00:03<00:46, 560kB/s]\n",
      "M20.ATX:   5%|▌         | 1.45M/27.7M [00:03<00:48, 545kB/s]\n",
      "M20.ATX:   6%|▌         | 1.54M/27.7M [00:03<00:45, 571kB/s]\n",
      "M20.ATX:   6%|▌         | 1.60M/27.7M [00:04<00:46, 557kB/s]\n",
      "M20.ATX:   6%|▌         | 1.70M/27.7M [00:04<00:44, 589kB/s]\n",
      "M20.ATX:   6%|▋         | 1.76M/27.7M [00:04<00:45, 570kB/s]\n",
      "M20.ATX:   7%|▋         | 1.87M/27.7M [00:04<00:41, 618kB/s]\n",
      "M20.ATX:   7%|▋         | 1.93M/27.7M [00:04<00:43, 595kB/s]\n",
      "M20.ATX:   7%|▋         | 2.05M/27.7M [00:04<00:39, 652kB/s]\n",
      "M20.ATX:   8%|▊         | 2.12M/27.7M [00:04<00:40, 626kB/s]\n",
      "M20.ATX:   8%|▊         | 2.24M/27.7M [00:05<00:37, 688kB/s]\n",
      "M20.ATX:   8%|▊         | 2.31M/27.7M [00:05<00:38, 659kB/s]\n",
      "M20.ATX:   9%|▉         | 2.44M/27.7M [00:05<00:35, 717kB/s]\n",
      "M20.ATX:   9%|▉         | 2.51M/27.7M [00:05<00:38, 661kB/s]\n",
      "M20.ATX:  10%|▉         | 2.64M/27.7M [00:05<00:35, 709kB/s]\n",
      "M20.ATX:  10%|▉         | 2.71M/27.7M [00:05<00:39, 634kB/s]\n",
      "M20.ATX:  10%|█         | 2.86M/27.7M [00:05<00:33, 738kB/s]\n",
      "M20.ATX:  11%|█         | 2.93M/27.7M [00:06<00:36, 671kB/s]\n",
      "M20.ATX:  11%|█         | 3.09M/27.7M [00:06<00:30, 799kB/s]\n",
      "M20.ATX:  11%|█▏        | 3.17M/27.7M [00:06<00:32, 746kB/s]\n",
      "M20.ATX:  12%|█▏        | 3.33M/27.7M [00:06<00:28, 853kB/s]\n",
      "M20.ATX:  12%|█▏        | 3.41M/27.7M [00:06<00:30, 793kB/s]\n",
      "M20.ATX:  13%|█▎        | 3.58M/27.7M [00:06<00:27, 892kB/s]\n",
      "M20.ATX:  13%|█▎        | 3.67M/27.7M [00:06<00:29, 816kB/s]\n",
      "M20.ATX:  14%|█▍        | 3.84M/27.7M [00:07<00:24, 962kB/s]\n",
      "M20.ATX:  14%|█▍        | 3.94M/27.7M [00:07<00:28, 842kB/s]\n",
      "M20.ATX:  15%|█▍        | 4.12M/27.7M [00:07<00:22, 1.05MB/s]\n",
      "M20.ATX:  15%|█▌        | 4.23M/27.7M [00:07<00:25, 916kB/s] \n",
      "M20.ATX:  16%|█▌        | 4.41M/27.7M [00:07<00:20, 1.12MB/s]\n",
      "M20.ATX:  16%|█▋        | 4.54M/27.7M [00:07<00:24, 950kB/s] \n",
      "M20.ATX:  17%|█▋        | 4.72M/27.7M [00:07<00:21, 1.09MB/s]\n",
      "M20.ATX:  17%|█▋        | 4.84M/27.7M [00:08<00:22, 1.02MB/s]\n",
      "M20.ATX:  18%|█▊        | 5.05M/27.7M [00:08<00:19, 1.17MB/s]\n",
      "M20.ATX:  19%|█▊        | 5.17M/27.7M [00:08<00:22, 1.02MB/s]\n",
      "M20.ATX:  19%|█▉        | 5.39M/27.7M [00:08<00:17, 1.25MB/s]\n",
      "M20.ATX:  20%|█▉        | 5.52M/27.7M [00:08<00:20, 1.06MB/s]\n",
      "M20.ATX:  21%|██        | 5.75M/27.7M [00:08<00:16, 1.33MB/s]\n",
      "M20.ATX:  21%|██▏       | 5.90M/27.7M [00:08<00:18, 1.15MB/s]\n",
      "M20.ATX:  22%|██▏       | 6.15M/27.7M [00:09<00:15, 1.42MB/s]\n",
      "M20.ATX:  23%|██▎       | 6.31M/27.7M [00:09<00:16, 1.28MB/s]\n",
      "M20.ATX:  24%|██▍       | 6.59M/27.7M [00:09<00:13, 1.57MB/s]\n",
      "M20.ATX:  24%|██▍       | 6.76M/27.7M [00:09<00:15, 1.35MB/s]\n",
      "M20.ATX:  25%|██▌       | 7.05M/27.7M [00:09<00:13, 1.56MB/s]\n",
      "M20.ATX:  26%|██▌       | 7.22M/27.7M [00:09<00:15, 1.36MB/s]\n",
      "M20.ATX:  27%|██▋       | 7.56M/27.7M [00:09<00:12, 1.60MB/s]\n",
      "M20.ATX:  28%|██▊       | 7.73M/27.7M [00:10<00:22, 871kB/s] \n",
      "M20.ATX:  29%|██▉       | 8.11M/27.7M [00:10<00:15, 1.23MB/s]\n",
      "M20.ATX:  31%|███       | 8.45M/27.7M [00:10<00:12, 1.57MB/s]\n",
      "M20.ATX:  31%|███▏      | 8.67M/27.7M [00:11<00:23, 794kB/s] \n",
      "M20.ATX:  34%|███▍      | 9.37M/27.7M [00:11<00:13, 1.32MB/s]\n",
      "M20.ATX:  35%|███▍      | 9.58M/27.7M [00:11<00:13, 1.36MB/s]\n",
      "M20.ATX:  35%|███▌      | 9.78M/27.7M [00:12<00:15, 1.15MB/s]\n",
      "M20.ATX:  36%|███▌      | 9.93M/27.7M [00:12<00:18, 972kB/s] \n",
      "M20.ATX:  36%|███▋      | 10.1M/27.7M [00:12<00:20, 850kB/s]\n",
      "M20.ATX:  37%|███▋      | 10.2M/27.7M [00:12<00:19, 904kB/s]\n",
      "M20.ATX:  37%|███▋      | 10.3M/27.7M [00:12<00:20, 841kB/s]\n",
      "M20.ATX:  38%|███▊      | 10.4M/27.7M [00:12<00:20, 858kB/s]\n",
      "M20.ATX:  38%|███▊      | 10.5M/27.7M [00:13<00:22, 775kB/s]\n",
      "M20.ATX:  38%|███▊      | 10.7M/27.7M [00:13<00:20, 838kB/s]\n",
      "M20.ATX:  39%|███▉      | 10.7M/27.7M [00:13<00:22, 759kB/s]\n",
      "M20.ATX:  39%|███▉      | 10.9M/27.7M [00:13<00:20, 825kB/s]\n",
      "M20.ATX:  40%|███▉      | 11.0M/27.7M [00:13<00:22, 736kB/s]\n",
      "M20.ATX:  40%|████      | 11.1M/27.7M [00:13<00:19, 833kB/s]\n",
      "M20.ATX:  40%|████      | 11.2M/27.7M [00:13<00:21, 765kB/s]\n",
      "M20.ATX:  41%|████      | 11.3M/27.7M [00:14<00:18, 870kB/s]\n",
      "M20.ATX:  41%|████▏     | 11.4M/27.7M [00:14<00:20, 798kB/s]\n",
      "M20.ATX:  42%|████▏     | 11.6M/27.7M [00:14<00:17, 899kB/s]\n",
      "M20.ATX:  42%|████▏     | 11.7M/27.7M [00:14<00:19, 823kB/s]\n",
      "M20.ATX:  43%|████▎     | 11.8M/27.7M [00:14<00:17, 910kB/s]\n",
      "M20.ATX:  43%|████▎     | 11.9M/27.7M [00:14<00:19, 828kB/s]\n",
      "M20.ATX:  44%|████▎     | 12.1M/27.7M [00:14<00:16, 923kB/s]\n",
      "M20.ATX:  44%|████▍     | 12.1M/27.7M [00:15<00:18, 839kB/s]\n",
      "M20.ATX:  44%|████▍     | 12.3M/27.7M [00:15<00:16, 929kB/s]\n",
      "M20.ATX:  45%|████▍     | 12.4M/27.7M [00:15<00:18, 839kB/s]\n",
      "M20.ATX:  45%|████▌     | 12.5M/27.7M [00:15<00:16, 901kB/s]\n",
      "M20.ATX:  46%|████▌     | 12.6M/27.7M [00:15<00:18, 825kB/s]\n",
      "M20.ATX:  46%|████▌     | 12.8M/27.7M [00:15<00:16, 917kB/s]\n",
      "M20.ATX:  46%|████▋     | 12.9M/27.7M [00:15<00:17, 835kB/s]\n",
      "M20.ATX:  47%|████▋     | 13.0M/27.7M [00:15<00:16, 916kB/s]\n",
      "M20.ATX:  47%|████▋     | 13.1M/27.7M [00:16<00:18, 809kB/s]\n",
      "M20.ATX:  48%|████▊     | 13.2M/27.7M [00:16<00:16, 879kB/s]\n",
      "M20.ATX:  48%|████▊     | 13.3M/27.7M [00:16<00:19, 749kB/s]\n",
      "M20.ATX:  49%|████▊     | 13.5M/27.7M [00:16<00:17, 827kB/s]\n",
      "M20.ATX:  49%|████▉     | 13.6M/27.7M [00:16<00:19, 707kB/s]\n",
      "M20.ATX:  49%|████▉     | 13.6M/27.7M [00:17<00:30, 462kB/s]\n",
      "M20.ATX:  50%|█████     | 13.9M/27.7M [00:17<00:19, 716kB/s]\n",
      "M20.ATX:  50%|█████     | 14.0M/27.7M [00:17<00:18, 740kB/s]\n",
      "M20.ATX:  51%|█████     | 14.1M/27.7M [00:17<00:20, 677kB/s]\n",
      "M20.ATX:  51%|█████     | 14.1M/27.7M [00:17<00:19, 694kB/s]\n",
      "M20.ATX:  51%|█████▏    | 14.2M/27.7M [00:17<00:20, 658kB/s]\n",
      "M20.ATX:  52%|█████▏    | 14.3M/27.7M [00:17<00:20, 666kB/s]\n",
      "M20.ATX:  52%|█████▏    | 14.4M/27.7M [00:18<00:19, 677kB/s]\n",
      "M20.ATX:  52%|█████▏    | 14.5M/27.7M [00:18<00:18, 695kB/s]\n",
      "M20.ATX:  53%|█████▎    | 14.6M/27.7M [00:18<00:18, 703kB/s]\n",
      "M20.ATX:  53%|█████▎    | 14.7M/27.7M [00:18<00:18, 698kB/s]\n",
      "M20.ATX:  53%|█████▎    | 14.8M/27.7M [00:18<00:17, 739kB/s]\n",
      "M20.ATX:  54%|█████▍    | 14.9M/27.7M [00:18<00:17, 720kB/s]\n",
      "M20.ATX:  54%|█████▍    | 15.0M/27.7M [00:18<00:16, 767kB/s]\n",
      "M20.ATX:  55%|█████▍    | 15.1M/27.7M [00:18<00:17, 734kB/s]\n",
      "M20.ATX:  55%|█████▌    | 15.2M/27.7M [00:19<00:16, 769kB/s]\n",
      "M20.ATX:  55%|█████▌    | 15.3M/27.7M [00:19<00:16, 757kB/s]\n",
      "M20.ATX:  56%|█████▌    | 15.5M/27.7M [00:19<00:15, 791kB/s]\n",
      "M20.ATX:  56%|█████▌    | 15.5M/27.7M [00:19<00:15, 778kB/s]\n",
      "M20.ATX:  57%|█████▋    | 15.7M/27.7M [00:19<00:14, 819kB/s]\n",
      "M20.ATX:  57%|█████▋    | 15.8M/27.7M [00:19<00:14, 803kB/s]\n",
      "M20.ATX:  57%|█████▋    | 15.9M/27.7M [00:19<00:13, 844kB/s]\n",
      "M20.ATX:  58%|█████▊    | 16.0M/27.7M [00:20<00:14, 815kB/s]\n",
      "M20.ATX:  58%|█████▊    | 16.1M/27.7M [00:20<00:13, 867kB/s]\n",
      "M20.ATX:  59%|█████▊    | 16.2M/27.7M [00:20<00:13, 833kB/s]\n",
      "M20.ATX:  59%|█████▉    | 16.3M/27.7M [00:20<00:12, 930kB/s]\n",
      "M20.ATX:  59%|█████▉    | 16.4M/27.7M [00:20<00:13, 811kB/s]\n",
      "M20.ATX:  60%|█████▉    | 16.6M/27.7M [00:20<00:11, 934kB/s]\n",
      "M20.ATX:  60%|██████    | 16.7M/27.7M [00:20<00:13, 822kB/s]\n",
      "M20.ATX:  61%|██████    | 16.8M/27.7M [00:20<00:11, 935kB/s]\n",
      "M20.ATX:  61%|██████    | 16.9M/27.7M [00:21<00:13, 821kB/s]\n",
      "M20.ATX:  62%|██████▏   | 17.0M/27.7M [00:21<00:11, 944kB/s]\n",
      "M20.ATX:  62%|██████▏   | 17.1M/27.7M [00:21<00:12, 811kB/s]\n",
      "M20.ATX:  62%|██████▏   | 17.3M/27.7M [00:21<00:11, 936kB/s]\n",
      "M20.ATX:  63%|██████▎   | 17.4M/27.7M [00:21<00:12, 821kB/s]\n",
      "M20.ATX:  63%|██████▎   | 17.5M/27.7M [00:21<00:10, 945kB/s]\n",
      "M20.ATX:  64%|██████▎   | 17.6M/27.7M [00:21<00:12, 829kB/s]\n",
      "M20.ATX:  64%|██████▍   | 17.7M/27.7M [00:22<00:10, 910kB/s]\n",
      "M20.ATX:  64%|██████▍   | 17.8M/27.7M [00:22<00:11, 877kB/s]\n",
      "M20.ATX:  65%|██████▍   | 17.9M/27.7M [00:22<00:11, 862kB/s]\n",
      "M20.ATX:  65%|██████▌   | 18.0M/27.7M [00:22<00:11, 813kB/s]\n",
      "M20.ATX:  65%|██████▌   | 18.1M/27.7M [00:22<00:11, 822kB/s]\n",
      "M20.ATX:  66%|██████▌   | 18.2M/27.7M [00:22<00:10, 925kB/s]\n",
      "M20.ATX:  66%|██████▌   | 18.3M/27.7M [00:22<00:10, 927kB/s]\n",
      "M20.ATX:  67%|██████▋   | 18.4M/27.7M [00:22<00:10, 867kB/s]\n",
      "M20.ATX:  67%|██████▋   | 18.5M/27.7M [00:22<00:11, 815kB/s]\n",
      "M20.ATX:  67%|██████▋   | 18.6M/27.7M [00:23<00:10, 842kB/s]\n",
      "M20.ATX:  68%|██████▊   | 18.7M/27.7M [00:23<00:09, 910kB/s]\n",
      "M20.ATX:  68%|██████▊   | 18.8M/27.7M [00:23<00:10, 815kB/s]\n",
      "M20.ATX:  68%|██████▊   | 18.9M/27.7M [00:23<00:09, 906kB/s]\n",
      "M20.ATX:  69%|██████▉   | 19.0M/27.7M [00:23<00:10, 863kB/s]\n",
      "M20.ATX:  69%|██████▉   | 19.1M/27.7M [00:23<00:09, 908kB/s]\n",
      "M20.ATX:  69%|██████▉   | 19.2M/27.7M [00:23<00:10, 830kB/s]\n",
      "M20.ATX:  70%|██████▉   | 19.3M/27.7M [00:23<00:10, 833kB/s]\n",
      "M20.ATX:  70%|███████   | 19.4M/27.7M [00:24<00:08, 930kB/s]\n",
      "M20.ATX:  71%|███████   | 19.5M/27.7M [00:24<00:10, 815kB/s]\n",
      "M20.ATX:  71%|███████   | 19.7M/27.7M [00:24<00:08, 944kB/s]\n",
      "M20.ATX:  71%|███████▏  | 19.8M/27.7M [00:24<00:08, 907kB/s]\n",
      "M20.ATX:  72%|███████▏  | 19.9M/27.7M [00:24<00:08, 929kB/s]\n",
      "M20.ATX:  72%|███████▏  | 20.0M/27.7M [00:24<00:08, 883kB/s]\n",
      "M20.ATX:  72%|███████▏  | 20.1M/27.7M [00:24<00:08, 860kB/s]\n",
      "M20.ATX:  73%|███████▎  | 20.2M/27.7M [00:24<00:07, 951kB/s]\n",
      "M20.ATX:  73%|███████▎  | 20.3M/27.7M [00:24<00:08, 848kB/s]\n",
      "M20.ATX:  74%|███████▎  | 20.4M/27.7M [00:25<00:07, 984kB/s]\n",
      "M20.ATX:  74%|███████▍  | 20.5M/27.7M [00:25<00:09, 776kB/s]\n",
      "M20.ATX:  74%|███████▍  | 20.6M/27.7M [00:25<00:14, 477kB/s]\n",
      "M20.ATX:  75%|███████▌  | 20.9M/27.7M [00:25<00:08, 838kB/s]\n",
      "M20.ATX:  76%|███████▌  | 21.0M/27.7M [00:25<00:08, 816kB/s]\n",
      "M20.ATX:  76%|███████▋  | 21.1M/27.7M [00:26<00:09, 707kB/s]\n",
      "M20.ATX:  77%|███████▋  | 21.2M/27.7M [00:26<00:08, 793kB/s]\n",
      "M20.ATX:  77%|███████▋  | 21.3M/27.7M [00:26<00:08, 735kB/s]\n",
      "M20.ATX:  77%|███████▋  | 21.4M/27.7M [00:26<00:07, 791kB/s]\n",
      "M20.ATX:  78%|███████▊  | 21.5M/27.7M [00:26<00:08, 718kB/s]\n",
      "M20.ATX:  78%|███████▊  | 21.6M/27.7M [00:26<00:07, 785kB/s]\n",
      "M20.ATX:  78%|███████▊  | 21.7M/27.7M [00:26<00:08, 700kB/s]\n",
      "M20.ATX:  79%|███████▉  | 21.8M/27.7M [00:27<00:07, 827kB/s]\n",
      "M20.ATX:  79%|███████▉  | 21.9M/27.7M [00:27<00:08, 700kB/s]\n",
      "M20.ATX:  80%|███████▉  | 22.1M/27.7M [00:27<00:06, 822kB/s]\n",
      "M20.ATX:  80%|████████  | 22.2M/27.7M [00:27<00:07, 712kB/s]\n",
      "M20.ATX:  81%|████████  | 22.3M/27.7M [00:27<00:06, 857kB/s]\n",
      "M20.ATX:  81%|████████  | 22.4M/27.7M [00:27<00:06, 757kB/s]\n",
      "M20.ATX:  81%|████████▏ | 22.5M/27.7M [00:27<00:05, 882kB/s]\n",
      "M20.ATX:  82%|████████▏ | 22.6M/27.7M [00:28<00:06, 759kB/s]\n",
      "M20.ATX:  82%|████████▏ | 22.8M/27.7M [00:28<00:05, 879kB/s]\n",
      "M20.ATX:  83%|████████▎ | 22.9M/27.7M [00:28<00:06, 769kB/s]\n",
      "M20.ATX:  83%|████████▎ | 23.0M/27.7M [00:28<00:05, 877kB/s]\n",
      "M20.ATX:  83%|████████▎ | 23.1M/27.7M [00:28<00:05, 892kB/s]\n",
      "M20.ATX:  84%|████████▍ | 23.2M/27.7M [00:28<00:04, 937kB/s]\n",
      "M20.ATX:  84%|████████▍ | 23.3M/27.7M [00:28<00:05, 855kB/s]\n",
      "M20.ATX:  85%|████████▍ | 23.4M/27.7M [00:28<00:04, 952kB/s]\n",
      "M20.ATX:  85%|████████▌ | 23.5M/27.7M [00:29<00:05, 815kB/s]\n",
      "M20.ATX:  86%|████████▌ | 23.7M/27.7M [00:29<00:04, 985kB/s]\n",
      "M20.ATX:  86%|████████▌ | 23.8M/27.7M [00:29<00:04, 832kB/s]\n",
      "M20.ATX:  86%|████████▋ | 23.9M/27.7M [00:29<00:04, 926kB/s]\n",
      "M20.ATX:  87%|████████▋ | 24.0M/27.7M [00:29<00:04, 905kB/s]\n",
      "M20.ATX:  87%|████████▋ | 24.1M/27.7M [00:29<00:04, 847kB/s]\n",
      "M20.ATX:  88%|████████▊ | 24.3M/27.7M [00:29<00:03, 986kB/s]\n",
      "M20.ATX:  88%|████████▊ | 24.4M/27.7M [00:29<00:03, 921kB/s]\n",
      "M20.ATX:  88%|████████▊ | 24.5M/27.7M [00:30<00:03, 967kB/s]\n",
      "M20.ATX:  89%|████████▉ | 24.6M/27.7M [00:30<00:03, 917kB/s]\n",
      "M20.ATX:  89%|████████▉ | 24.7M/27.7M [00:30<00:03, 958kB/s]\n",
      "M20.ATX:  90%|████████▉ | 24.8M/27.7M [00:30<00:03, 841kB/s]\n",
      "M20.ATX:  90%|████████▉ | 24.9M/27.7M [00:30<00:03, 849kB/s]\n",
      "M20.ATX:  90%|█████████ | 25.0M/27.7M [00:30<00:02, 905kB/s]\n",
      "M20.ATX:  91%|█████████ | 25.1M/27.7M [00:30<00:02, 862kB/s]\n",
      "M20.ATX:  91%|█████████ | 25.2M/27.7M [00:30<00:02, 968kB/s]\n",
      "M20.ATX:  92%|█████████▏| 25.3M/27.7M [00:31<00:02, 893kB/s]\n",
      "M20.ATX:  92%|█████████▏| 25.5M/27.7M [00:31<00:02, 1.02MB/s]\n",
      "M20.ATX:  92%|█████████▏| 25.6M/27.7M [00:31<00:02, 896kB/s] \n",
      "M20.ATX:  93%|█████████▎| 25.7M/27.7M [00:31<00:01, 1.00MB/s]\n",
      "M20.ATX:  93%|█████████▎| 25.8M/27.7M [00:31<00:02, 897kB/s] \n",
      "M20.ATX:  94%|█████████▍| 26.0M/27.7M [00:31<00:01, 1.00MB/s]\n",
      "M20.ATX:  94%|█████████▍| 26.1M/27.7M [00:31<00:01, 900kB/s] \n",
      "M20.ATX:  95%|█████████▍| 26.3M/27.7M [00:32<00:01, 1.00MB/s]\n",
      "M20.ATX:  95%|█████████▌| 26.4M/27.7M [00:32<00:01, 901kB/s] \n",
      "M20.ATX:  96%|█████████▌| 26.5M/27.7M [00:32<00:01, 1.01MB/s]\n",
      "M20.ATX:  96%|█████████▌| 26.6M/27.7M [00:32<00:01, 869kB/s] \n",
      "M20.ATX:  97%|█████████▋| 26.8M/27.7M [00:32<00:00, 980kB/s]\n",
      "M20.ATX:  97%|█████████▋| 26.9M/27.7M [00:32<00:00, 861kB/s]\n",
      "M20.ATX:  98%|█████████▊| 27.0M/27.7M [00:32<00:00, 1.01MB/s]\n",
      "M20.ATX:  98%|█████████▊| 27.1M/27.7M [00:32<00:00, 887kB/s] \n",
      "M20.ATX:  99%|█████████▊| 27.3M/27.7M [00:33<00:00, 1.02MB/s]\n",
      "M20.ATX:  99%|█████████▉| 27.4M/27.7M [00:33<00:00, 899kB/s] \n",
      "M20.ATX:  99%|█████████▉| 27.5M/27.7M [00:33<00:00, 1.03MB/s]\n",
      "M20.ATX: 100%|█████████▉| 27.6M/27.7M [00:33<00:00, 900kB/s] \n",
      "M20.ATX: 100%|██████████| 27.7M/27.7M [00:33<00:00, 824kB/s]\n",
      "\n",
      "M14.ATX:   0%|          | 0.00/15.0M [00:00<?, ?B/s]\n",
      "M14.ATX:   0%|          | 14.3k/15.0M [00:00<04:58, 50.0kB/s]\n",
      "M14.ATX:   0%|          | 39.9k/15.0M [00:00<03:25, 72.4kB/s]\n",
      "M14.ATX:   1%|          | 99.3k/15.0M [00:00<01:50, 134kB/s] \n",
      "M14.ATX:   1%|▏         | 212k/15.0M [00:01<01:03, 233kB/s] \n",
      "M14.ATX:   3%|▎         | 437k/15.0M [00:01<00:34, 419kB/s]\n",
      "M14.ATX:   6%|▌         | 890k/15.0M [00:01<00:18, 771kB/s]\n",
      "M14.ATX:   9%|▉         | 1.41M/15.0M [00:02<00:12, 1.08MB/s]\n",
      "M14.ATX:  13%|█▎        | 2.01M/15.0M [00:02<00:09, 1.37MB/s]\n",
      "M14.ATX:  18%|█▊        | 2.64M/15.0M [00:02<00:07, 1.60MB/s]\n",
      "M14.ATX:  22%|██▏       | 3.30M/15.0M [00:02<00:06, 1.82MB/s]\n",
      "M14.ATX:  27%|██▋       | 3.99M/15.0M [00:03<00:05, 1.97MB/s]\n",
      "M14.ATX:  31%|███▏      | 4.71M/15.0M [00:03<00:04, 2.15MB/s]\n",
      "M14.ATX:  37%|███▋      | 5.47M/15.0M [00:03<00:04, 2.32MB/s]\n",
      "M14.ATX:  42%|████▏     | 6.27M/15.0M [00:04<00:03, 2.47MB/s]\n",
      "M14.ATX:  48%|████▊     | 7.11M/15.0M [00:04<00:02, 3.12MB/s]\n",
      "M14.ATX:  50%|████▉     | 7.48M/15.0M [00:04<00:02, 2.85MB/s]\n",
      "M14.ATX:  53%|█████▎    | 7.99M/15.0M [00:04<00:02, 3.22MB/s]\n",
      "M14.ATX:  56%|█████▌    | 8.37M/15.0M [00:04<00:02, 2.88MB/s]\n",
      "M14.ATX:  60%|█████▉    | 8.92M/15.0M [00:04<00:02, 2.56MB/s]\n",
      "M14.ATX:  66%|██████▌   | 9.88M/15.0M [00:05<00:01, 3.75MB/s]\n",
      "M14.ATX:  69%|██████▉   | 10.4M/15.0M [00:05<00:01, 3.12MB/s]\n",
      "M14.ATX:  73%|███████▎  | 10.9M/15.0M [00:05<00:01, 2.85MB/s]\n",
      "M14.ATX:  79%|███████▉  | 11.8M/15.0M [00:05<00:00, 3.92MB/s]\n",
      "M14.ATX:  83%|████████▎ | 12.3M/15.0M [00:05<00:00, 3.34MB/s]\n",
      "M14.ATX:  88%|████████▊ | 13.1M/15.0M [00:06<00:00, 3.31MB/s]\n",
      "M14.ATX:  94%|█████████▎| 14.0M/15.0M [00:06<00:00, 4.27MB/s]\n",
      "M14.ATX:  97%|█████████▋| 14.5M/15.0M [00:06<00:00, 3.53MB/s]\n",
      "M14.ATX: 100%|██████████| 15.0M/15.0M [00:06<00:00, 2.30MB/s]\n",
      "\n",
      "BRDC00IGS_R_20231890000_01D_MN.rnx.gz:   0%|          | 0.00/1.24M [00:00<?, ?B/s]\n",
      "BRDC00IGS_R_20231890000_01D_MN.rnx.gz:   1%|          | 8.19k/1.24M [00:01<04:37, 4.43kB/s]\n",
      "BRDC00IGS_R_20231890000_01D_MN.rnx.gz:   3%|▎         | 41.0k/1.24M [00:02<00:46, 25.6kB/s]\n",
      "BRDC00IGS_R_20231890000_01D_MN.rnx.gz:   7%|▋         | 90.1k/1.24M [00:02<00:18, 61.0kB/s]\n",
      "BRDC00IGS_R_20231890000_01D_MN.rnx.gz:  13%|█▎        | 156k/1.24M [00:02<00:09, 113kB/s]  \n",
      "BRDC00IGS_R_20231890000_01D_MN.rnx.gz:  21%|██        | 254k/1.24M [00:02<00:04, 197kB/s]\n",
      "BRDC00IGS_R_20231890000_01D_MN.rnx.gz:  30%|██▉       | 369k/1.24M [00:02<00:02, 292kB/s]\n",
      "BRDC00IGS_R_20231890000_01D_MN.rnx.gz:  38%|███▊      | 467k/1.24M [00:02<00:02, 352kB/s]\n",
      "BRDC00IGS_R_20231890000_01D_MN.rnx.gz:  47%|████▋     | 582k/1.24M [00:03<00:01, 422kB/s]\n",
      "BRDC00IGS_R_20231890000_01D_MN.rnx.gz:  56%|█████▋    | 696k/1.24M [00:03<00:01, 479kB/s]\n",
      "BRDC00IGS_R_20231890000_01D_MN.rnx.gz:  67%|██████▋   | 827k/1.24M [00:03<00:00, 544kB/s]\n",
      "BRDC00IGS_R_20231890000_01D_MN.rnx.gz:  78%|███████▊  | 958k/1.24M [00:03<00:00, 591kB/s]\n",
      "BRDC00IGS_R_20231890000_01D_MN.rnx.gz:  88%|████████▊ | 1.09M/1.24M [00:03<00:00, 625kB/s]\n",
      "BRDC00IGS_R_20231890000_01D_MN.rnx.gz: 100%|██████████| 1.24M/1.24M [00:04<00:00, 260kB/s]\n",
      "\n",
      "BRDC00IGS_R_20231800000_01D_MN.rnx.gz:   0%|          | 0.00/1.27M [00:00<?, ?B/s]\n",
      "BRDC00IGS_R_20231800000_01D_MN.rnx.gz:   1%|          | 8.19k/1.27M [00:01<04:39, 4.52kB/s]\n",
      "BRDC00IGS_R_20231800000_01D_MN.rnx.gz:   3%|▎         | 41.0k/1.27M [00:01<00:46, 26.5kB/s]\n",
      "BRDC00IGS_R_20231800000_01D_MN.rnx.gz:   7%|▋         | 90.1k/1.27M [00:02<00:18, 63.1kB/s]\n",
      "BRDC00IGS_R_20231800000_01D_MN.rnx.gz:  15%|█▍        | 188k/1.27M [00:02<00:07, 146kB/s]  \n",
      "BRDC00IGS_R_20231800000_01D_MN.rnx.gz:  23%|██▎       | 287k/1.27M [00:02<00:04, 221kB/s]\n",
      "BRDC00IGS_R_20231800000_01D_MN.rnx.gz:  32%|███▏      | 401k/1.27M [00:02<00:02, 294kB/s]\n",
      "BRDC00IGS_R_20231800000_01D_MN.rnx.gz:  41%|████      | 516k/1.27M [00:03<00:02, 357kB/s]\n",
      "BRDC00IGS_R_20231800000_01D_MN.rnx.gz:  50%|████▉     | 631k/1.27M [00:03<00:01, 407kB/s]\n",
      "BRDC00IGS_R_20231800000_01D_MN.rnx.gz:  59%|█████▊    | 745k/1.27M [00:03<00:01, 454kB/s]\n",
      "BRDC00IGS_R_20231800000_01D_MN.rnx.gz:  69%|██████▉   | 877k/1.27M [00:03<00:00, 513kB/s]\n",
      "BRDC00IGS_R_20231800000_01D_MN.rnx.gz:  79%|███████▉  | 1.01M/1.27M [00:03<00:00, 555kB/s]\n",
      "BRDC00IGS_R_20231800000_01D_MN.rnx.gz:  91%|█████████ | 1.16M/1.27M [00:04<00:00, 604kB/s]\n",
      "BRDC00IGS_R_20231800000_01D_MN.rnx.gz: 100%|██████████| 1.27M/1.27M [00:04<00:00, 284kB/s]\n",
      "\n",
      "BRD400DLR_S_20252330000_01D_MN.rnx.gz:   0%|          | 0.00/1.81M [00:00<?, ?B/s]\n",
      "BRD400DLR_S_20252330000_01D_MN.rnx.gz:   0%|          | 8.19k/1.81M [00:01<05:59, 5.02kB/s]\n",
      "BRD400DLR_S_20252330000_01D_MN.rnx.gz:   2%|▏         | 41.0k/1.81M [00:01<01:00, 29.1kB/s]\n",
      "BRD400DLR_S_20252330000_01D_MN.rnx.gz:   5%|▍         | 90.1k/1.81M [00:01<00:24, 69.0kB/s]\n",
      "BRD400DLR_S_20252330000_01D_MN.rnx.gz:  10%|█         | 188k/1.81M [00:02<00:10, 158kB/s]  \n",
      "BRD400DLR_S_20252330000_01D_MN.rnx.gz:  16%|█▌        | 287k/1.81M [00:02<00:06, 241kB/s]\n",
      "BRD400DLR_S_20252330000_01D_MN.rnx.gz:  22%|██▏       | 401k/1.81M [00:02<00:04, 330kB/s]\n",
      "BRD400DLR_S_20252330000_01D_MN.rnx.gz:  28%|██▊       | 516k/1.81M [00:02<00:03, 407kB/s]\n",
      "BRD400DLR_S_20252330000_01D_MN.rnx.gz:  35%|███▍      | 631k/1.81M [00:02<00:02, 470kB/s]\n",
      "BRD400DLR_S_20252330000_01D_MN.rnx.gz:  41%|████      | 745k/1.81M [00:03<00:02, 520kB/s]\n",
      "BRD400DLR_S_20252330000_01D_MN.rnx.gz:  48%|████▊     | 877k/1.81M [00:03<00:01, 581kB/s]\n",
      "BRD400DLR_S_20252330000_01D_MN.rnx.gz:  56%|█████▌    | 1.01M/1.81M [00:03<00:01, 608kB/s]\n",
      "BRD400DLR_S_20252330000_01D_MN.rnx.gz:  64%|██████▎   | 1.16M/1.81M [00:03<00:00, 670kB/s]\n",
      "BRD400DLR_S_20252330000_01D_MN.rnx.gz:  72%|███████▏  | 1.30M/1.81M [00:03<00:00, 717kB/s]\n",
      "BRD400DLR_S_20252330000_01D_MN.rnx.gz:  80%|███████▉  | 1.45M/1.81M [00:03<00:00, 755kB/s]\n",
      "BRD400DLR_S_20252330000_01D_MN.rnx.gz:  89%|████████▉ | 1.61M/1.81M [00:04<00:00, 806kB/s]\n",
      "BRD400DLR_S_20252330000_01D_MN.rnx.gz:  99%|█████████▉| 1.79M/1.81M [00:04<00:00, 862kB/s]\n",
      "BRD400DLR_S_20252330000_01D_MN.rnx.gz: 100%|██████████| 1.81M/1.81M [00:05<00:00, 356kB/s]\n",
      "\n",
      "BRD400DLR_S_20250460000_01D_MN.rnx.gz:   0%|          | 0.00/1.50M [00:00<?, ?B/s]\n",
      "BRD400DLR_S_20250460000_01D_MN.rnx.gz:   1%|          | 8.19k/1.50M [00:01<04:57, 5.01kB/s]\n",
      "BRD400DLR_S_20250460000_01D_MN.rnx.gz:   3%|▎         | 41.0k/1.50M [00:01<00:49, 29.2kB/s]\n",
      "BRD400DLR_S_20250460000_01D_MN.rnx.gz:   6%|▌         | 90.1k/1.50M [00:01<00:20, 69.4kB/s]\n",
      "BRD400DLR_S_20250460000_01D_MN.rnx.gz:  13%|█▎        | 188k/1.50M [00:02<00:08, 161kB/s]  \n",
      "BRD400DLR_S_20250460000_01D_MN.rnx.gz:  19%|█▉        | 287k/1.50M [00:02<00:04, 245kB/s]\n",
      "BRD400DLR_S_20250460000_01D_MN.rnx.gz:  27%|██▋       | 401k/1.50M [00:02<00:03, 340kB/s]\n",
      "BRD400DLR_S_20250460000_01D_MN.rnx.gz:  34%|███▍      | 516k/1.50M [00:02<00:02, 409kB/s]\n",
      "BRD400DLR_S_20250460000_01D_MN.rnx.gz:  42%|████▏     | 631k/1.50M [00:02<00:01, 461kB/s]\n",
      "BRD400DLR_S_20250460000_01D_MN.rnx.gz:  50%|████▉     | 745k/1.50M [00:03<00:01, 497kB/s]\n",
      "BRD400DLR_S_20250460000_01D_MN.rnx.gz:  59%|█████▊    | 877k/1.50M [00:03<00:01, 566kB/s]\n",
      "BRD400DLR_S_20250460000_01D_MN.rnx.gz:  67%|██████▋   | 1.01M/1.50M [00:03<00:00, 620kB/s]\n",
      "BRD400DLR_S_20250460000_01D_MN.rnx.gz:  77%|███████▋  | 1.16M/1.50M [00:03<00:00, 673kB/s]\n",
      "BRD400DLR_S_20250460000_01D_MN.rnx.gz:  87%|████████▋ | 1.30M/1.50M [00:03<00:00, 723kB/s]\n",
      "BRD400DLR_S_20250460000_01D_MN.rnx.gz:  98%|█████████▊| 1.47M/1.50M [00:03<00:00, 782kB/s]\n",
      "BRD400DLR_S_20250460000_01D_MN.rnx.gz: 100%|██████████| 1.50M/1.50M [00:04<00:00, 317kB/s]\n",
      "\n",
      "BRD400DLR_S_20233080000_01D_MN.rnx.gz:   0%|          | 0.00/1.60M [00:00<?, ?B/s]\n",
      "BRD400DLR_S_20233080000_01D_MN.rnx.gz:   1%|          | 8.19k/1.60M [00:01<05:20, 4.96kB/s]\n",
      "BRD400DLR_S_20233080000_01D_MN.rnx.gz:   3%|▎         | 41.0k/1.60M [00:01<00:54, 28.4kB/s]\n",
      "BRD400DLR_S_20233080000_01D_MN.rnx.gz:   6%|▌         | 90.1k/1.60M [00:02<00:22, 66.6kB/s]\n",
      "BRD400DLR_S_20233080000_01D_MN.rnx.gz:  10%|▉         | 156k/1.60M [00:02<00:12, 119kB/s]  \n",
      "BRD400DLR_S_20233080000_01D_MN.rnx.gz:  15%|█▍        | 238k/1.60M [00:02<00:07, 186kB/s]\n",
      "BRD400DLR_S_20233080000_01D_MN.rnx.gz:  20%|█▉        | 319k/1.60M [00:02<00:05, 246kB/s]\n",
      "BRD400DLR_S_20233080000_01D_MN.rnx.gz:  25%|██▌       | 401k/1.60M [00:02<00:04, 291kB/s]\n",
      "BRD400DLR_S_20233080000_01D_MN.rnx.gz:  30%|███       | 483k/1.60M [00:02<00:03, 328kB/s]\n",
      "BRD400DLR_S_20233080000_01D_MN.rnx.gz:  35%|███▌      | 565k/1.60M [00:03<00:02, 364kB/s]\n",
      "BRD400DLR_S_20233080000_01D_MN.rnx.gz:  41%|████▏     | 664k/1.60M [00:03<00:02, 416kB/s]\n",
      "BRD400DLR_S_20233080000_01D_MN.rnx.gz:  48%|████▊     | 762k/1.60M [00:03<00:01, 455kB/s]\n",
      "BRD400DLR_S_20233080000_01D_MN.rnx.gz:  55%|█████▍    | 877k/1.60M [00:03<00:01, 508kB/s]\n",
      "BRD400DLR_S_20233080000_01D_MN.rnx.gz:  62%|██████▏   | 991k/1.60M [00:03<00:01, 547kB/s]\n",
      "BRD400DLR_S_20233080000_01D_MN.rnx.gz:  69%|██████▉   | 1.11M/1.60M [00:04<00:00, 563kB/s]\n",
      "BRD400DLR_S_20233080000_01D_MN.rnx.gz:  76%|███████▋  | 1.22M/1.60M [00:04<00:00, 586kB/s]\n",
      "BRD400DLR_S_20233080000_01D_MN.rnx.gz:  85%|████████▍ | 1.35M/1.60M [00:04<00:00, 630kB/s]\n",
      "BRD400DLR_S_20233080000_01D_MN.rnx.gz:  93%|█████████▎| 1.48M/1.60M [00:04<00:00, 662kB/s]\n",
      "BRD400DLR_S_20233080000_01D_MN.rnx.gz: 100%|██████████| 1.60M/1.60M [00:05<00:00, 298kB/s]\n",
      "\n",
      "BRD400DLR_S_20232230000_01D_MN.rnx.gz:   0%|          | 0.00/1.51M [00:00<?, ?B/s]\n",
      "BRD400DLR_S_20232230000_01D_MN.rnx.gz:   1%|          | 8.19k/1.51M [00:01<04:55, 5.07kB/s]\n",
      "BRD400DLR_S_20232230000_01D_MN.rnx.gz:   3%|▎         | 41.0k/1.51M [00:01<00:50, 29.2kB/s]\n",
      "BRD400DLR_S_20232230000_01D_MN.rnx.gz:   6%|▌         | 90.1k/1.51M [00:01<00:20, 68.1kB/s]\n",
      "BRD400DLR_S_20232230000_01D_MN.rnx.gz:  11%|█▏        | 172k/1.51M [00:02<00:09, 141kB/s]  \n",
      "BRD400DLR_S_20232230000_01D_MN.rnx.gz:  16%|█▌        | 238k/1.51M [00:02<00:06, 190kB/s]\n",
      "BRD400DLR_S_20232230000_01D_MN.rnx.gz:  21%|██        | 319k/1.51M [00:02<00:04, 255kB/s]\n",
      "BRD400DLR_S_20232230000_01D_MN.rnx.gz:  28%|██▊       | 418k/1.51M [00:02<00:03, 328kB/s]\n",
      "BRD400DLR_S_20232230000_01D_MN.rnx.gz:  33%|███▎      | 500k/1.51M [00:02<00:02, 366kB/s]\n",
      "BRD400DLR_S_20232230000_01D_MN.rnx.gz:  40%|███▉      | 598k/1.51M [00:03<00:02, 420kB/s]\n",
      "BRD400DLR_S_20232230000_01D_MN.rnx.gz:  46%|████▌     | 696k/1.51M [00:03<00:01, 462kB/s]\n",
      "BRD400DLR_S_20232230000_01D_MN.rnx.gz:  53%|█████▎    | 795k/1.51M [00:03<00:01, 493kB/s]\n",
      "BRD400DLR_S_20232230000_01D_MN.rnx.gz:  60%|██████    | 909k/1.51M [00:03<00:01, 542kB/s]\n",
      "BRD400DLR_S_20232230000_01D_MN.rnx.gz:  68%|██████▊   | 1.02M/1.51M [00:03<00:00, 565kB/s]\n",
      "BRD400DLR_S_20232230000_01D_MN.rnx.gz:  76%|███████▌  | 1.14M/1.51M [00:03<00:00, 584kB/s]\n",
      "BRD400DLR_S_20232230000_01D_MN.rnx.gz:  84%|████████▍ | 1.27M/1.51M [00:04<00:00, 633kB/s]\n",
      "BRD400DLR_S_20232230000_01D_MN.rnx.gz:  93%|█████████▎| 1.40M/1.51M [00:04<00:00, 671kB/s]\n",
      "BRD400DLR_S_20232230000_01D_MN.rnx.gz: 100%|██████████| 1.51M/1.51M [00:05<00:00, 300kB/s]\n",
      "\n",
      "BRD400DLR_S_20231890000_01D_MN.rnx.gz:   0%|          | 0.00/1.51M [00:00<?, ?B/s]\n",
      "BRD400DLR_S_20231890000_01D_MN.rnx.gz:   1%|          | 8.19k/1.51M [00:01<05:07, 4.90kB/s]\n",
      "BRD400DLR_S_20231890000_01D_MN.rnx.gz:   3%|▎         | 41.0k/1.51M [00:01<00:51, 28.5kB/s]\n",
      "BRD400DLR_S_20231890000_01D_MN.rnx.gz:   6%|▌         | 90.1k/1.51M [00:02<00:21, 67.4kB/s]\n",
      "BRD400DLR_S_20231890000_01D_MN.rnx.gz:  11%|█▏        | 172k/1.51M [00:02<00:09, 139kB/s]  \n",
      "BRD400DLR_S_20231890000_01D_MN.rnx.gz:  16%|█▌        | 238k/1.51M [00:02<00:06, 184kB/s]\n",
      "BRD400DLR_S_20231890000_01D_MN.rnx.gz:  21%|██        | 319k/1.51M [00:02<00:04, 246kB/s]\n",
      "BRD400DLR_S_20231890000_01D_MN.rnx.gz:  28%|██▊       | 418k/1.51M [00:02<00:03, 317kB/s]\n",
      "BRD400DLR_S_20231890000_01D_MN.rnx.gz:  33%|███▎      | 500k/1.51M [00:02<00:02, 353kB/s]\n",
      "BRD400DLR_S_20231890000_01D_MN.rnx.gz:  40%|███▉      | 598k/1.51M [00:03<00:02, 404kB/s]\n",
      "BRD400DLR_S_20231890000_01D_MN.rnx.gz:  46%|████▌     | 696k/1.51M [00:03<00:01, 437kB/s]\n",
      "BRD400DLR_S_20231890000_01D_MN.rnx.gz:  53%|█████▎    | 795k/1.51M [00:03<00:01, 457kB/s]\n",
      "BRD400DLR_S_20231890000_01D_MN.rnx.gz:  60%|██████    | 909k/1.51M [00:03<00:01, 506kB/s]\n",
      "BRD400DLR_S_20231890000_01D_MN.rnx.gz:  68%|██████▊   | 1.02M/1.51M [00:03<00:00, 542kB/s]\n",
      "BRD400DLR_S_20231890000_01D_MN.rnx.gz:  75%|███████▌  | 1.14M/1.51M [00:04<00:00, 570kB/s]\n",
      "BRD400DLR_S_20231890000_01D_MN.rnx.gz:  83%|████████▎ | 1.25M/1.51M [00:04<00:00, 668kB/s]\n",
      "BRD400DLR_S_20231890000_01D_MN.rnx.gz:  92%|█████████▏| 1.38M/1.51M [00:04<00:00, 670kB/s]\n",
      "BRD400DLR_S_20231890000_01D_MN.rnx.gz: 100%|██████████| 1.51M/1.51M [00:05<00:00, 291kB/s]\n",
      "\n",
      "COD0OPSFIN_20252330000_01D_05M_ORB.SP3.gz:   0%|          | 0.00/641k [00:00<?, ?B/s]\n",
      "COD0OPSFIN_20252330000_01D_05M_ORB.SP3.gz:   1%|▏         | 8.19k/641k [00:01<02:08, 4.92kB/s]\n",
      "COD0OPSFIN_20252330000_01D_05M_ORB.SP3.gz:   6%|▋         | 41.0k/641k [00:01<00:21, 28.4kB/s]\n",
      "COD0OPSFIN_20252330000_01D_05M_ORB.SP3.gz:  14%|█▍        | 90.1k/641k [00:02<00:08, 67.5kB/s]\n",
      "COD0OPSFIN_20252330000_01D_05M_ORB.SP3.gz:  27%|██▋       | 172k/641k [00:02<00:03, 140kB/s]  \n",
      "COD0OPSFIN_20252330000_01D_05M_ORB.SP3.gz:  37%|███▋      | 238k/641k [00:02<00:02, 188kB/s]\n",
      "COD0OPSFIN_20252330000_01D_05M_ORB.SP3.gz:  50%|████▉     | 319k/641k [00:02<00:01, 251kB/s]\n",
      "COD0OPSFIN_20252330000_01D_05M_ORB.SP3.gz:  63%|██████▎   | 401k/641k [00:02<00:00, 299kB/s]\n",
      "COD0OPSFIN_20252330000_01D_05M_ORB.SP3.gz:  78%|███████▊  | 500k/641k [00:02<00:00, 363kB/s]\n",
      "COD0OPSFIN_20252330000_01D_05M_ORB.SP3.gz:  93%|█████████▎| 598k/641k [00:03<00:00, 413kB/s]\n",
      "COD0OPSFIN_20252330000_01D_05M_ORB.SP3.gz: 100%|██████████| 641k/641k [00:03<00:00, 182kB/s]\n",
      "\n",
      "COD0OPSFIN_20252330000_01D_30S_CLK.CLK.gz:   0%|          | 0.00/5.04M [00:00<?, ?B/s]\n",
      "COD0OPSFIN_20252330000_01D_30S_CLK.CLK.gz:   0%|          | 8.19k/5.04M [00:01<18:33, 4.52kB/s]\n",
      "COD0OPSFIN_20252330000_01D_30S_CLK.CLK.gz:   1%|          | 41.0k/5.04M [00:01<03:07, 26.6kB/s]\n",
      "COD0OPSFIN_20252330000_01D_30S_CLK.CLK.gz:   2%|▏         | 90.1k/5.04M [00:02<01:17, 63.6kB/s]\n",
      "COD0OPSFIN_20252330000_01D_30S_CLK.CLK.gz:   3%|▎         | 172k/5.04M [00:02<00:36, 133kB/s]  \n",
      "COD0OPSFIN_20252330000_01D_30S_CLK.CLK.gz:   5%|▍         | 238k/5.04M [00:02<00:26, 181kB/s]\n",
      "COD0OPSFIN_20252330000_01D_30S_CLK.CLK.gz:   6%|▋         | 319k/5.04M [00:02<00:19, 242kB/s]\n",
      "COD0OPSFIN_20252330000_01D_30S_CLK.CLK.gz:   8%|▊         | 418k/5.04M [00:02<00:14, 316kB/s]\n",
      "COD0OPSFIN_20252330000_01D_30S_CLK.CLK.gz:  10%|▉         | 500k/5.04M [00:03<00:12, 354kB/s]\n",
      "COD0OPSFIN_20252330000_01D_30S_CLK.CLK.gz:  12%|█▏        | 598k/5.04M [00:03<00:10, 407kB/s]\n",
      "COD0OPSFIN_20252330000_01D_30S_CLK.CLK.gz:  14%|█▍        | 696k/5.04M [00:03<00:09, 445kB/s]\n",
      "COD0OPSFIN_20252330000_01D_30S_CLK.CLK.gz:  16%|█▌        | 795k/5.04M [00:03<00:08, 476kB/s]\n",
      "COD0OPSFIN_20252330000_01D_30S_CLK.CLK.gz:  18%|█▊        | 909k/5.04M [00:03<00:07, 524kB/s]\n",
      "COD0OPSFIN_20252330000_01D_30S_CLK.CLK.gz:  20%|██        | 1.02M/5.04M [00:03<00:07, 558kB/s]\n",
      "COD0OPSFIN_20252330000_01D_30S_CLK.CLK.gz:  23%|██▎       | 1.14M/5.04M [00:04<00:06, 584kB/s]\n",
      "COD0OPSFIN_20252330000_01D_30S_CLK.CLK.gz:  25%|██▌       | 1.27M/5.04M [00:04<00:06, 629kB/s]\n",
      "COD0OPSFIN_20252330000_01D_30S_CLK.CLK.gz:  28%|██▊       | 1.40M/5.04M [00:04<00:05, 660kB/s]\n",
      "COD0OPSFIN_20252330000_01D_30S_CLK.CLK.gz:  30%|███       | 1.53M/5.04M [00:04<00:04, 777kB/s]\n",
      "COD0OPSFIN_20252330000_01D_30S_CLK.CLK.gz:  33%|███▎      | 1.66M/5.04M [00:04<00:05, 598kB/s]\n",
      "COD0OPSFIN_20252330000_01D_30S_CLK.CLK.gz:  36%|███▌      | 1.83M/5.04M [00:05<00:04, 771kB/s]\n",
      "COD0OPSFIN_20252330000_01D_30S_CLK.CLK.gz:  39%|███▊      | 1.94M/5.04M [00:05<00:04, 732kB/s]\n",
      "COD0OPSFIN_20252330000_01D_30S_CLK.CLK.gz:  40%|████      | 2.04M/5.04M [00:05<00:03, 757kB/s]\n",
      "COD0OPSFIN_20252330000_01D_30S_CLK.CLK.gz:  42%|████▏     | 2.13M/5.04M [00:05<00:05, 551kB/s]\n",
      "COD0OPSFIN_20252330000_01D_30S_CLK.CLK.gz:  45%|████▌     | 2.29M/5.04M [00:05<00:03, 692kB/s]\n",
      "COD0OPSFIN_20252330000_01D_30S_CLK.CLK.gz:  47%|████▋     | 2.38M/5.04M [00:05<00:04, 642kB/s]\n",
      "COD0OPSFIN_20252330000_01D_30S_CLK.CLK.gz:  49%|████▊     | 2.46M/5.04M [00:06<00:03, 653kB/s]\n",
      "COD0OPSFIN_20252330000_01D_30S_CLK.CLK.gz:  51%|█████     | 2.55M/5.04M [00:06<00:04, 549kB/s]\n",
      "COD0OPSFIN_20252330000_01D_30S_CLK.CLK.gz:  52%|█████▏    | 2.65M/5.04M [00:06<00:04, 548kB/s]\n",
      "COD0OPSFIN_20252330000_01D_30S_CLK.CLK.gz:  54%|█████▍    | 2.74M/5.04M [00:06<00:04, 546kB/s]\n",
      "COD0OPSFIN_20252330000_01D_30S_CLK.CLK.gz:  56%|█████▋    | 2.84M/5.04M [00:06<00:04, 549kB/s]\n",
      "COD0OPSFIN_20252330000_01D_30S_CLK.CLK.gz:  58%|█████▊    | 2.94M/5.04M [00:06<00:03, 553kB/s]\n",
      "COD0OPSFIN_20252330000_01D_30S_CLK.CLK.gz:  60%|██████    | 3.04M/5.04M [00:07<00:03, 551kB/s]\n",
      "COD0OPSFIN_20252330000_01D_30S_CLK.CLK.gz:  62%|██████▏   | 3.14M/5.04M [00:07<00:03, 595kB/s]\n",
      "COD0OPSFIN_20252330000_01D_30S_CLK.CLK.gz:  64%|██████▍   | 3.24M/5.04M [00:07<00:03, 583kB/s]\n",
      "COD0OPSFIN_20252330000_01D_30S_CLK.CLK.gz:  66%|██████▌   | 3.33M/5.04M [00:07<00:02, 575kB/s]\n",
      "COD0OPSFIN_20252330000_01D_30S_CLK.CLK.gz:  68%|██████▊   | 3.45M/5.04M [00:07<00:02, 547kB/s]\n",
      "COD0OPSFIN_20252330000_01D_30S_CLK.CLK.gz:  70%|███████   | 3.55M/5.04M [00:08<00:02, 600kB/s]\n",
      "COD0OPSFIN_20252330000_01D_30S_CLK.CLK.gz:  72%|███████▏  | 3.65M/5.04M [00:08<00:02, 587kB/s]\n",
      "COD0OPSFIN_20252330000_01D_30S_CLK.CLK.gz:  75%|███████▍  | 3.76M/5.04M [00:08<00:02, 554kB/s]\n",
      "COD0OPSFIN_20252330000_01D_30S_CLK.CLK.gz:  77%|███████▋  | 3.86M/5.04M [00:08<00:01, 599kB/s]\n",
      "COD0OPSFIN_20252330000_01D_30S_CLK.CLK.gz:  78%|███████▊  | 3.96M/5.04M [00:08<00:01, 588kB/s]\n",
      "COD0OPSFIN_20252330000_01D_30S_CLK.CLK.gz:  81%|████████  | 4.07M/5.04M [00:08<00:01, 579kB/s]\n",
      "COD0OPSFIN_20252330000_01D_30S_CLK.CLK.gz:  83%|████████▎ | 4.17M/5.04M [00:09<00:01, 542kB/s]\n",
      "COD0OPSFIN_20252330000_01D_30S_CLK.CLK.gz:  85%|████████▍ | 4.27M/5.04M [00:09<00:01, 522kB/s]\n",
      "COD0OPSFIN_20252330000_01D_30S_CLK.CLK.gz:  87%|████████▋ | 4.38M/5.04M [00:09<00:01, 491kB/s]\n",
      "COD0OPSFIN_20252330000_01D_30S_CLK.CLK.gz:  89%|████████▉ | 4.48M/5.04M [00:09<00:01, 502kB/s]\n",
      "COD0OPSFIN_20252330000_01D_30S_CLK.CLK.gz:  91%|█████████ | 4.58M/5.04M [00:09<00:00, 522kB/s]\n",
      "COD0OPSFIN_20252330000_01D_30S_CLK.CLK.gz:  92%|█████████▏| 4.64M/5.04M [00:10<00:00, 503kB/s]\n",
      "COD0OPSFIN_20252330000_01D_30S_CLK.CLK.gz:  93%|█████████▎| 4.69M/5.04M [00:10<00:00, 491kB/s]\n",
      "COD0OPSFIN_20252330000_01D_30S_CLK.CLK.gz:  95%|█████████▌| 4.79M/5.04M [00:10<00:00, 512kB/s]\n",
      "COD0OPSFIN_20252330000_01D_30S_CLK.CLK.gz:  97%|█████████▋| 4.91M/5.04M [00:10<00:00, 546kB/s]\n",
      "COD0OPSFIN_20252330000_01D_30S_CLK.CLK.gz:  99%|█████████▉| 5.01M/5.04M [00:10<00:00, 507kB/s]\n",
      "COD0OPSFIN_20252330000_01D_30S_CLK.CLK.gz: 100%|██████████| 5.04M/5.04M [00:11<00:00, 448kB/s]\n",
      "\n",
      "COD0OPSFIN_20252330000_01D_01D_OSB.BIA.gz:   0%|          | 0.00/114k [00:00<?, ?B/s]\n",
      "COD0OPSFIN_20252330000_01D_01D_OSB.BIA.gz:   7%|▋         | 8.19k/114k [00:01<00:21, 4.95kB/s]\n",
      "COD0OPSFIN_20252330000_01D_01D_OSB.BIA.gz:  36%|███▌      | 41.0k/114k [00:01<00:02, 28.6kB/s]\n",
      "COD0OPSFIN_20252330000_01D_01D_OSB.BIA.gz:  79%|███████▉  | 90.1k/114k [00:02<00:00, 66.5kB/s]\n",
      "COD0OPSFIN_20252330000_01D_01D_OSB.BIA.gz: 100%|██████████| 114k/114k [00:02<00:00, 39.8kB/s] \n",
      "\n",
      "COD0OPSFIN_20250460000_01D_05M_ORB.SP3.gz:   0%|          | 0.00/642k [00:00<?, ?B/s]\n",
      "COD0OPSFIN_20250460000_01D_05M_ORB.SP3.gz:   1%|▏         | 8.19k/642k [00:01<02:16, 4.64kB/s]\n",
      "COD0OPSFIN_20250460000_01D_05M_ORB.SP3.gz:   6%|▋         | 41.0k/642k [00:01<00:22, 26.3kB/s]\n",
      "COD0OPSFIN_20250460000_01D_05M_ORB.SP3.gz:  14%|█▍        | 90.1k/642k [00:02<00:09, 60.2kB/s]\n",
      "COD0OPSFIN_20250460000_01D_05M_ORB.SP3.gz:  24%|██▍       | 156k/642k [00:02<00:04, 107kB/s]  \n",
      "COD0OPSFIN_20250460000_01D_05M_ORB.SP3.gz:  37%|███▋      | 238k/642k [00:02<00:02, 166kB/s]\n",
      "COD0OPSFIN_20250460000_01D_05M_ORB.SP3.gz:  47%|████▋     | 303k/642k [00:02<00:01, 196kB/s]\n",
      "COD0OPSFIN_20250460000_01D_05M_ORB.SP3.gz:  60%|██████    | 385k/642k [00:03<00:01, 240kB/s]\n",
      "COD0OPSFIN_20250460000_01D_05M_ORB.SP3.gz:  73%|███████▎  | 467k/642k [00:03<00:00, 284kB/s]\n",
      "COD0OPSFIN_20250460000_01D_05M_ORB.SP3.gz:  86%|████████▌ | 549k/642k [00:03<00:00, 325kB/s]\n",
      "COD0OPSFIN_20250460000_01D_05M_ORB.SP3.gz: 100%|██████████| 642k/642k [00:04<00:00, 148kB/s]\n",
      "\n",
      "COD0OPSFIN_20250460000_01D_30S_CLK.CLK.gz:   0%|          | 0.00/5.02M [00:00<?, ?B/s]\n",
      "COD0OPSFIN_20250460000_01D_30S_CLK.CLK.gz:   0%|          | 8.19k/5.02M [00:01<17:36, 4.74kB/s]\n",
      "COD0OPSFIN_20250460000_01D_30S_CLK.CLK.gz:   1%|          | 41.0k/5.02M [00:01<02:59, 27.8kB/s]\n",
      "COD0OPSFIN_20250460000_01D_30S_CLK.CLK.gz:   2%|▏         | 90.1k/5.02M [00:02<01:14, 66.0kB/s]\n",
      "COD0OPSFIN_20250460000_01D_30S_CLK.CLK.gz:   3%|▎         | 156k/5.02M [00:02<00:40, 120kB/s]  \n",
      "COD0OPSFIN_20250460000_01D_30S_CLK.CLK.gz:   5%|▍         | 238k/5.02M [00:02<00:25, 189kB/s]\n",
      "COD0OPSFIN_20250460000_01D_30S_CLK.CLK.gz:   6%|▋         | 319k/5.02M [00:02<00:18, 251kB/s]\n",
      "COD0OPSFIN_20250460000_01D_30S_CLK.CLK.gz:   8%|▊         | 385k/5.02M [00:02<00:16, 283kB/s]\n",
      "COD0OPSFIN_20250460000_01D_30S_CLK.CLK.gz:   9%|▉         | 467k/5.02M [00:02<00:12, 368kB/s]\n",
      "COD0OPSFIN_20250460000_01D_30S_CLK.CLK.gz:  11%|█▏        | 565k/5.02M [00:03<00:11, 382kB/s]\n",
      "COD0OPSFIN_20250460000_01D_30S_CLK.CLK.gz:  13%|█▎        | 647k/5.02M [00:03<00:09, 451kB/s]\n",
      "COD0OPSFIN_20250460000_01D_30S_CLK.CLK.gz:  15%|█▍        | 745k/5.02M [00:03<00:08, 484kB/s]\n",
      "COD0OPSFIN_20250460000_01D_30S_CLK.CLK.gz:  17%|█▋        | 844k/5.02M [00:03<00:08, 509kB/s]\n",
      "COD0OPSFIN_20250460000_01D_30S_CLK.CLK.gz:  19%|█▉        | 958k/5.02M [00:03<00:08, 503kB/s]\n",
      "COD0OPSFIN_20250460000_01D_30S_CLK.CLK.gz:  21%|██▏       | 1.07M/5.02M [00:04<00:07, 535kB/s]\n",
      "COD0OPSFIN_20250460000_01D_30S_CLK.CLK.gz:  24%|██▎       | 1.19M/5.02M [00:04<00:06, 570kB/s]\n",
      "COD0OPSFIN_20250460000_01D_30S_CLK.CLK.gz:  26%|██▌       | 1.30M/5.02M [00:04<00:05, 675kB/s]\n",
      "COD0OPSFIN_20250460000_01D_30S_CLK.CLK.gz:  29%|██▊       | 1.43M/5.02M [00:04<00:05, 701kB/s]\n",
      "COD0OPSFIN_20250460000_01D_30S_CLK.CLK.gz:  31%|███       | 1.56M/5.02M [00:04<00:04, 774kB/s]\n",
      "COD0OPSFIN_20250460000_01D_30S_CLK.CLK.gz:  33%|███▎      | 1.65M/5.02M [00:04<00:04, 741kB/s]\n",
      "COD0OPSFIN_20250460000_01D_30S_CLK.CLK.gz:  35%|███▍      | 1.74M/5.02M [00:04<00:05, 650kB/s]\n",
      "COD0OPSFIN_20250460000_01D_30S_CLK.CLK.gz:  37%|███▋      | 1.86M/5.02M [00:05<00:04, 770kB/s]\n",
      "COD0OPSFIN_20250460000_01D_30S_CLK.CLK.gz:  39%|███▉      | 1.95M/5.02M [00:05<00:03, 785kB/s]\n",
      "COD0OPSFIN_20250460000_01D_30S_CLK.CLK.gz:  41%|████      | 2.04M/5.02M [00:05<00:04, 715kB/s]\n",
      "COD0OPSFIN_20250460000_01D_30S_CLK.CLK.gz:  44%|████▎     | 2.19M/5.02M [00:05<00:03, 867kB/s]\n",
      "COD0OPSFIN_20250460000_01D_30S_CLK.CLK.gz:  47%|████▋     | 2.33M/5.02M [00:05<00:02, 1.01MB/s]\n",
      "COD0OPSFIN_20250460000_01D_30S_CLK.CLK.gz:  49%|████▉     | 2.45M/5.02M [00:05<00:03, 836kB/s] \n",
      "COD0OPSFIN_20250460000_01D_30S_CLK.CLK.gz:  51%|█████     | 2.55M/5.02M [00:05<00:03, 743kB/s]\n",
      "COD0OPSFIN_20250460000_01D_30S_CLK.CLK.gz:  54%|█████▍    | 2.73M/5.02M [00:05<00:02, 954kB/s]\n",
      "COD0OPSFIN_20250460000_01D_30S_CLK.CLK.gz:  57%|█████▋    | 2.84M/5.02M [00:06<00:02, 957kB/s]\n",
      "COD0OPSFIN_20250460000_01D_30S_CLK.CLK.gz:  59%|█████▉    | 2.95M/5.02M [00:06<00:02, 852kB/s]\n",
      "COD0OPSFIN_20250460000_01D_30S_CLK.CLK.gz:  63%|██████▎   | 3.14M/5.02M [00:06<00:01, 1.09MB/s]\n",
      "COD0OPSFIN_20250460000_01D_30S_CLK.CLK.gz:  65%|██████▍   | 3.26M/5.02M [00:06<00:01, 974kB/s] \n",
      "COD0OPSFIN_20250460000_01D_30S_CLK.CLK.gz:  67%|██████▋   | 3.38M/5.02M [00:06<00:01, 929kB/s]\n",
      "COD0OPSFIN_20250460000_01D_30S_CLK.CLK.gz:  72%|███████▏  | 3.60M/5.02M [00:06<00:01, 1.08MB/s]\n",
      "COD0OPSFIN_20250460000_01D_30S_CLK.CLK.gz:  74%|███████▍  | 3.71M/5.02M [00:06<00:01, 1.07MB/s]\n",
      "COD0OPSFIN_20250460000_01D_30S_CLK.CLK.gz:  77%|███████▋  | 3.84M/5.02M [00:07<00:01, 1.03MB/s]\n",
      "COD0OPSFIN_20250460000_01D_30S_CLK.CLK.gz:  81%|████████▏ | 4.09M/5.02M [00:07<00:00, 1.36MB/s]\n",
      "COD0OPSFIN_20250460000_01D_30S_CLK.CLK.gz:  84%|████████▍ | 4.24M/5.02M [00:07<00:00, 1.29MB/s]\n",
      "COD0OPSFIN_20250460000_01D_30S_CLK.CLK.gz:  87%|████████▋ | 4.37M/5.02M [00:07<00:00, 1.23MB/s]\n",
      "COD0OPSFIN_20250460000_01D_30S_CLK.CLK.gz:  93%|█████████▎| 4.64M/5.02M [00:07<00:00, 1.52MB/s]\n",
      "COD0OPSFIN_20250460000_01D_30S_CLK.CLK.gz:  96%|█████████▌| 4.81M/5.02M [00:07<00:00, 1.54MB/s]\n",
      "COD0OPSFIN_20250460000_01D_30S_CLK.CLK.gz:  99%|█████████▉| 4.97M/5.02M [00:07<00:00, 1.36MB/s]\n",
      "COD0OPSFIN_20250460000_01D_30S_CLK.CLK.gz: 100%|██████████| 5.02M/5.02M [00:08<00:00, 613kB/s] \n",
      "\n",
      "COD0OPSFIN_20250460000_01D_01D_OSB.BIA.gz:   0%|          | 0.00/113k [00:00<?, ?B/s]\n",
      "COD0OPSFIN_20250460000_01D_01D_OSB.BIA.gz:   7%|▋         | 8.19k/113k [00:01<00:21, 4.87kB/s]\n",
      "COD0OPSFIN_20250460000_01D_01D_OSB.BIA.gz:  36%|███▌      | 41.0k/113k [00:01<00:02, 27.3kB/s]\n",
      "COD0OPSFIN_20250460000_01D_01D_OSB.BIA.gz:  80%|███████▉  | 90.1k/113k [00:02<00:00, 62.4kB/s]\n",
      "COD0OPSFIN_20250460000_01D_01D_OSB.BIA.gz: 100%|██████████| 113k/113k [00:03<00:00, 37.5kB/s] \n",
      "\n",
      "COD0MGXFIN_20232230000_01D_01D_OSB.BIA.gz:   0%|          | 0.00/64.9k [00:00<?, ?B/s]\n",
      "COD0MGXFIN_20232230000_01D_01D_OSB.BIA.gz:  13%|█▎        | 8.19k/64.9k [00:01<00:12, 4.47kB/s]\n",
      "COD0MGXFIN_20232230000_01D_01D_OSB.BIA.gz:  63%|██████▎   | 41.0k/64.9k [00:02<00:00, 25.8kB/s]\n",
      "COD0MGXFIN_20232230000_01D_01D_OSB.BIA.gz: 100%|██████████| 64.9k/64.9k [00:02<00:00, 22.6kB/s]\n",
      "\n",
      "COD0MGXFIN_20232230000_01D_05M_ORB.SP3.gz:   0%|          | 0.00/927k [00:00<?, ?B/s]\n",
      "COD0MGXFIN_20232230000_01D_05M_ORB.SP3.gz:   1%|          | 8.19k/927k [00:01<03:30, 4.36kB/s]\n",
      "COD0MGXFIN_20232230000_01D_05M_ORB.SP3.gz:   4%|▍         | 41.0k/927k [00:02<00:35, 25.2kB/s]\n",
      "COD0MGXFIN_20232230000_01D_05M_ORB.SP3.gz:  10%|▉         | 90.1k/927k [00:02<00:14, 58.7kB/s]\n",
      "COD0MGXFIN_20232230000_01D_05M_ORB.SP3.gz:  13%|█▎        | 123k/927k [00:02<00:10, 77.6kB/s] \n",
      "COD0MGXFIN_20232230000_01D_05M_ORB.SP3.gz:  19%|█▊        | 172k/927k [00:02<00:06, 108kB/s] \n",
      "COD0MGXFIN_20232230000_01D_05M_ORB.SP3.gz:  21%|██        | 197k/927k [00:03<00:06, 105kB/s]\n",
      "COD0MGXFIN_20232230000_01D_05M_ORB.SP3.gz:  23%|██▎       | 213k/927k [00:03<00:06, 108kB/s]\n",
      "COD0MGXFIN_20232230000_01D_05M_ORB.SP3.gz:  33%|███▎      | 303k/927k [00:03<00:03, 202kB/s]\n",
      "COD0MGXFIN_20232230000_01D_05M_ORB.SP3.gz:  36%|███▌      | 336k/927k [00:03<00:02, 200kB/s]\n",
      "COD0MGXFIN_20232230000_01D_05M_ORB.SP3.gz:  40%|███▉      | 369k/927k [00:03<00:02, 196kB/s]\n",
      "COD0MGXFIN_20232230000_01D_05M_ORB.SP3.gz:  45%|████▌     | 418k/927k [00:03<00:02, 219kB/s]\n",
      "COD0MGXFIN_20232230000_01D_05M_ORB.SP3.gz:  49%|████▊     | 451k/927k [00:04<00:02, 211kB/s]\n",
      "COD0MGXFIN_20232230000_01D_05M_ORB.SP3.gz:  54%|█████▍    | 500k/927k [00:04<00:01, 231kB/s]\n",
      "COD0MGXFIN_20232230000_01D_05M_ORB.SP3.gz:  59%|█████▉    | 549k/927k [00:04<00:01, 245kB/s]\n",
      "COD0MGXFIN_20232230000_01D_05M_ORB.SP3.gz:  65%|██████▍   | 598k/927k [00:04<00:01, 247kB/s]\n",
      "COD0MGXFIN_20232230000_01D_05M_ORB.SP3.gz:  70%|██████▉   | 647k/927k [00:04<00:01, 254kB/s]\n",
      "COD0MGXFIN_20232230000_01D_05M_ORB.SP3.gz:  75%|███████▌  | 696k/927k [00:04<00:00, 259kB/s]\n",
      "COD0MGXFIN_20232230000_01D_05M_ORB.SP3.gz:  80%|████████  | 745k/927k [00:05<00:00, 263kB/s]\n",
      "COD0MGXFIN_20232230000_01D_05M_ORB.SP3.gz:  86%|████████▌ | 795k/927k [00:05<00:00, 269kB/s]\n",
      "COD0MGXFIN_20232230000_01D_05M_ORB.SP3.gz:  91%|█████████ | 844k/927k [00:05<00:00, 273kB/s]\n",
      "COD0MGXFIN_20232230000_01D_05M_ORB.SP3.gz:  96%|█████████▋| 893k/927k [00:05<00:00, 282kB/s]\n",
      "COD0MGXFIN_20232230000_01D_05M_ORB.SP3.gz: 100%|██████████| 927k/927k [00:06<00:00, 145kB/s]\n",
      "\n",
      "COD0MGXFIN_20232230000_01D_30S_CLK.CLK.gz:   0%|          | 0.00/5.12M [00:00<?, ?B/s]\n",
      "COD0MGXFIN_20232230000_01D_30S_CLK.CLK.gz:   0%|          | 8.19k/5.12M [00:01<19:00, 4.48kB/s]\n",
      "COD0MGXFIN_20232230000_01D_30S_CLK.CLK.gz:   1%|          | 41.0k/5.12M [00:02<03:16, 25.8kB/s]\n",
      "COD0MGXFIN_20232230000_01D_30S_CLK.CLK.gz:   1%|▏         | 73.7k/5.12M [00:02<01:43, 48.7kB/s]\n",
      "COD0MGXFIN_20232230000_01D_30S_CLK.CLK.gz:   2%|▏         | 106k/5.12M [00:02<01:10, 71.3kB/s] \n",
      "COD0MGXFIN_20232230000_01D_30S_CLK.CLK.gz:   3%|▎         | 156k/5.12M [00:02<00:44, 111kB/s] \n",
      "COD0MGXFIN_20232230000_01D_30S_CLK.CLK.gz:   4%|▎         | 188k/5.12M [00:02<00:39, 126kB/s]\n",
      "COD0MGXFIN_20232230000_01D_30S_CLK.CLK.gz:   5%|▍         | 238k/5.12M [00:02<00:30, 160kB/s]\n",
      "COD0MGXFIN_20232230000_01D_30S_CLK.CLK.gz:   6%|▌         | 287k/5.12M [00:03<00:25, 188kB/s]\n",
      "COD0MGXFIN_20232230000_01D_30S_CLK.CLK.gz:   7%|▋         | 336k/5.12M [00:03<00:22, 210kB/s]\n",
      "COD0MGXFIN_20232230000_01D_30S_CLK.CLK.gz:   8%|▊         | 385k/5.12M [00:03<00:20, 227kB/s]\n",
      "COD0MGXFIN_20232230000_01D_30S_CLK.CLK.gz:   8%|▊         | 434k/5.12M [00:03<00:19, 237kB/s]\n",
      "COD0MGXFIN_20232230000_01D_30S_CLK.CLK.gz:   9%|▉         | 483k/5.12M [00:03<00:18, 249kB/s]\n",
      "COD0MGXFIN_20232230000_01D_30S_CLK.CLK.gz:  11%|█         | 549k/5.12M [00:04<00:16, 279kB/s]\n",
      "COD0MGXFIN_20232230000_01D_30S_CLK.CLK.gz:  12%|█▏        | 614k/5.12M [00:04<00:15, 300kB/s]\n",
      "COD0MGXFIN_20232230000_01D_30S_CLK.CLK.gz:  13%|█▎        | 664k/5.12M [00:04<00:15, 296kB/s]\n",
      "COD0MGXFIN_20232230000_01D_30S_CLK.CLK.gz:  14%|█▍        | 729k/5.12M [00:04<00:13, 315kB/s]\n",
      "COD0MGXFIN_20232230000_01D_30S_CLK.CLK.gz:  16%|█▌        | 811k/5.12M [00:04<00:12, 351kB/s]\n",
      "COD0MGXFIN_20232230000_01D_30S_CLK.CLK.gz:  17%|█▋        | 877k/5.12M [00:04<00:11, 359kB/s]\n",
      "COD0MGXFIN_20232230000_01D_30S_CLK.CLK.gz:  19%|█▊        | 958k/5.12M [00:05<00:10, 384kB/s]\n",
      "COD0MGXFIN_20232230000_01D_30S_CLK.CLK.gz:  20%|█▉        | 1.02M/5.12M [00:05<00:09, 432kB/s]\n",
      "COD0MGXFIN_20232230000_01D_30S_CLK.CLK.gz:  22%|██▏       | 1.11M/5.12M [00:05<00:08, 477kB/s]\n",
      "COD0MGXFIN_20232230000_01D_30S_CLK.CLK.gz:  23%|██▎       | 1.16M/5.12M [00:05<00:08, 465kB/s]\n",
      "COD0MGXFIN_20232230000_01D_30S_CLK.CLK.gz:  24%|██▎       | 1.21M/5.12M [00:05<00:09, 408kB/s]\n",
      "COD0MGXFIN_20232230000_01D_30S_CLK.CLK.gz:  25%|██▌       | 1.30M/5.12M [00:05<00:08, 430kB/s]\n",
      "COD0MGXFIN_20232230000_01D_30S_CLK.CLK.gz:  27%|██▋       | 1.40M/5.12M [00:06<00:08, 442kB/s]\n",
      "COD0MGXFIN_20232230000_01D_30S_CLK.CLK.gz:  29%|██▉       | 1.50M/5.12M [00:06<00:07, 473kB/s]\n",
      "COD0MGXFIN_20232230000_01D_30S_CLK.CLK.gz:  31%|███▏      | 1.61M/5.12M [00:06<00:06, 517kB/s]\n",
      "COD0MGXFIN_20232230000_01D_30S_CLK.CLK.gz:  34%|███▎      | 1.73M/5.12M [00:06<00:06, 545kB/s]\n",
      "COD0MGXFIN_20232230000_01D_30S_CLK.CLK.gz:  36%|███▌      | 1.84M/5.12M [00:06<00:06, 546kB/s]\n",
      "COD0MGXFIN_20232230000_01D_30S_CLK.CLK.gz:  38%|███▊      | 1.96M/5.12M [00:06<00:05, 622kB/s]\n",
      "COD0MGXFIN_20232230000_01D_30S_CLK.CLK.gz:  41%|████      | 2.09M/5.12M [00:07<00:04, 653kB/s]\n",
      "COD0MGXFIN_20232230000_01D_30S_CLK.CLK.gz:  43%|████▎     | 2.22M/5.12M [00:07<00:03, 750kB/s]\n",
      "COD0MGXFIN_20232230000_01D_30S_CLK.CLK.gz:  45%|████▍     | 2.30M/5.12M [00:07<00:03, 715kB/s]\n",
      "COD0MGXFIN_20232230000_01D_30S_CLK.CLK.gz:  47%|████▋     | 2.38M/5.12M [00:07<00:04, 651kB/s]\n",
      "COD0MGXFIN_20232230000_01D_30S_CLK.CLK.gz:  49%|████▉     | 2.53M/5.12M [00:07<00:03, 715kB/s]\n",
      "COD0MGXFIN_20232230000_01D_30S_CLK.CLK.gz:  53%|█████▎    | 2.70M/5.12M [00:07<00:03, 760kB/s]\n",
      "COD0MGXFIN_20232230000_01D_30S_CLK.CLK.gz:  56%|█████▌    | 2.86M/5.12M [00:08<00:02, 799kB/s]\n",
      "COD0MGXFIN_20232230000_01D_30S_CLK.CLK.gz:  59%|█████▉    | 3.04M/5.12M [00:08<00:02, 841kB/s]\n",
      "COD0MGXFIN_20232230000_01D_30S_CLK.CLK.gz:  63%|██████▎   | 3.22M/5.12M [00:08<00:02, 895kB/s]\n",
      "COD0MGXFIN_20232230000_01D_30S_CLK.CLK.gz:  66%|██████▋   | 3.40M/5.12M [00:08<00:01, 1.03MB/s]\n",
      "COD0MGXFIN_20232230000_01D_30S_CLK.CLK.gz:  69%|██████▉   | 3.53M/5.12M [00:08<00:01, 1.08MB/s]\n",
      "COD0MGXFIN_20232230000_01D_30S_CLK.CLK.gz:  71%|███████   | 3.65M/5.12M [00:08<00:01, 978kB/s] \n",
      "COD0MGXFIN_20232230000_01D_30S_CLK.CLK.gz:  75%|███████▍  | 3.83M/5.12M [00:08<00:01, 1.14MB/s]\n",
      "COD0MGXFIN_20232230000_01D_30S_CLK.CLK.gz:  77%|███████▋  | 3.95M/5.12M [00:09<00:01, 1.15MB/s]\n",
      "COD0MGXFIN_20232230000_01D_30S_CLK.CLK.gz:  79%|███████▉  | 4.07M/5.12M [00:09<00:01, 1.01MB/s]\n",
      "COD0MGXFIN_20232230000_01D_30S_CLK.CLK.gz:  84%|████████▍ | 4.32M/5.12M [00:09<00:00, 1.20MB/s]\n",
      "COD0MGXFIN_20232230000_01D_30S_CLK.CLK.gz:  88%|████████▊ | 4.51M/5.12M [00:09<00:00, 1.37MB/s]\n",
      "COD0MGXFIN_20232230000_01D_30S_CLK.CLK.gz:  91%|█████████ | 4.66M/5.12M [00:09<00:00, 1.17MB/s]\n",
      "COD0MGXFIN_20232230000_01D_30S_CLK.CLK.gz:  95%|█████████▌| 4.87M/5.12M [00:09<00:00, 1.18MB/s]\n",
      "COD0MGXFIN_20232230000_01D_30S_CLK.CLK.gz: 100%|██████████| 5.12M/5.12M [00:10<00:00, 478kB/s] \n",
      "\n",
      "COD0MGXFIN_20231890000_01D_01D_OSB.BIA.gz:   0%|          | 0.00/64.6k [00:00<?, ?B/s]\n",
      "COD0MGXFIN_20231890000_01D_01D_OSB.BIA.gz:  13%|█▎        | 8.19k/64.6k [00:01<00:11, 4.92kB/s]\n",
      "COD0MGXFIN_20231890000_01D_01D_OSB.BIA.gz:  63%|██████▎   | 41.0k/64.6k [00:01<00:00, 28.7kB/s]\n",
      "COD0MGXFIN_20231890000_01D_01D_OSB.BIA.gz: 100%|██████████| 64.6k/64.6k [00:02<00:00, 24.5kB/s]\n",
      "\n",
      "COD0MGXFIN_20231890000_01D_05M_ORB.SP3.gz:   0%|          | 0.00/928k [00:00<?, ?B/s]\n",
      "COD0MGXFIN_20231890000_01D_05M_ORB.SP3.gz:   1%|          | 8.19k/928k [00:01<03:01, 5.06kB/s]\n",
      "COD0MGXFIN_20231890000_01D_05M_ORB.SP3.gz:   4%|▍         | 41.0k/928k [00:01<00:30, 29.3kB/s]\n",
      "COD0MGXFIN_20231890000_01D_05M_ORB.SP3.gz:  10%|▉         | 90.1k/928k [00:01<00:12, 69.3kB/s]\n",
      "COD0MGXFIN_20231890000_01D_05M_ORB.SP3.gz:  17%|█▋        | 156k/928k [00:02<00:06, 126kB/s]  \n",
      "COD0MGXFIN_20231890000_01D_05M_ORB.SP3.gz:  31%|███       | 287k/928k [00:02<00:02, 255kB/s]\n",
      "COD0MGXFIN_20231890000_01D_05M_ORB.SP3.gz:  50%|█████     | 467k/928k [00:02<00:01, 415kB/s]\n",
      "COD0MGXFIN_20231890000_01D_05M_ORB.SP3.gz:  68%|██████▊   | 631k/928k [00:02<00:00, 518kB/s]\n",
      "COD0MGXFIN_20231890000_01D_05M_ORB.SP3.gz:  89%|████████▉ | 827k/928k [00:02<00:00, 642kB/s]\n",
      "COD0MGXFIN_20231890000_01D_05M_ORB.SP3.gz: 100%|██████████| 928k/928k [00:03<00:00, 275kB/s]\n",
      "\n",
      "COD0MGXFIN_20231890000_01D_30S_CLK.CLK.gz:   0%|          | 0.00/5.16M [00:00<?, ?B/s]\n",
      "COD0MGXFIN_20231890000_01D_30S_CLK.CLK.gz:   0%|          | 8.19k/5.16M [00:01<18:11, 4.72kB/s]\n",
      "COD0MGXFIN_20231890000_01D_30S_CLK.CLK.gz:   1%|          | 41.0k/5.16M [00:01<03:05, 27.5kB/s]\n",
      "COD0MGXFIN_20231890000_01D_30S_CLK.CLK.gz:   2%|▏         | 90.1k/5.16M [00:02<01:17, 65.5kB/s]\n",
      "COD0MGXFIN_20231890000_01D_30S_CLK.CLK.gz:   4%|▍         | 205k/5.16M [00:02<00:29, 169kB/s]  \n",
      "COD0MGXFIN_20231890000_01D_30S_CLK.CLK.gz:   7%|▋         | 369k/5.16M [00:02<00:14, 320kB/s]\n",
      "COD0MGXFIN_20231890000_01D_30S_CLK.CLK.gz:  11%|█         | 549k/5.16M [00:02<00:09, 473kB/s]\n",
      "COD0MGXFIN_20231890000_01D_30S_CLK.CLK.gz:  14%|█▍        | 729k/5.16M [00:02<00:07, 600kB/s]\n",
      "COD0MGXFIN_20231890000_01D_30S_CLK.CLK.gz:  18%|█▊        | 909k/5.16M [00:03<00:06, 670kB/s]\n",
      "COD0MGXFIN_20231890000_01D_30S_CLK.CLK.gz:  22%|██▏       | 1.12M/5.16M [00:03<00:05, 764kB/s]\n",
      "COD0MGXFIN_20231890000_01D_30S_CLK.CLK.gz:  26%|██▌       | 1.32M/5.16M [00:03<00:04, 849kB/s]\n",
      "COD0MGXFIN_20231890000_01D_30S_CLK.CLK.gz:  30%|██▉       | 1.55M/5.16M [00:03<00:03, 961kB/s]\n",
      "COD0MGXFIN_20231890000_01D_30S_CLK.CLK.gz:  34%|███▍      | 1.78M/5.16M [00:03<00:03, 1.05MB/s]\n",
      "COD0MGXFIN_20231890000_01D_30S_CLK.CLK.gz:  39%|███▉      | 2.02M/5.16M [00:03<00:02, 1.13MB/s]\n",
      "COD0MGXFIN_20231890000_01D_30S_CLK.CLK.gz:  44%|████▍     | 2.29M/5.16M [00:04<00:02, 1.22MB/s]\n",
      "COD0MGXFIN_20231890000_01D_30S_CLK.CLK.gz:  49%|████▉     | 2.55M/5.16M [00:04<00:02, 1.29MB/s]\n",
      "COD0MGXFIN_20231890000_01D_30S_CLK.CLK.gz:  55%|█████▍    | 2.83M/5.16M [00:04<00:01, 1.36MB/s]\n",
      "COD0MGXFIN_20231890000_01D_30S_CLK.CLK.gz:  60%|██████    | 3.12M/5.16M [00:04<00:01, 1.44MB/s]\n",
      "COD0MGXFIN_20231890000_01D_30S_CLK.CLK.gz:  66%|██████▋   | 3.43M/5.16M [00:04<00:01, 1.52MB/s]\n",
      "COD0MGXFIN_20231890000_01D_30S_CLK.CLK.gz:  73%|███████▎  | 3.76M/5.16M [00:05<00:00, 1.58MB/s]\n",
      "COD0MGXFIN_20231890000_01D_30S_CLK.CLK.gz:  80%|███████▉  | 4.10M/5.16M [00:05<00:00, 1.67MB/s]\n",
      "COD0MGXFIN_20231890000_01D_30S_CLK.CLK.gz:  86%|████████▋ | 4.46M/5.16M [00:05<00:00, 1.76MB/s]\n",
      "COD0MGXFIN_20231890000_01D_30S_CLK.CLK.gz:  94%|█████████▍| 4.84M/5.16M [00:05<00:00, 1.83MB/s]\n",
      "COD0MGXFIN_20231890000_01D_30S_CLK.CLK.gz: 100%|██████████| 5.16M/5.16M [00:06<00:00, 853kB/s] \n",
      "\n",
      "COD0MGXFIN_20212650000_01D_01D_OSB.BIA.gz:   0%|          | 0.00/61.1k [00:00<?, ?B/s]\n",
      "COD0MGXFIN_20212650000_01D_01D_OSB.BIA.gz:  13%|█▎        | 8.19k/61.1k [00:01<00:11, 4.61kB/s]\n",
      "COD0MGXFIN_20212650000_01D_01D_OSB.BIA.gz:  67%|██████▋   | 41.0k/61.1k [00:01<00:00, 26.4kB/s]\n",
      "COD0MGXFIN_20212650000_01D_01D_OSB.BIA.gz: 100%|██████████| 61.1k/61.1k [00:02<00:00, 21.0kB/s]\n",
      "\n",
      "COD0MGXFIN_20212650000_01D_05M_ORB.SP3.gz:   0%|          | 0.00/918k [00:00<?, ?B/s]\n",
      "COD0MGXFIN_20212650000_01D_05M_ORB.SP3.gz:   1%|          | 8.19k/918k [00:01<03:03, 4.95kB/s]\n",
      "COD0MGXFIN_20212650000_01D_05M_ORB.SP3.gz:   4%|▍         | 41.0k/918k [00:01<00:30, 28.7kB/s]\n",
      "COD0MGXFIN_20212650000_01D_05M_ORB.SP3.gz:  10%|▉         | 90.1k/918k [00:02<00:12, 67.9kB/s]\n",
      "COD0MGXFIN_20212650000_01D_05M_ORB.SP3.gz:  22%|██▏       | 205k/918k [00:02<00:04, 175kB/s]  \n",
      "COD0MGXFIN_20212650000_01D_05M_ORB.SP3.gz:  44%|████▎     | 401k/918k [00:02<00:01, 370kB/s]\n",
      "COD0MGXFIN_20212650000_01D_05M_ORB.SP3.gz:  69%|██████▊   | 631k/918k [00:02<00:00, 583kB/s]\n",
      "COD0MGXFIN_20212650000_01D_05M_ORB.SP3.gz:  94%|█████████▎| 860k/918k [00:02<00:00, 757kB/s]\n",
      "COD0MGXFIN_20212650000_01D_05M_ORB.SP3.gz: 100%|██████████| 918k/918k [00:03<00:00, 264kB/s]\n",
      "\n",
      "COD0MGXFIN_20212650000_01D_30S_CLK.CLK.gz:   0%|          | 0.00/5.06M [00:00<?, ?B/s]\n",
      "COD0MGXFIN_20212650000_01D_30S_CLK.CLK.gz:   0%|          | 8.19k/5.06M [00:01<16:40, 5.05kB/s]\n",
      "COD0MGXFIN_20212650000_01D_30S_CLK.CLK.gz:   1%|          | 41.0k/5.06M [00:01<02:51, 29.3kB/s]\n",
      "COD0MGXFIN_20212650000_01D_30S_CLK.CLK.gz:   2%|▏         | 90.1k/5.06M [00:01<01:12, 68.9kB/s]\n",
      "COD0MGXFIN_20212650000_01D_30S_CLK.CLK.gz:   4%|▍         | 205k/5.06M [00:02<00:27, 175kB/s]  \n",
      "COD0MGXFIN_20212650000_01D_30S_CLK.CLK.gz:   8%|▊         | 401k/5.06M [00:02<00:12, 365kB/s]\n",
      "COD0MGXFIN_20212650000_01D_30S_CLK.CLK.gz:  12%|█▏        | 631k/5.06M [00:02<00:07, 576kB/s]\n",
      "COD0MGXFIN_20212650000_01D_30S_CLK.CLK.gz:  17%|█▋        | 844k/5.06M [00:02<00:05, 731kB/s]\n",
      "COD0MGXFIN_20212650000_01D_30S_CLK.CLK.gz:  22%|██▏       | 1.09M/5.06M [00:02<00:04, 900kB/s]\n",
      "COD0MGXFIN_20212650000_01D_30S_CLK.CLK.gz:  26%|██▋       | 1.34M/5.06M [00:03<00:03, 1.02MB/s]\n",
      "COD0MGXFIN_20212650000_01D_30S_CLK.CLK.gz:  32%|███▏      | 1.60M/5.06M [00:03<00:03, 1.15MB/s]\n",
      "COD0MGXFIN_20212650000_01D_30S_CLK.CLK.gz:  37%|███▋      | 1.88M/5.06M [00:03<00:02, 1.26MB/s]\n",
      "COD0MGXFIN_20212650000_01D_30S_CLK.CLK.gz:  43%|████▎     | 2.17M/5.06M [00:03<00:02, 1.37MB/s]\n",
      "COD0MGXFIN_20212650000_01D_30S_CLK.CLK.gz:  49%|████▊     | 2.47M/5.06M [00:03<00:01, 1.44MB/s]\n",
      "COD0MGXFIN_20212650000_01D_30S_CLK.CLK.gz:  55%|█████▌    | 2.79M/5.06M [00:03<00:01, 1.55MB/s]\n",
      "COD0MGXFIN_20212650000_01D_30S_CLK.CLK.gz:  62%|██████▏   | 3.12M/5.06M [00:04<00:01, 1.64MB/s]\n",
      "COD0MGXFIN_20212650000_01D_30S_CLK.CLK.gz:  68%|██████▊   | 3.47M/5.06M [00:04<00:00, 1.74MB/s]\n",
      "COD0MGXFIN_20212650000_01D_30S_CLK.CLK.gz:  76%|███████▌  | 3.84M/5.06M [00:04<00:00, 1.84MB/s]\n",
      "COD0MGXFIN_20212650000_01D_30S_CLK.CLK.gz:  83%|████████▎ | 4.22M/5.06M [00:04<00:00, 2.00MB/s]\n",
      "COD0MGXFIN_20212650000_01D_30S_CLK.CLK.gz:  91%|█████████▏| 4.63M/5.06M [00:04<00:00, 1.99MB/s]\n",
      "COD0MGXFIN_20212650000_01D_30S_CLK.CLK.gz: 100%|█████████▉| 5.05M/5.06M [00:05<00:00, 2.21MB/s]\n",
      "COD0MGXFIN_20212650000_01D_30S_CLK.CLK.gz: 100%|██████████| 5.06M/5.06M [00:05<00:00, 877kB/s] \n",
      "\n",
      "COD0MGXFIN_20210780000_01D_01D_OSB.BIA.gz:   0%|          | 0.00/61.1k [00:00<?, ?B/s]\n",
      "COD0MGXFIN_20210780000_01D_01D_OSB.BIA.gz:  13%|█▎        | 8.19k/61.1k [00:01<00:10, 5.09kB/s]\n",
      "COD0MGXFIN_20210780000_01D_01D_OSB.BIA.gz:  67%|██████▋   | 41.0k/61.1k [00:01<00:00, 29.6kB/s]\n",
      "COD0MGXFIN_20210780000_01D_01D_OSB.BIA.gz: 100%|██████████| 61.1k/61.1k [00:02<00:00, 23.9kB/s]\n",
      "\n",
      "COD0MGXFIN_20210780000_01D_05M_ORB.SP3.gz:   0%|          | 0.00/919k [00:00<?, ?B/s]\n",
      "COD0MGXFIN_20210780000_01D_05M_ORB.SP3.gz:   1%|          | 8.19k/919k [00:01<03:00, 5.05kB/s]\n",
      "COD0MGXFIN_20210780000_01D_05M_ORB.SP3.gz:   4%|▍         | 41.0k/919k [00:01<00:29, 29.3kB/s]\n",
      "COD0MGXFIN_20210780000_01D_05M_ORB.SP3.gz:  10%|▉         | 90.1k/919k [00:01<00:12, 68.2kB/s]\n",
      "COD0MGXFIN_20210780000_01D_05M_ORB.SP3.gz:  22%|██▏       | 205k/919k [00:02<00:04, 175kB/s]  \n",
      "COD0MGXFIN_20210780000_01D_05M_ORB.SP3.gz:  44%|████▎     | 401k/919k [00:02<00:01, 370kB/s]\n",
      "COD0MGXFIN_20210780000_01D_05M_ORB.SP3.gz:  65%|██████▌   | 598k/919k [00:02<00:00, 541kB/s]\n",
      "COD0MGXFIN_20210780000_01D_05M_ORB.SP3.gz:  88%|████████▊ | 811k/919k [00:02<00:00, 703kB/s]\n",
      "COD0MGXFIN_20210780000_01D_05M_ORB.SP3.gz: 100%|██████████| 919k/919k [00:03<00:00, 297kB/s]\n",
      "\n",
      "COD0MGXFIN_20210780000_01D_30S_CLK.CLK.gz:   0%|          | 0.00/5.10M [00:00<?, ?B/s]\n",
      "COD0MGXFIN_20210780000_01D_30S_CLK.CLK.gz:   0%|          | 8.19k/5.10M [00:01<16:43, 5.08kB/s]\n",
      "COD0MGXFIN_20210780000_01D_30S_CLK.CLK.gz:   1%|          | 41.0k/5.10M [00:01<02:51, 29.5kB/s]\n",
      "COD0MGXFIN_20210780000_01D_30S_CLK.CLK.gz:   2%|▏         | 90.1k/5.10M [00:01<01:11, 70.0kB/s]\n",
      "COD0MGXFIN_20210780000_01D_30S_CLK.CLK.gz:   4%|▍         | 205k/5.10M [00:02<00:27, 179kB/s]  \n",
      "COD0MGXFIN_20210780000_01D_30S_CLK.CLK.gz:   8%|▊         | 401k/5.10M [00:02<00:12, 378kB/s]\n",
      "COD0MGXFIN_20210780000_01D_30S_CLK.CLK.gz:  12%|█▏        | 598k/5.10M [00:02<00:08, 552kB/s]\n",
      "COD0MGXFIN_20210780000_01D_30S_CLK.CLK.gz:  16%|█▌        | 811k/5.10M [00:02<00:05, 719kB/s]\n",
      "COD0MGXFIN_20210780000_01D_30S_CLK.CLK.gz:  20%|██        | 1.04M/5.10M [00:02<00:04, 876kB/s]\n",
      "COD0MGXFIN_20210780000_01D_30S_CLK.CLK.gz:  25%|██▍       | 1.27M/5.10M [00:03<00:03, 999kB/s]\n",
      "COD0MGXFIN_20210780000_01D_30S_CLK.CLK.gz:  30%|██▉       | 1.52M/5.10M [00:03<00:03, 1.12MB/s]\n",
      "COD0MGXFIN_20210780000_01D_30S_CLK.CLK.gz:  35%|███▍      | 1.78M/5.10M [00:03<00:02, 1.23MB/s]\n",
      "COD0MGXFIN_20210780000_01D_30S_CLK.CLK.gz:  40%|████      | 2.06M/5.10M [00:03<00:02, 1.34MB/s]\n",
      "COD0MGXFIN_20210780000_01D_30S_CLK.CLK.gz:  46%|████▌     | 2.33M/5.10M [00:03<00:01, 1.42MB/s]\n",
      "COD0MGXFIN_20210780000_01D_30S_CLK.CLK.gz:  52%|█████▏    | 2.63M/5.10M [00:03<00:01, 1.50MB/s]\n",
      "COD0MGXFIN_20210780000_01D_30S_CLK.CLK.gz:  58%|█████▊    | 2.96M/5.10M [00:04<00:01, 1.61MB/s]\n",
      "COD0MGXFIN_20210780000_01D_30S_CLK.CLK.gz:  64%|██████▍   | 3.28M/5.10M [00:04<00:01, 1.70MB/s]\n",
      "COD0MGXFIN_20210780000_01D_30S_CLK.CLK.gz:  71%|███████   | 3.63M/5.10M [00:04<00:00, 1.78MB/s]\n",
      "COD0MGXFIN_20210780000_01D_30S_CLK.CLK.gz:  78%|███████▊  | 3.99M/5.10M [00:04<00:00, 1.87MB/s]\n",
      "COD0MGXFIN_20210780000_01D_30S_CLK.CLK.gz:  86%|████████▌ | 4.37M/5.10M [00:04<00:00, 2.18MB/s]\n",
      "COD0MGXFIN_20210780000_01D_30S_CLK.CLK.gz:  93%|█████████▎| 4.76M/5.10M [00:04<00:00, 2.45MB/s]\n",
      "COD0MGXFIN_20210780000_01D_30S_CLK.CLK.gz:  98%|█████████▊| 5.02M/5.10M [00:04<00:00, 2.30MB/s]\n",
      "COD0MGXFIN_20210780000_01D_30S_CLK.CLK.gz: 100%|██████████| 5.10M/5.10M [00:05<00:00, 899kB/s] \n"
     ]
    }
   ],
   "source": [
    "!cd cssrlib-data/samples && python igs_download.py"
   ]
  },
  {
   "cell_type": "markdown",
   "id": "f4191fe5",
   "metadata": {
    "id": "f4191fe5"
   },
   "source": [
    "\n",
    "## Examples\n",
    "\n",
    "This tutorial provides examples to show the basic features of CSSRlib for Standalone, RTK, PPP-RTK, and PPP positioning using correction data from open PPP/PPP-RTK services. The following examples are included:\n",
    "\n",
    "- Visualizing orbit of QZSS satellite\n",
    "- Showing skyplot\n",
    "- Standalone positioning\n",
    "- RTK positioning\n",
    "- PPP-RTK positioning (QZSS-CLAS)\n",
    "- PPP positioning (BeiDou)\n",
    "- PPP positioning (Galileo HAS)\n",
    "- PPP positioning (IGS)\n",
    "- PPP positioning (MADOCA-PPP)\n",
    "- PPP positioning (PPP via SouthPAN)\n",
    "- PPP positioning (JPL GDGPS via RTCM)\n",
    "\n",
    "Note that despite the static setup\n",
    "of the antenna, all data sets are processed assuming a non-stationary antenna. A motion model has not been used for the\n",
    "receiver position. Instead, a sufficiently large amount of process noise has been added to the variance of the predicted position\n",
    "states.\n",
    "\n",
    "Click on the arrows in the left margin to open or close an example"
   ]
  },
  {
   "cell_type": "markdown",
   "id": "b85900d9",
   "metadata": {
    "id": "b85900d9"
   },
   "source": [
    "## Example 1: Visualizing the Orbit of a Satellite\n",
    "\n",
    "In this first example, we will introduce the basic features of CSSRlib to calculate and visualize a QZSS satellite orbit."
   ]
  },
  {
   "cell_type": "markdown",
   "id": "bfe3a51f",
   "metadata": {
    "id": "bfe3a51f"
   },
   "source": [
    "First, we will load the required Python modules such as numpy, matplotlib,  and cartopy. Then we will load modules from CSSRlib."
   ]
  },
  {
   "cell_type": "code",
   "execution_count": 7,
   "id": "a214e8d3",
   "metadata": {
    "id": "a214e8d3",
    "scrolled": true
   },
   "outputs": [],
   "source": [
    "import matplotlib.pyplot as plt\n",
    "import cartopy.crs as ccrs\n",
    "import numpy as np\n",
    "\n",
    "from cssrlib.rinex import rnxdec\n",
    "from cssrlib.gnss import Nav, epoch2time, prn2sat, uGNSS, sat2prn,\\\n",
    "    timeadd, ecef2pos\n",
    "from cssrlib.ephemeris import findeph, eph2pos"
   ]
  },
  {
   "cell_type": "markdown",
   "id": "51e1bdf4",
   "metadata": {
    "id": "51e1bdf4"
   },
   "source": [
    "In CSSRlib, the epoch is defined as Python Class `gtime_t` as in RTKlib. The snippet defines epoch \"19/3/2021 0:00:00\", shows the internal variable of `gtime_t`."
   ]
  },
  {
   "cell_type": "code",
   "execution_count": 8,
   "id": "7e7fe465",
   "metadata": {
    "colab": {
     "base_uri": "https://localhost:8080/"
    },
    "id": "7e7fe465",
    "outputId": "f11ace96-58a0-4b45-d08b-c66111d8bafe"
   },
   "outputs": [
    {
     "data": {
      "text/plain": [
       "(1616112000, 0)"
      ]
     },
     "execution_count": 8,
     "metadata": {},
     "output_type": "execute_result"
    }
   ],
   "source": [
    "t0 = epoch2time([2021, 3, 19, 0, 0, 0]) # year, month, day, hour, minute, sec\n",
    "t0.time,t0.sec"
   ]
  },
  {
   "cell_type": "markdown",
   "id": "d4685e83",
   "metadata": {
    "id": "d4685e83"
   },
   "source": [
    "Then, the ephemeris in RINEX format is loaded using RINEX decoder in CSSRlib."
   ]
  },
  {
   "cell_type": "code",
   "execution_count": 30,
   "id": "121d290e",
   "metadata": {
    "id": "121d290e"
   },
   "outputs": [],
   "source": [
    "dec = rnxdec()\n",
    "nav = dec.decode_nav( 'cssrlib-data/data/doy2021-078/30340780.21q', Nav()) # load RINEX navigation file"
   ]
  },
  {
   "cell_type": "markdown",
   "id": "155442bb",
   "metadata": {
    "id": "155442bb"
   },
   "source": [
    "The satellites are identified by the system (GPS, Galileo, QZS, ...) and by PRN number. They should be converted into the internal satellite numbers using prn2sat. This snippet shows the satellite number for QZSS with PRN 194 (QZS-2):"
   ]
  },
  {
   "cell_type": "code",
   "execution_count": 11,
   "id": "8a855d63",
   "metadata": {
    "colab": {
     "base_uri": "https://localhost:8080/"
    },
    "id": "8a855d63",
    "outputId": "4a472f36-a361-4e98-99f4-266d6565cf44"
   },
   "outputs": [
    {
     "data": {
      "text/plain": [
       "70"
      ]
     },
     "execution_count": 11,
     "metadata": {},
     "output_type": "execute_result"
    }
   ],
   "source": [
    "sat = prn2sat(uGNSS.QZS, 194)\n",
    "sat"
   ]
  },
  {
   "cell_type": "markdown",
   "id": "100629b9",
   "metadata": {
    "id": "100629b9"
   },
   "source": [
    "The orbit position of a GNSS satellite can be calculated using ephemeris defined in the RINEX navigation file. The valid ephemeris for a specific epoch can be searched for using `findeph`. Position and velocity in ECEF and clock bias are calculated by eph2pos. The position in geodetic cordinates can be calculated by ecef2pos:"
   ]
  },
  {
   "cell_type": "code",
   "execution_count": 12,
   "id": "821f0d38",
   "metadata": {
    "colab": {
     "base_uri": "https://localhost:8080/"
    },
    "id": "821f0d38",
    "outputId": "56b690f1-ef2b-4666-afb1-7cef7090f210"
   },
   "outputs": [
    {
     "name": "stdout",
     "output_type": "stream",
     "text": [
      "rs= [-27695465.67390223  25576355.5431149   23733383.2869802 ] vs= [ 618.82498925 -271.15881898 1281.49729409] dts= 3.4869334074196084e-06\n",
      "pos= [5.62300943e-01 2.39595272e+00 3.81752334e+07]\n"
     ]
    }
   ],
   "source": [
    "t = t0\n",
    "eph = findeph(nav.eph, t, sat)\n",
    "rs, vs, dts = eph2pos(t, eph, True)\n",
    "print('rs=',rs, 'vs=', vs,'dts=', dts)\n",
    "pos = ecef2pos(rs)\n",
    "print('pos=',pos)"
   ]
  },
  {
   "cell_type": "markdown",
   "id": "9ca6e0b2",
   "metadata": {
    "id": "9ca6e0b2"
   },
   "source": [
    "The orbit of QZS-2 for 1 day (24 hours) is calculated and plotted using Cartopy:"
   ]
  },
  {
   "cell_type": "code",
   "execution_count": 13,
   "id": "fc82fdfc",
   "metadata": {
    "colab": {
     "base_uri": "https://localhost:8080/",
     "height": 400
    },
    "id": "fc82fdfc",
    "outputId": "1df8431b-4097-4ec1-cc91-e64677021dd4",
    "scrolled": true
   },
   "outputs": [
    {
     "data": {
      "image/png": "[encoded data removed]",
      "text/plain": [
       "<Figure size 400x400 with 1 Axes>"
      ]
     },
     "metadata": {},
     "output_type": "display_data"
    }
   ],
   "source": [
    "lon0 = 135\n",
    "plt.figure(figsize=(4, 4))\n",
    "ax = plt.axes(projection=ccrs.Orthographic(central_longitude=lon0,\n",
    "                                           central_latitude=0))\n",
    "ax.coastlines(resolution='50m')\n",
    "ax.gridlines()\n",
    "ax.stock_img()\n",
    "\n",
    "n = 24*3600//300\n",
    "pos = np.zeros((n, 3))\n",
    "r2d = 180/np.pi\n",
    "\n",
    "for k in range(uGNSS.MAXSAT):\n",
    "    sat = k+1\n",
    "    sys, prn = sat2prn(sat)\n",
    "    if sys != uGNSS.QZS:  # skip non QZSS\n",
    "        continue\n",
    "    for i in range(n):\n",
    "        t = timeadd(t0, i*300)\n",
    "        if eph is None:\n",
    "            continue\n",
    "        rs, dts = eph2pos(t, eph)\n",
    "        pos[i, :] = ecef2pos(rs)\n",
    "\n",
    "    plt.plot(pos[:, 1]*r2d, pos[:, 0]*r2d, 'm-', transform=ccrs.Geodetic())\n",
    "plt.show()"
   ]
  },
  {
   "cell_type": "markdown",
   "id": "d93de7b9",
   "metadata": {
    "id": "d93de7b9"
   },
   "source": [
    "## Example 2: Showing a Skyplot\n",
    "\n",
    "For the visualization of measurements, CSSRlib supports the skyplots of satellite orbit paths at specific locations. At first, the required modules are loaded."
   ]
  },
  {
   "cell_type": "code",
   "execution_count": 14,
   "id": "acae2d99",
   "metadata": {
    "id": "acae2d99"
   },
   "outputs": [],
   "source": [
    "import numpy as np\n",
    "from cssrlib.gnss import Nav, ecef2pos, geodist, satazel, timediff, uGNSS, rSigRnx\n",
    "from cssrlib.ephemeris import findeph, eph2pos\n",
    "from cssrlib.plot import skyplot, plot_elv\n",
    "from cssrlib.rinex import rnxdec"
   ]
  },
  {
   "cell_type": "markdown",
   "id": "212a514f",
   "metadata": {
    "id": "212a514f"
   },
   "source": [
    "Then, an instance of a RINEX decoder is generated. In this example, the observation and navigation files measured by a Septentrio Mosaic-X5 receiver are used. We also need to specify which satellite signals will be used."
   ]
  },
  {
   "cell_type": "code",
   "execution_count": 15,
   "id": "7936c023",
   "metadata": {
    "id": "7936c023"
   },
   "outputs": [],
   "source": [
    "navfile = 'cssrlib-data/data/doy2021-078/SEPT078M.21P'\n",
    "obsfile = 'cssrlib-data/data/doy2021-078/SEPT078M.21O'\n",
    "\n",
    "dec = rnxdec()\n",
    "nav = dec.decode_nav(navfile,Nav())\n",
    "\n",
    "sigs = [rSigRnx(\"GC1C\"), rSigRnx(\"EC1C\"), rSigRnx(\"JC1C\")]\n",
    "dec.setSignals(sigs)"
   ]
  },
  {
   "cell_type": "markdown",
   "id": "33661340",
   "metadata": {
    "id": "33661340"
   },
   "source": [
    "Next, the orbit of tracked satellites is calculated for 15 minutes of epoch."
   ]
  },
  {
   "cell_type": "code",
   "execution_count": 16,
   "id": "52f2754b",
   "metadata": {
    "colab": {
     "base_uri": "https://localhost:8080/"
    },
    "id": "52f2754b",
    "outputId": "1df58f43-e83a-4bfc-a073-04cd3cf22e29"
   },
   "outputs": [
    {
     "name": "stdout",
     "output_type": "stream",
     "text": [
      "epoch=899/900"
     ]
    }
   ],
   "source": [
    "nep = 15*60  # 15 minutes\n",
    "elv = np.ones((nep, uGNSS.MAXSAT))*np.nan\n",
    "azm = np.ones((nep, uGNSS.MAXSAT))*np.nan\n",
    "t = np.zeros(nep)*np.nan\n",
    "\n",
    "if dec.decode_obsh(obsfile) >= 0:\n",
    "    rr = dec.pos\n",
    "    pos = ecef2pos(rr)\n",
    "    for ne in range(nep):\n",
    "        print('\\repoch=%d/%d' % (ne, nep), end='')\n",
    "        obs = dec.decode_obs()\n",
    "        if ne == 0:\n",
    "            t0 = obs.t\n",
    "        t[ne] = timediff(obs.t, t0)\n",
    "        for k, sat in enumerate(obs.sat):\n",
    "            eph = findeph(nav.eph, obs.t, sat)\n",
    "            if eph is None:\n",
    "                continue\n",
    "            rs, dts = eph2pos(obs.t, eph)\n",
    "            r, e = geodist(rs, rr)\n",
    "            azm[ne, sat-1], elv[ne, sat-1] = satazel(pos, e)\n",
    "    dec.fobs.close()"
   ]
  },
  {
   "cell_type": "markdown",
   "id": "9173173b",
   "metadata": {
    "id": "9173173b"
   },
   "source": [
    "The elevation and azimuth angles of each satellite are recorded, and the skyplot is generated as below:"
   ]
  },
  {
   "cell_type": "code",
   "execution_count": 17,
   "id": "73f6d5a9",
   "metadata": {
    "colab": {
     "base_uri": "https://localhost:8080/",
     "height": 459
    },
    "id": "73f6d5a9",
    "outputId": "a861001d-5c1d-4a0f-817a-af96be58bbd8"
   },
   "outputs": [
    {
     "data": {
      "image/png": "[encoded data removed]",
      "text/plain": [
       "<Figure size 640x480 with 1 Axes>"
      ]
     },
     "metadata": {},
     "output_type": "display_data"
    }
   ],
   "source": [
    "#plot_elv(t, elv)\n",
    "nsat = skyplot(azm, elv)"
   ]
  },
  {
   "cell_type": "markdown",
   "id": "5a058567",
   "metadata": {
    "id": "5a058567"
   },
   "source": [
    "## Example 3: Standalone positioning\n",
    "\n",
    "This section introduces standalone GNSS positioning using RINEX observations from a Septentrio Mosaic-X5 receiver."
   ]
  },
  {
   "cell_type": "markdown",
   "id": "HlMNxLjFD1FK",
   "metadata": {
    "id": "HlMNxLjFD1FK"
   },
   "source": [
    "First, the required Python modules are loaded."
   ]
  },
  {
   "cell_type": "code",
   "execution_count": 18,
   "id": "0b6966d0",
   "metadata": {
    "id": "0b6966d0"
   },
   "outputs": [],
   "source": [
    "import matplotlib.pyplot as plt\n",
    "import numpy as np\n",
    "from cssrlib.rinex import rnxdec\n",
    "from cssrlib.gnss import ecef2pos, timediff, dops, ecef2enu, rSigRnx, Nav\n",
    "from cssrlib.pntpos import stdpos"
   ]
  },
  {
   "cell_type": "markdown",
   "id": "81f53fb6",
   "metadata": {
    "id": "81f53fb6"
   },
   "source": [
    "Then the rover position is defined for reference."
   ]
  },
  {
   "cell_type": "code",
   "execution_count": 19,
   "id": "4395530a",
   "metadata": {
    "id": "4395530a"
   },
   "outputs": [],
   "source": [
    "xyz_ref = [-3962108.6726, 3381309.4719, 3668678.6264]\n",
    "pos_ref = ecef2pos(xyz_ref)"
   ]
  },
  {
   "cell_type": "markdown",
   "id": "c9e2c786",
   "metadata": {
    "id": "c9e2c786"
   },
   "source": [
    "RINEX navigation and observation files are defined, an instance of RINEX decoder is generated, and satellite signals are specified."
   ]
  },
  {
   "cell_type": "code",
   "execution_count": 20,
   "id": "3a6534d6",
   "metadata": {
    "id": "3a6534d6"
   },
   "outputs": [],
   "source": [
    "navfile = 'cssrlib-data/data/doy2023-223/NAV223.23p'\n",
    "obsfile = 'cssrlib-data/data/doy2023-223/SEPT223Y.23O'  # PolaRX5\n",
    "dec = rnxdec()\n",
    "nav = dec.decode_nav(navfile, Nav(nf=1))\n",
    "nav.pmode = 0\n",
    "\n",
    "sigs = [rSigRnx(\"GC1C\"), rSigRnx(\"EC1C\"), rSigRnx(\"JC1C\"),\n",
    "        rSigRnx(\"GL1C\"), rSigRnx(\"EL1C\"), rSigRnx(\"JL1C\"),\n",
    "        rSigRnx(\"GS1C\"), rSigRnx(\"ES1C\"), rSigRnx(\"JS1C\")]\n",
    "dec.setSignals(sigs)\n",
    "dec.autoSubstituteSignals()"
   ]
  },
  {
   "cell_type": "markdown",
   "id": "c05a83bf",
   "metadata": {
    "id": "c05a83bf"
   },
   "source": [
    "The variables for position, DOPs, and number of satellite are defined for 6 minutes epoch."
   ]
  },
  {
   "cell_type": "code",
   "execution_count": 21,
   "id": "b9c7f872",
   "metadata": {
    "id": "b9c7f872"
   },
   "outputs": [],
   "source": [
    "nep = 6*60  # 6 minutes\n",
    "t = np.zeros(nep)\n",
    "enu = np.zeros((nep, 3))\n",
    "dop = np.zeros((nep, 4))\n",
    "nsat = np.zeros(nep, dtype=int)\n",
    "\n",
    "std = stdpos(nav, dec.pos, 'test_stdpos.log')\n",
    "sol = np.zeros((nep, nav.nx))"
   ]
  },
  {
   "cell_type": "markdown",
   "id": "e48d2d16",
   "metadata": {
    "id": "e48d2d16"
   },
   "source": [
    "The standalone GNSS positioning by `std.process()` is conducted for 6 minutes."
   ]
  },
  {
   "cell_type": "code",
   "execution_count": 22,
   "id": "63fee89c",
   "metadata": {
    "colab": {
     "base_uri": "https://localhost:8080/"
    },
    "id": "63fee89c",
    "outputId": "1d5536c5-dd69-4e7f-a031-2ce77de64aab"
   },
   "outputs": [
    {
     "name": "stdout",
     "output_type": "stream",
     "text": [
      "epoch=359/360"
     ]
    }
   ],
   "source": [
    "if dec.decode_obsh(obsfile) >= 0:\n",
    "    nav.x[0:3] = dec.pos\n",
    "    for ne in range(nep):\n",
    "        print('\\repoch=%d/%d' % (ne, nep), end='')\n",
    "        obs = dec.decode_obs()\n",
    "        if ne == 0:\n",
    "            t0 = nav.t = obs.t\n",
    "        t[ne] = timediff(obs.t, t0)\n",
    "        # nav, az, el = pntpos(obs, nav)\n",
    "        std.process(obs, cs=None)\n",
    "        sol[ne, :] = nav.x\n",
    "        dop[ne, :] = std.dop\n",
    "        enu[ne, :] = ecef2enu(pos_ref, sol[ne, 0:3]-xyz_ref)\n",
    "        #nsat[ne] = len(el)\n",
    "    dec.fobs.close()"
   ]
  },
  {
   "cell_type": "markdown",
   "id": "b1d924c7",
   "metadata": {
    "id": "b1d924c7"
   },
   "source": [
    "The ENU position relative to the reference position is plotted."
   ]
  },
  {
   "cell_type": "code",
   "execution_count": 23,
   "id": "c6b68b55",
   "metadata": {
    "colab": {
     "base_uri": "https://localhost:8080/",
     "height": 393
    },
    "id": "c6b68b55",
    "outputId": "a88918ff-43b7-4f6e-9f7e-e2d7207f2305"
   },
   "outputs": [
    {
     "data": {
      "image/png": "[encoded data removed]",
      "text/plain": [
       "<Figure size 500x400 with 1 Axes>"
      ]
     },
     "metadata": {},
     "output_type": "display_data"
    }
   ],
   "source": [
    "def plt_enu(t, enu, dmax=0.4):\n",
    "    plt.figure(figsize=(5,4))\n",
    "    plt.plot(t, enu)\n",
    "    plt.ylabel('pos err[m]')\n",
    "    plt.xlabel('time[s]')\n",
    "    plt.legend(['east', 'north', 'up'])\n",
    "    plt.grid()\n",
    "    plt.axis([0, nep, -dmax, dmax])\n",
    "    plt.show()\n",
    "\n",
    "plt_enu(t, enu, 10)"
   ]
  },
  {
   "cell_type": "markdown",
   "id": "d2f49f64",
   "metadata": {
    "id": "d2f49f64"
   },
   "source": [
    "To measure the geometry for positioning, DOPs (PDOP, HDOP, VDOP) are plotted:"
   ]
  },
  {
   "cell_type": "code",
   "execution_count": 24,
   "id": "5c2d1644",
   "metadata": {
    "colab": {
     "base_uri": "https://localhost:8080/",
     "height": 393
    },
    "id": "5c2d1644",
    "outputId": "cad2e346-925c-48a2-efc8-f0acc09f1ddd"
   },
   "outputs": [
    {
     "data": {
      "image/png": "[encoded data removed]",
      "text/plain": [
       "<Figure size 500x400 with 1 Axes>"
      ]
     },
     "metadata": {},
     "output_type": "display_data"
    }
   ],
   "source": [
    "def plt_dop(t, dop):\n",
    "    nep = len(t)\n",
    "    plt.figure(figsize=(5,4))\n",
    "    plt.plot(t, dop)\n",
    "    plt.legend(['pdop', 'hdop', 'vdop'])\n",
    "    plt.grid()\n",
    "    plt.axis([0, nep, 0, 2])\n",
    "    plt.xlabel('time[s]')\n",
    "    plt.show()\n",
    "\n",
    "plt_dop(t,dop[:,1:])"
   ]
  },
  {
   "cell_type": "markdown",
   "id": "3b8b422e",
   "metadata": {
    "id": "3b8b422e"
   },
   "source": [
    "## Example 4: RTK positioning\n",
    "\n",
    "This section demonstrates static RTK positioning under open-sky conditions using a Septentrio Mosaic-X5 rover and a Trimble Net-R9 base. The results are obtained using dual-frequency pseudorange and carrier-phase observations of GPS, Galileo and QZSS.  "
   ]
  },
  {
   "cell_type": "markdown",
   "id": "QxWZFIuDDrJL",
   "metadata": {
    "id": "QxWZFIuDDrJL"
   },
   "source": [
    "First, load the required Python modules."
   ]
  },
  {
   "cell_type": "code",
   "execution_count": 2,
   "id": "efb004df",
   "metadata": {
    "id": "efb004df"
   },
   "outputs": [],
   "source": [
    "import matplotlib.pyplot as plt\n",
    "import numpy as np\n",
    "import sys\n",
    "\n",
    "import cssrlib.rinex as rn\n",
    "import cssrlib.gnss as gn\n",
    "from cssrlib.gnss import rSigRnx, time2str\n",
    "from cssrlib.peph import atxdec, searchpcv\n",
    "from cssrlib.rtk import rtkpos"
   ]
  },
  {
   "cell_type": "markdown",
   "id": "8d7dc263",
   "metadata": {
    "id": "8d7dc263"
   },
   "source": [
    "Define the reference position of the rover for evaulation."
   ]
  },
  {
   "cell_type": "code",
   "execution_count": 5,
   "id": "2f4925cd",
   "metadata": {
    "id": "2f4925cd"
   },
   "outputs": [],
   "source": [
    "xyz_ref = [-3962108.6836, 3381309.5672, 3668678.6720]\n",
    "pos_ref = gn.ecef2pos(xyz_ref)"
   ]
  },
  {
   "cell_type": "markdown",
   "id": "Y3W-iGU2zAgE",
   "metadata": {
    "id": "Y3W-iGU2zAgE"
   },
   "source": [
    "Specify the satellite signals to be processed for base and rover. We choose L1C/A, L2P(Y) for GPS, E1, E5a for Galileo, L1C/A, L2C(L) for QZSS."
   ]
  },
  {
   "cell_type": "code",
   "execution_count": 4,
   "id": "_wHtdNenzCBI",
   "metadata": {
    "id": "_wHtdNenzCBI"
   },
   "outputs": [],
   "source": [
    "sigs = [rSigRnx(\"GC1C\"), rSigRnx(\"GC2W\"),\n",
    "        rSigRnx(\"EC1C\"), rSigRnx(\"EC5Q\"),\n",
    "        rSigRnx(\"JC1C\"), rSigRnx(\"JC2L\"),\n",
    "        rSigRnx(\"GL1C\"), rSigRnx(\"GL2W\"),\n",
    "        rSigRnx(\"EL1C\"), rSigRnx(\"EL5Q\"),\n",
    "        rSigRnx(\"JL1C\"), rSigRnx(\"JL2L\"),\n",
    "        rSigRnx(\"GS1C\"), rSigRnx(\"GS2W\"),\n",
    "        rSigRnx(\"ES1C\"), rSigRnx(\"ES5Q\"),\n",
    "        rSigRnx(\"JS1C\"), rSigRnx(\"JS2L\")]"
   ]
  },
  {
   "cell_type": "markdown",
   "id": "ba9c559c",
   "metadata": {
    "id": "ba9c559c"
   },
   "source": [
    "Load the measurement and ephemeris data for the rover (Septentrio Mosaic-X5)."
   ]
  },
  {
   "cell_type": "code",
   "execution_count": 6,
   "id": "27b26fcf",
   "metadata": {
    "id": "27b26fcf"
   },
   "outputs": [],
   "source": [
    "bdir = 'cssrlib-data/data/doy2025-233/'\n",
    "navfile = bdir+'233h_rnx.nav'\n",
    "obsfile = bdir+'233h_rnx.obs'\n",
    "\n",
    "# rover\n",
    "dec = rn.rnxdec()\n",
    "dec.setSignals(sigs)\n",
    "nav = gn.Nav()\n",
    "dec.decode_nav(navfile, nav)\n",
    "dec.decode_obsh(obsfile)\n",
    "dec.autoSubstituteSignals()"
   ]
  },
  {
   "cell_type": "markdown",
   "id": "6521c242",
   "metadata": {
    "id": "6521c242"
   },
   "source": [
    "For RTK positioning, the observation file for the base station also needs to be specified, as well as the position of the base station."
   ]
  },
  {
   "cell_type": "code",
   "execution_count": 7,
   "id": "85530a51",
   "metadata": {
    "id": "85530a51"
   },
   "outputs": [],
   "source": [
    "# base station\n",
    "basefile = bdir+'3034233H.25o'\n",
    "nav.rb = [-3959400.6242, 3385704.4927, 3667523.1257]  # GSI 3034 fujisawa\n",
    "decb = rn.rnxdec()\n",
    "decb.setSignals(sigs)\n",
    "decb.decode_obsh(basefile)\n",
    "decb.autoSubstituteSignals()"
   ]
  },
  {
   "cell_type": "markdown",
   "id": "-U6kZhcR0tjZ",
   "metadata": {
    "id": "-U6kZhcR0tjZ"
   },
   "source": [
    "Load the antenna data for the satellites and receivers"
   ]
  },
  {
   "cell_type": "code",
   "execution_count": 15,
   "id": "2biX0yEj02cX",
   "metadata": {
    "id": "2biX0yEj02cX"
   },
   "outputs": [
    {
     "name": "stdout",
     "output_type": "stream",
     "text": [
      "[Rover] Receiver: SEPT MOSAICX5        Antenna: JAVRINGANT_DM   JVDM\n",
      "[Base]  Receiver: TRIMBLE ALLOY        Antenna: TRM159900.00    GSI6\n"
     ]
    }
   ],
   "source": [
    "atxfile = bdir + '../antex/igs20.atx'\n",
    "ngsantfile = bdir + '../GSI_PCV.TXT'\n",
    "\n",
    "atx = atxdec()\n",
    "atx.readpcv(atxfile)\n",
    "atx.readngspcv(ngsantfile)\n",
    "\n",
    "# Set PCO/PCV information\n",
    "nav.rcv_ant = searchpcv(atx.pcvr, dec.ant,  dec.ts)\n",
    "nav.rcv_ant_b = searchpcv(atx.pcvr, decb.ant,  dec.ts)\n",
    "\n",
    "# Get equipment information\n",
    "print(f\"[Rover] Receiver: {dec.rcv} Antenna: {dec.ant}\")\n",
    "print(f\"[Base]  Receiver: {decb.rcv} Antenna: {decb.ant}\")"
   ]
  },
  {
   "cell_type": "markdown",
   "id": "18286a6a",
   "metadata": {
    "id": "18286a6a"
   },
   "source": [
    "Initialize the variables for position and the RTK configuration parameters."
   ]
  },
  {
   "cell_type": "code",
   "execution_count": 9,
   "id": "de72b4fc",
   "metadata": {
    "id": "de72b4fc"
   },
   "outputs": [],
   "source": [
    "rtk = rtkpos(nav, dec.pos, 'test_rtk.log')\n",
    "rr = dec.pos"
   ]
  },
  {
   "cell_type": "markdown",
   "id": "f8bca1dc",
   "metadata": {
    "id": "f8bca1dc"
   },
   "source": [
    "Run RTK positioning for 3 minutes (epochs) using `rtk.process()`."
   ]
  },
  {
   "cell_type": "code",
   "execution_count": 10,
   "id": "7cb2c994",
   "metadata": {
    "colab": {
     "base_uri": "https://localhost:8080/"
    },
    "id": "7cb2c994",
    "outputId": "4e255d85-df3a-46f4-ef1f-d45b8e6acd6b"
   },
   "outputs": [
    {
     "name": "stdout",
     "output_type": "stream",
     "text": [
      " 2025-08-21 07:03:00 ENU  0.0007  0.0058 -0.0656, 2D 0.0059, mode 4"
     ]
    }
   ],
   "source": [
    "nep = 3 * 60  # 3 minutes\n",
    "t = np.zeros(nep)\n",
    "enu = np.zeros((nep, 3))\n",
    "smode = np.zeros(nep, dtype=int)\n",
    "\n",
    "for ne in range(nep):\n",
    "    obs, obsb = rn.sync_obs(dec, decb)\n",
    "    if ne == 0:\n",
    "        t0 = nav.t = obs.t\n",
    "    rtk.process(obs, obsb=obsb)\n",
    "    t[ne] = gn.timediff(nav.t, t0)\n",
    "    sol = nav.xa[0:3] if nav.smode == 4 else nav.x[0:3]\n",
    "    enu[ne, :] = gn.ecef2enu(pos_ref, sol-xyz_ref)\n",
    "    smode[ne] = nav.smode\n",
    "    # Log to standard output\n",
    "    sys.stdout.write('\\r {} ENU {:7.4f} {:7.4f} {:7.4f}, 2D {:6.4f}, mode {:1d}'\n",
    "                     .format(time2str(obs.t),\n",
    "                             enu[ne, 0], enu[ne, 1], enu[ne, 2],\n",
    "                             np.sqrt(enu[ne, 0]**2+enu[ne, 1]**2),\n",
    "                             smode[ne]))\n",
    "\n",
    "dec.fobs.close()\n",
    "decb.fobs.close()"
   ]
  },
  {
   "cell_type": "markdown",
   "id": "54c2a23a",
   "metadata": {
    "id": "54c2a23a"
   },
   "source": [
    "Plot the position relative to the reference position."
   ]
  },
  {
   "cell_type": "code",
   "execution_count": 11,
   "id": "92fbb0cd",
   "metadata": {
    "colab": {
     "base_uri": "https://localhost:8080/",
     "height": 393
    },
    "id": "92fbb0cd",
    "outputId": "96f60208-34dc-4bc2-e528-eba39c405454"
   },
   "outputs": [
    {
     "data": {
      "image/png": "[encoded data removed]",
      "text/plain": [
       "<Figure size 500x400 with 1 Axes>"
      ]
     },
     "metadata": {},
     "output_type": "display_data"
    }
   ],
   "source": [
    "def plt_enu(t, enu, dmax=0.1):\n",
    "    plt.figure(figsize=(5,4))\n",
    "    plt.plot(t, enu)\n",
    "    plt.ylabel('pos err[m]')\n",
    "    plt.xlabel('time[s]')\n",
    "    plt.legend(['east', 'north', 'up'])\n",
    "    plt.grid()\n",
    "    plt.axis([0, nep, -dmax, dmax])\n",
    "    plt.show()\n",
    "\n",
    "plt_enu(t, enu)"
   ]
  },
  {
   "cell_type": "markdown",
   "id": "1c4b06ee",
   "metadata": {
    "id": "1c4b06ee"
   },
   "source": [
    "## Example 5: PPP-RTK positioning (QZSS CLAS)\n",
    "\n",
    "This section demonstrates PPP-RTK positioning using uncombined receiver observations and recorded QZSS\n",
    "L6 binary messages."
   ]
  },
  {
   "cell_type": "markdown",
   "id": "lnzfElSPNdSa",
   "metadata": {
    "id": "lnzfElSPNdSa"
   },
   "source": [
    "First, load the required Python modules."
   ]
  },
  {
   "cell_type": "code",
   "execution_count": 17,
   "id": "2c71bec7",
   "metadata": {
    "id": "2c71bec7"
   },
   "outputs": [],
   "source": [
    "from copy import deepcopy\n",
    "import matplotlib.pyplot as plt\n",
    "import numpy as np\n",
    "from sys import stdout\n",
    "from binascii import unhexlify\n",
    "\n",
    "import cssrlib.gnss as gn\n",
    "from cssrlib.cssrlib import cssr\n",
    "from cssrlib.gnss import ecef2pos, Nav, time2gpst, timediff, time2str, time2doy\n",
    "from cssrlib.gnss import rSigRnx, sys2str, epoch2time\n",
    "from cssrlib.peph import atxdec, searchpcv\n",
    "from cssrlib.ppprtk import ppprtkpos\n",
    "from cssrlib.rinex import rnxdec"
   ]
  },
  {
   "cell_type": "markdown",
   "id": "a0d40a99",
   "metadata": {
    "id": "a0d40a99"
   },
   "source": [
    "Define the RINEX observation, navigation, and antenna files, and starting epoch"
   ]
  },
  {
   "cell_type": "code",
   "execution_count": 18,
   "id": "8abf712f",
   "metadata": {
    "id": "8abf712f"
   },
   "outputs": [],
   "source": [
    "ep = [2025, 8, 21, 7, 0, 0]  # year, month, day, hour, min, sec\n",
    "time = epoch2time(ep)\n",
    "doy = int(time2doy(time)) \n",
    "bdir = f'cssrlib-data/data/doy{ep[0]:04d}-{doy:03d}/'\n",
    "navfile = bdir+f'{doy:03d}h_rnx.nav'\n",
    "obsfile = bdir+f'{doy:03d}h_rnx.obs'\n",
    "atxfile = 'cssrlib-data/data/antex/igs20.atx'\n",
    "\n",
    "nav = Nav()\n",
    "nav = dec.decode_nav(navfile, nav)\n",
    "\n",
    "atx = atxdec()\n",
    "atx.readpcv(atxfile)"
   ]
  },
  {
   "cell_type": "markdown",
   "id": "c803c03a",
   "metadata": {
    "id": "c803c03a"
   },
   "source": [
    "For reference, specify the rover position."
   ]
  },
  {
   "cell_type": "code",
   "execution_count": 19,
   "id": "d60ec1b6",
   "metadata": {
    "id": "d60ec1b6"
   },
   "outputs": [],
   "source": [
    "xyz_ref = [-3962108.7007, 3381309.5532, 3668678.6648]\n",
    "pos_ref = ecef2pos(xyz_ref)"
   ]
  },
  {
   "cell_type": "markdown",
   "id": "ad8ce40c",
   "metadata": {
    "id": "ad8ce40c"
   },
   "source": [
    "QZSS CLAS correction messages are encoded in Compact SSR format. In this example, the recorded L6 data is used. Also load the grid position of QZSS CLAS as defined in IS-QZSS-L6\n",
    "."
   ]
  },
  {
   "cell_type": "code",
   "execution_count": 20,
   "id": "03836a0a",
   "metadata": {
    "id": "03836a0a"
   },
   "outputs": [],
   "source": [
    "file_l6 = bdir + f'{doy:03d}h_qzsl6.txt'\n",
    "prn_ref = 199  # QZSS PRN\n",
    "l6_ch = 0  # 0:L6D, 1:L6E\n",
    "\n",
    "griddef = 'cssrlib-data/data/clas_grid.def'\n",
    "cs = cssr()\n",
    "cs.monlevel = 1\n",
    "time = epoch2time(ep)\n",
    "cs.week = time2gpst(time)[0]\n",
    "cs.read_griddef(griddef)"
   ]
  },
  {
   "cell_type": "markdown",
   "id": "owr8qtA63hn4",
   "metadata": {
    "id": "owr8qtA63hn4"
   },
   "source": [
    "Specify signals to be processed. We choose L1C/A+L2P(Y) for GPS, E1+E5a for Galileo, L1C+L2C(L) for QZSS."
   ]
  },
  {
   "cell_type": "code",
   "execution_count": 22,
   "id": "Loa7UDk43iBF",
   "metadata": {
    "id": "Loa7UDk43iBF"
   },
   "outputs": [],
   "source": [
    "sigs = [rSigRnx(\"GC1C\"), rSigRnx(\"GC2W\"),\n",
    "        rSigRnx(\"EC1C\"), rSigRnx(\"EC5Q\"),\n",
    "        rSigRnx(\"JC1C\"), rSigRnx(\"JC2L\"),\n",
    "        rSigRnx(\"GL1C\"), rSigRnx(\"GL2W\"),\n",
    "        rSigRnx(\"EL1C\"), rSigRnx(\"EL5Q\"),\n",
    "        rSigRnx(\"JL1C\"), rSigRnx(\"JL2L\"),\n",
    "        rSigRnx(\"GS1C\"), rSigRnx(\"GS2W\"),\n",
    "        rSigRnx(\"ES1C\"), rSigRnx(\"ES5Q\"),\n",
    "        rSigRnx(\"JS1C\"), rSigRnx(\"JS2L\")]\n",
    "\n",
    "rnx = rnxdec()\n",
    "rnx.setSignals(sigs)"
   ]
  },
  {
   "cell_type": "markdown",
   "id": "gu9YXwY56gwE",
   "metadata": {
    "id": "gu9YXwY56gwE"
   },
   "source": [
    "Initialize position and antenna PCO/PCVs"
   ]
  },
  {
   "cell_type": "code",
   "execution_count": 24,
   "id": "f4ea3b73",
   "metadata": {
    "id": "f4ea3b73"
   },
   "outputs": [
    {
     "name": "stdout",
     "output_type": "stream",
     "text": [
      "[Rover] Receiver: SEPT MOSAICX5        Antenna: JAVRINGANT_DM   JVDM\n"
     ]
    }
   ],
   "source": [
    "if rnx.decode_obsh(obsfile) >= 0:\n",
    "    # Auto-substitute signals\n",
    "    rnx.autoSubstituteSignals()\n",
    "\n",
    "    # Initialize position\n",
    "    ppprtk = ppprtkpos(nav, rnx.pos, 'test_ppprtk.log')\n",
    "\n",
    "    # Set PCO/PCV information\n",
    "    nav.rcv_ant = searchpcv(atx.pcvr, rnx.ant,  rnx.ts)\n",
    "    # Get equipment information\n",
    "    print(f\"[Rover] Receiver: {dec.rcv} Antenna: {dec.ant}\")"
   ]
  },
  {
   "cell_type": "markdown",
   "id": "R_V2QknK68gO",
   "metadata": {
    "id": "R_V2QknK68gO"
   },
   "source": [
    "Print available signals and selected signals"
   ]
  },
  {
   "cell_type": "code",
   "execution_count": 25,
   "id": "voS1RIxb68wl",
   "metadata": {
    "colab": {
     "base_uri": "https://localhost:8080/"
    },
    "id": "voS1RIxb68wl",
    "outputId": "878b5434-0e0e-418b-b657-3294d4601a50"
   },
   "outputs": [
    {
     "name": "stdout",
     "output_type": "stream",
     "text": [
      "Available signals\n",
      "GPS     C1C L1C D1C S1C C2W L2W D2W S2W C2L L2L D2L S2L C5Q L5Q D5Q S5Q\n",
      "GLONASS C1C L1C D1C S1C C2C L2C D2C S2C C2P L2P D2P S2P C3Q L3Q D3Q S3Q\n",
      "GALILEO C1C L1C D1C S1C C5Q L5Q D5Q S5Q C7Q L7Q D7Q S7Q C8Q L8Q D8Q S8Q C6C L6C D6C S6C\n",
      "BEIDOU  C1P L1P D1P S1P C2I L2I D2I S2I C5P L5P D5P S5P C6I L6I D6I S6I C7D L7D D7D S7D C7I L7I D7I S7I\n",
      "QZSS    C1C L1C D1C S1C C1E L1E D1E S1E C1L L1L D1L S1L C2L L2L D2L S2L C5Q L5Q D5Q S5Q\n",
      "IRNSS   C1P L1P D1P S1P C5A L5A D5A S5A\n",
      "\n",
      "Selected signals\n",
      "GPS     C1C C2W L1C L2W S1C S2W \n",
      "GALILEO C1C C5Q L1C L5Q S1C S5Q \n",
      "QZSS    C1C C2L L1C L2L S1C S2L \n"
     ]
    }
   ],
   "source": [
    "print(\"Available signals\")\n",
    "for sys, sigs in rnx.sig_map.items():\n",
    "    txt = \"{:7s} {}\".format(sys2str(sys),\n",
    "            ' '.join([sig.str() for sig in sigs.values()]))\n",
    "    print(txt)\n",
    "\n",
    "print(\"\\nSelected signals\")\n",
    "for sys, tmp in rnx.sig_tab.items():\n",
    "    txt = \"{:7s} \".format(sys2str(sys))\n",
    "    for _, sigs in tmp.items():\n",
    "        txt += \"{} \".format(' '.join([sig.str() for sig in sigs]))\n",
    "    print(txt)\n"
   ]
  },
  {
   "cell_type": "markdown",
   "id": "0lkUmvxU7Xs8",
   "metadata": {
    "id": "0lkUmvxU7Xs8"
   },
   "source": [
    "Get grid location and open L6 file"
   ]
  },
  {
   "cell_type": "code",
   "execution_count": 26,
   "id": "i8sLKFEc7YFX",
   "metadata": {
    "id": "i8sLKFEc7YFX"
   },
   "outputs": [],
   "source": [
    "pos = ecef2pos(rnx.pos)\n",
    "inet = cs.find_grid_index(pos)\n",
    "\n",
    "dtype = [('wn', 'int'), ('tow', 'int'), ('prn', 'int'),\n",
    "          ('type', 'int'), ('len', 'int'), ('nav', 'S500')]\n",
    "v = np.genfromtxt(file_l6, dtype=dtype)"
   ]
  },
  {
   "cell_type": "markdown",
   "id": "4061cecc",
   "metadata": {
    "id": "4061cecc"
   },
   "source": [
    "Set runtime to 3 minutes and initialize variables"
   ]
  },
  {
   "cell_type": "code",
   "execution_count": 27,
   "id": "defdd418",
   "metadata": {
    "id": "defdd418"
   },
   "outputs": [],
   "source": [
    "nep = 3*60  # 3 minutes, increase this for longer run\n",
    "\n",
    "t = np.zeros(nep)\n",
    "tc = np.zeros(nep)\n",
    "enu = np.ones((nep, 3))*np.nan\n",
    "sol = np.zeros((nep, 4))\n",
    "dop = np.zeros((nep, 4))\n",
    "smode = np.zeros(nep, dtype=int)"
   ]
  },
  {
   "cell_type": "markdown",
   "id": "90dc765a",
   "metadata": {
    "id": "90dc765a"
   },
   "source": [
    "Run PPP-RTK positioning using `ppprtkpos()` for 3 minutes. QZSS L6 messages are encoded in sub-frames (5 second per sub-frame), for the simple implementation, the recorded data is decoded every 5 seconds."
   ]
  },
  {
   "cell_type": "code",
   "execution_count": 28,
   "id": "wi0RcbzX6u4t",
   "metadata": {
    "colab": {
     "base_uri": "https://localhost:8080/"
    },
    "id": "wi0RcbzX6u4t",
    "outputId": "5d592183-ca13-4ea2-a880-96d422cccf40"
   },
   "outputs": [
    {
     "name": "stdout",
     "output_type": "stream",
     "text": [
      " 2025-08-21 07:03:00 ENU   0.015   0.001  -0.093, 2D  0.015, mode 4"
     ]
    }
   ],
   "source": [
    "# Skip epoch until start time\n",
    "obs = rnx.decode_obs()\n",
    "while time > obs.t and obs.t.time != 0:\n",
    "    obs = rnx.decode_obs()\n",
    "\n",
    "for ne in range(nep):\n",
    "    week, tow = time2gpst(obs.t)\n",
    "\n",
    "    vi = v[(v['tow'] == tow) & (v['type'] == l6_ch)\n",
    "            & (v['prn'] == prn_ref)]\n",
    "    if len(vi) > 0:\n",
    "        cs.decode_l6msg(unhexlify(vi['nav'][0]), 0)\n",
    "        if cs.fcnt == 5:  # end of sub-frame\n",
    "            cs.decode_cssr(bytes(cs.buff), 0)\n",
    "\n",
    "    if ne == 0:\n",
    "        nav.t = deepcopy(obs.t)\n",
    "        t0 = deepcopy(obs.t)\n",
    "        t0.time = t0.time//30*30\n",
    "        cs.time = obs.t\n",
    "        nav.time_p = t0\n",
    "\n",
    "    cstat = cs.chk_stat()\n",
    "    if cstat:\n",
    "        ppprtk.process(obs, cs=cs)\n",
    "\n",
    "    t[ne] = timediff(nav.t, t0) / 60\n",
    "\n",
    "    sol = nav.xa[0:3] if nav.smode == 4 else nav.x[0:3]\n",
    "    enu[ne, :] = gn.ecef2enu(pos_ref, sol-xyz_ref)\n",
    "    smode[ne] = nav.smode\n",
    "\n",
    "    # Log to standard output\n",
    "    stdout.write('\\r {} ENU {:7.3f} {:7.3f} {:7.3f}, 2D {:6.3f}, mode {:1d}'\n",
    "                  .format(time2str(obs.t),\n",
    "                          enu[ne, 0], enu[ne, 1], enu[ne, 2],\n",
    "                          np.sqrt(enu[ne, 0]**2+enu[ne, 1]**2),\n",
    "                          smode[ne]))\n",
    "\n",
    "    # Get new epoch, exit after last epoch\n",
    "    obs = rnx.decode_obs()\n",
    "    if obs.t.time == 0:\n",
    "        break\n",
    "\n",
    "rnx.fobs.close()\n"
   ]
  },
  {
   "cell_type": "markdown",
   "id": "e897c3b5",
   "metadata": {
    "id": "e897c3b5"
   },
   "source": [
    "RTK mode status (4: fix, 5: float, 0: no-solution) is defined for plotting."
   ]
  },
  {
   "cell_type": "code",
   "execution_count": 29,
   "id": "cbdf21fb",
   "metadata": {
    "id": "cbdf21fb"
   },
   "outputs": [],
   "source": [
    "idx4 = np.where(smode == 4)[0]\n",
    "idx5 = np.where(smode == 5)[0]\n",
    "idx0 = np.where(smode == 0)[0]"
   ]
  },
  {
   "cell_type": "markdown",
   "id": "sZlaW82rOoVK",
   "metadata": {
    "id": "sZlaW82rOoVK"
   },
   "source": [
    "Plot the solution position relative to the reference position.\n",
    "\n",
    "A complete set of QZSS CLAS corrections is available every 30 seconds.  An ambiguity-fixed solution, as indicated by the green dots in the plot, is available just after the QZSS CLAS correction messages have been received. As expected,\n",
    "the positioning errors are at centimeter level."
   ]
  },
  {
   "cell_type": "code",
   "execution_count": null,
   "id": "11df8601",
   "metadata": {
    "colab": {
     "base_uri": "https://localhost:8080/",
     "height": 778
    },
    "id": "11df8601",
    "outputId": "afd73534-13a6-4451-f5ff-c1b56ddb330e"
   },
   "outputs": [
    {
     "data": {
      "image/png": "[encoded data removed]",
      "text/plain": [
       "<Figure size 700x900 with 3 Axes>"
      ]
     },
     "metadata": {},
     "output_type": "display_data"
    }
   ],
   "source": [
    "ylim = 1.0\n",
    "\n",
    "fig = plt.figure(figsize=[7, 9])\n",
    "fig.set_rasterized(True)\n",
    "fmt = '%H:%M'\n",
    "\n",
    "lbl_t = ['East[m]', 'North[m]', 'Up[m]']\n",
    "for k in range(3):\n",
    "    plt.subplot(3, 1, k+1)\n",
    "    plt.plot(t[idx0], enu[idx0, k], 'r.', label='none')\n",
    "    plt.plot(t[idx5], enu[idx5, k], 'y.', label='float')\n",
    "    plt.plot(t[idx4], enu[idx4, k], 'g.', label='fix')\n",
    "\n",
    "    if k == 2:\n",
    "        plt.xlabel('Time [min]')\n",
    "        plt.legend()\n",
    "    plt.gca().xaxis.set_major_formatter(md.DateFormatter(fmt))\n",
    "    plt.ylabel(lbl_t[k])\n",
    "    plt.grid()\n",
    "    plt.ylim([-ylim, ylim])\n",
    "plt.show()"
   ]
  },
  {
   "cell_type": "markdown",
   "id": "6EC-s_PGXwlG",
   "metadata": {
    "id": "6EC-s_PGXwlG"
   },
   "source": [
    "Plot the horizontal errors."
   ]
  },
  {
   "cell_type": "code",
   "execution_count": 31,
   "id": "ce83ece4",
   "metadata": {
    "colab": {
     "base_uri": "https://localhost:8080/",
     "height": 547
    },
    "id": "ce83ece4",
    "outputId": "481782dd-bb3f-4363-f5b2-595522597883"
   },
   "outputs": [
    {
     "data": {
      "image/png": "[encoded data removed]",
      "text/plain": [
       "<Figure size 600x600 with 1 Axes>"
      ]
     },
     "metadata": {},
     "output_type": "display_data"
    }
   ],
   "source": [
    "fig = plt.figure(figsize=[6,6])\n",
    "plt.plot(enu[idx0, 0],enu[idx0, 1], 'r.', label='standalone')\n",
    "plt.plot(enu[idx5, 0],enu[idx5, 1], 'y.', label='float')\n",
    "plt.plot(enu[idx4, 0],enu[idx4, 1], 'g.', label='fixed')\n",
    "plt.xlabel('easting [m]')\n",
    "plt.ylabel('northing [m]')\n",
    "plt.axis([-ylim,ylim,-ylim,ylim])\n",
    "plt.grid()\n",
    "plt.legend()\n",
    "plt.show()"
   ]
  },
  {
   "cell_type": "markdown",
   "id": "rKUv0nEl8vDm",
   "metadata": {
    "id": "rKUv0nEl8vDm"
   },
   "source": [
    "\n",
    "## Example 6: PPP-AR positioning (IGS)\n",
    "\n",
    "This section demonstrates PPP positioning using IGS offline products from the International GNSS Service (IGS) and a Septentrio PolaRx5 receiver. In this case, the orbit and clock offset information is obtained from\n",
    "SP3 files and, optionally, Clock-RINEX files can be used. Pseudorange and carrier-phase observable specific biases (OSBs) are\n",
    "loaded from Bias-SINEX files."
   ]
  },
  {
   "cell_type": "markdown",
   "id": "_ltFQVZeoWr9",
   "metadata": {
    "id": "_ltFQVZeoWr9"
   },
   "source": [
    "First, load the required Python modules."
   ]
  },
  {
   "cell_type": "code",
   "execution_count": 32,
   "id": "iP6Q1ifMKzDG",
   "metadata": {
    "id": "iP6Q1ifMKzDG"
   },
   "outputs": [],
   "source": [
    "from copy import deepcopy\n",
    "import matplotlib.pyplot as plt\n",
    "import matplotlib.dates as md\n",
    "import numpy as np\n",
    "from sys import stdout\n",
    "\n",
    "import cssrlib.gnss as gn\n",
    "from cssrlib.gnss import ecef2pos, Nav\n",
    "from cssrlib.gnss import time2doy, time2str, timediff, epoch2time\n",
    "from cssrlib.gnss import rSigRnx\n",
    "from cssrlib.gnss import sys2str\n",
    "from cssrlib.peph import atxdec, searchpcv\n",
    "from cssrlib.peph import peph, biasdec\n",
    "from cssrlib.pppssr import pppos\n",
    "from cssrlib.rinex import rnxdec"
   ]
  },
  {
   "cell_type": "markdown",
   "id": "GITYAIKuKzDR",
   "metadata": {
    "id": "GITYAIKuKzDR"
   },
   "source": [
    "Define the input data and parameters for this example. For signals, we choosed L1C/A+L2P(Y) for GPS, E1+E5a for Galileo."
   ]
  },
  {
   "cell_type": "code",
   "execution_count": null,
   "id": "B8Rm_x8yKzDR",
   "metadata": {
    "id": "B8Rm_x8yKzDR"
   },
   "outputs": [],
   "source": [
    "# Start epoch, number of epochs\n",
    "ep = [2025, 8, 21, 7, 0, 0]\n",
    "\n",
    "time = epoch2time(ep)\n",
    "year = ep[0]\n",
    "doy = int(time2doy(time))\n",
    "\n",
    "let = chr(ord('a')+ep[3])\n",
    "bdir = f'cssrlib-data/data/doy{ep[0]:04d}-{doy:03d}/'\n",
    "navfile = bdir+f'{doy:03d}{let}_rnx.nav'\n",
    "obsfile = bdir+f'{doy:03d}{let}_rnx.obs'\n",
    "\n",
    "ac = 'COD0OPSFIN'\n",
    "\n",
    "orbfile = bdir+f'../igs/{ac}_{year:4d}{doy:03d}0000_01D_05M_ORB.SP3'\n",
    "clkfile = bdir+f'../igs/{ac}_{year:4d}{doy:03d}0000_01D_30S_CLK.CLK'\n",
    "bsxfile = bdir+f'../igs/{ac}_{year:4d}{doy:03d}0000_01D_01D_OSB.BIA'\n",
    "\n",
    "# Set user reference position\n",
    "xyz_ref = [-3962108.6836, 3381309.5672, 3668678.6720]\n",
    "pos_ref = ecef2pos(xyz_ref)\n",
    "\n",
    "# Define signals to be processed\n",
    "sigs = [rSigRnx(\"GC1C\"), rSigRnx(\"GC2W\"),\n",
    "        rSigRnx(\"GL1C\"), rSigRnx(\"GL2W\"),\n",
    "        rSigRnx(\"GS1C\"), rSigRnx(\"GS2W\"),\n",
    "        rSigRnx(\"EC1C\"), rSigRnx(\"EC5Q\"),\n",
    "        rSigRnx(\"EL1C\"), rSigRnx(\"EL5Q\"),\n",
    "        rSigRnx(\"ES1C\"), rSigRnx(\"ES5Q\")]\n",
    "\n",
    "atxfile = bdir+'../antex/I20.ATX'"
   ]
  },
  {
   "cell_type": "markdown",
   "id": "wPNb6p1rKzDR",
   "metadata": {
    "id": "wPNb6p1rKzDR"
   },
   "source": [
    "Load and parse the input data"
   ]
  },
  {
   "cell_type": "code",
   "execution_count": 47,
   "id": "_1PZV8NaKzDS",
   "metadata": {
    "id": "_1PZV8NaKzDS"
   },
   "outputs": [],
   "source": [
    "rnx = rnxdec()\n",
    "rnx.setSignals(sigs)\n",
    "\n",
    "nav = Nav()\n",
    "orb = peph()\n",
    "\n",
    "nav.pmode = 0 # Positioning mode: 0:static, 1:kinematic\n",
    "\n",
    "# Decode RINEX NAV data\n",
    "nav = rnx.decode_nav(navfile, nav)\n",
    "\n",
    "# Load precise orbits and clock offsets\n",
    "nav = orb.parse_sp3(orbfile, nav)\n",
    "nav = rnx.decode_clk(clkfile, nav)\n",
    "\n",
    "# Load code and phase biases from Bias-SINEX\n",
    "bsx = biasdec()\n",
    "bsx.parse(bsxfile)\n",
    "\n",
    "# Load ANTEX data for satellites and stations\n",
    "atx = atxdec()\n",
    "atx.readpcv(atxfile)\n",
    "\n",
    "nav.monlevel = 0  # Logging level\n",
    "\n",
    "# Load RINEX OBS file header\n",
    "if rnx.decode_obsh(obsfile) >= 0:\n",
    "\n",
    "    # Auto-substitute signals\n",
    "    rnx.autoSubstituteSignals()\n",
    "\n",
    "    # Initialize position\n",
    "    ppp = pppos(nav, rnx.pos, 'test_pppigs.log')\n",
    "    nav.ephopt = 4  # IGS\n",
    "    nav.armode = 3  # 1: continuous, 3: fix-and-hold\n",
    "    nav.parmode = 1 # 1: normal, 2: partial ambiguity resolution\n",
    "\n",
    "    # change default settings\n",
    "    nav.elmin = np.deg2rad(10.0)  # min sat elevation\n",
    "    nav.thresar = 2.0            # ambiguity resolution threshold\n",
    "\n",
    "    # Set PCO/PCV information\n",
    "    nav.sat_ant = atx.pcvs\n",
    "    nav.rcv_ant = searchpcv(atx.pcvr, rnx.ant,  rnx.ts)"
   ]
  },
  {
   "cell_type": "markdown",
   "id": "WLp7TAJdKzDS",
   "metadata": {
    "id": "WLp7TAJdKzDS"
   },
   "source": [
    "Print the available and selected satellite signals"
   ]
  },
  {
   "cell_type": "code",
   "execution_count": 48,
   "id": "Ry_M-9k0KzDS",
   "metadata": {
    "colab": {
     "base_uri": "https://localhost:8080/"
    },
    "id": "Ry_M-9k0KzDS",
    "outputId": "e238d2df-a79e-48a5-f2ac-bf3d1c3c0970"
   },
   "outputs": [
    {
     "name": "stdout",
     "output_type": "stream",
     "text": [
      "Available signals\n",
      "GPS     C1C L1C D1C S1C C2W L2W D2W S2W C2L L2L D2L S2L C5Q L5Q D5Q S5Q\n",
      "GLONASS C1C L1C D1C S1C C2C L2C D2C S2C C2P L2P D2P S2P C3Q L3Q D3Q S3Q\n",
      "GALILEO C1C L1C D1C S1C C5Q L5Q D5Q S5Q C7Q L7Q D7Q S7Q C8Q L8Q D8Q S8Q C6C L6C D6C S6C\n",
      "BEIDOU  C1P L1P D1P S1P C2I L2I D2I S2I C5P L5P D5P S5P C6I L6I D6I S6I C7D L7D D7D S7D C7I L7I D7I S7I\n",
      "QZSS    C1C L1C D1C S1C C1E L1E D1E S1E C1L L1L D1L S1L C2L L2L D2L S2L C5Q L5Q D5Q S5Q\n",
      "IRNSS   C1P L1P D1P S1P C5A L5A D5A S5A\n",
      "\n",
      "Selected signals\n",
      "GPS     C1C C2W L1C L2W S1C S2W \n",
      "GALILEO C1C C5Q L1C L5Q S1C S5Q \n"
     ]
    }
   ],
   "source": [
    "print(\"Available signals\")\n",
    "for sys, sigs in rnx.sig_map.items():\n",
    "  txt = \"{:7s} {}\".format(sys2str(sys),\n",
    "        ' '.join([sig.str() for sig in sigs.values()]))\n",
    "  print(txt)\n",
    "\n",
    "print(\"\\nSelected signals\")\n",
    "for sys, tmp in rnx.sig_tab.items():\n",
    "  txt = \"{:7s} \".format(sys2str(sys))\n",
    "  for _, sigs in tmp.items():\n",
    "    txt += \"{} \".format(' '.join([sig.str() for sig in sigs]))\n",
    "  print(txt)"
   ]
  },
  {
   "cell_type": "markdown",
   "id": "o9w39_PgKzDS",
   "metadata": {
    "id": "o9w39_PgKzDS"
   },
   "source": [
    "Run solution for 15 minutes (ok to abort before finished)"
   ]
  },
  {
   "cell_type": "code",
   "execution_count": 49,
   "id": "F6yvNFBMKzDS",
   "metadata": {
    "colab": {
     "base_uri": "https://localhost:8080/"
    },
    "id": "F6yvNFBMKzDS",
    "outputId": "6a0f5543-c685-40f8-e55b-0cfb0b50694a"
   },
   "outputs": [
    {
     "name": "stdout",
     "output_type": "stream",
     "text": [
      " 2025-08-21 07:15:00 ENU  -0.206   0.105  -0.272, 2D  0.232, mode 5"
     ]
    }
   ],
   "source": [
    "# increase to run longer, set to 10 minutes to see ambiguity resolution\n",
    "nep = 15 * 60  # 15 minutes\n",
    "\n",
    "# Intialize data structures for results\n",
    "t = np.zeros(nep)\n",
    "tc = np.zeros(nep)\n",
    "enu = np.ones((nep, 3))*np.nan\n",
    "sol = np.zeros((nep, 4))\n",
    "dop = np.zeros((nep, 4))\n",
    "ztd = np.zeros((nep, 1))\n",
    "smode = np.zeros(nep, dtype=int)\n",
    "\n",
    "# Skip epochs until start time\n",
    "obs = rnx.decode_obs()\n",
    "while time > obs.t and obs.t.time != 0:\n",
    "    obs = rnx.decode_obs()\n",
    "\n",
    "# Loop over number of epoch from file start\n",
    "for ne in range(nep):\n",
    "\n",
    "    # Set initial epoch\n",
    "    if ne == 0:\n",
    "        nav.t = deepcopy(obs.t)\n",
    "        t0 = deepcopy(obs.t)\n",
    "\n",
    "    # Call PPP module with IGS products\n",
    "    ppp.process(obs, orb=orb, bsx=bsx)\n",
    "\n",
    "    # Save output\n",
    "    t[ne] = timediff(nav.t, t0) / 86400.0\n",
    "\n",
    "    sol = nav.xa[0:3] if nav.smode == 4 else nav.x[0:3]\n",
    "    enu[ne, :] = gn.ecef2enu(pos_ref, sol-xyz_ref)\n",
    "\n",
    "    ztd[ne] = nav.xa[ppp.IT(nav.na)] if nav.smode == 4 else nav.x[ppp.IT(nav.na)]\n",
    "    smode[ne] = nav.smode\n",
    "\n",
    "    # Log to standard output\n",
    "    stdout.write('\\r {} ENU {:7.3f} {:7.3f} {:7.3f}, 2D {:6.3f}, mode {:1d}'\n",
    "                 .format(time2str(obs.t),\n",
    "                         enu[ne, 0], enu[ne, 1], enu[ne, 2],\n",
    "                         np.sqrt(enu[ne, 0]**2+enu[ne, 1]**2),\n",
    "                         smode[ne]))\n",
    "\n",
    "    # Get new epoch, exit after last epoch\n",
    "    obs = rnx.decode_obs()\n",
    "    if obs.t.time == 0:\n",
    "        break\n",
    "\n",
    "rnx.fobs.close()\n"
   ]
  },
  {
   "cell_type": "markdown",
   "id": "UIN1k3sPKzDT",
   "metadata": {
    "id": "UIN1k3sPKzDT"
   },
   "source": [
    "Plot results.\n",
    "\n",
    "The default run length is set to 5 minutes to keep the tutorial moving, but if the run length is increased to 15 minutes, it will be seen that the horizontal errors reach less than 10 cm after approximately 6 minutes and ambiguity resolution is achieved after less than 9 minutes"
   ]
  },
  {
   "cell_type": "code",
   "execution_count": null,
   "id": "iXeH8x2HKzDT",
   "metadata": {
    "colab": {
     "base_uri": "https://localhost:8080/",
     "height": 795
    },
    "id": "iXeH8x2HKzDT",
    "outputId": "216de780-8018-45c5-8747-54bd99bf4d61"
   },
   "outputs": [
    {
     "name": "stderr",
     "output_type": "stream",
     "text": [
      "C:\\Users\\ruihi\\AppData\\Local\\Temp\\ipykernel_9776\\4131380391.py:15: MatplotlibDeprecationWarning: The plot_date function was deprecated in Matplotlib 3.9 and will be removed in 3.11. Use plot instead.\n",
      "  plt.plot_date(t[idx0], enu[idx0, k], 'r.')\n",
      "C:\\Users\\ruihi\\AppData\\Local\\Temp\\ipykernel_9776\\4131380391.py:16: MatplotlibDeprecationWarning: The plot_date function was deprecated in Matplotlib 3.9 and will be removed in 3.11. Use plot instead.\n",
      "  plt.plot_date(t[idx5], enu[idx5, k], 'y.')\n",
      "C:\\Users\\ruihi\\AppData\\Local\\Temp\\ipykernel_9776\\4131380391.py:17: MatplotlibDeprecationWarning: The plot_date function was deprecated in Matplotlib 3.9 and will be removed in 3.11. Use plot instead.\n",
      "  plt.plot_date(t[idx4], enu[idx4, k], 'g.')\n",
      "C:\\Users\\ruihi\\AppData\\Local\\Temp\\ipykernel_9776\\4131380391.py:25: MatplotlibDeprecationWarning: The plot_date function was deprecated in Matplotlib 3.9 and will be removed in 3.11. Use plot instead.\n",
      "  plt.plot_date(t[idx0], ztd[idx0]*1e2, 'r.', markersize=8, label='none')\n",
      "C:\\Users\\ruihi\\AppData\\Local\\Temp\\ipykernel_9776\\4131380391.py:26: MatplotlibDeprecationWarning: The plot_date function was deprecated in Matplotlib 3.9 and will be removed in 3.11. Use plot instead.\n",
      "  plt.plot_date(t[idx5], ztd[idx5]*1e2, 'y.', markersize=8, label='float')\n",
      "C:\\Users\\ruihi\\AppData\\Local\\Temp\\ipykernel_9776\\4131380391.py:27: MatplotlibDeprecationWarning: The plot_date function was deprecated in Matplotlib 3.9 and will be removed in 3.11. Use plot instead.\n",
      "  plt.plot_date(t[idx4], ztd[idx4]*1e2, 'g.', markersize=8, label='fix')\n"
     ]
    },
    {
     "data": {
      "text/plain": [
       "<matplotlib.legend.Legend at 0x21d506fbed0>"
      ]
     },
     "execution_count": 50,
     "metadata": {},
     "output_type": "execute_result"
    },
    {
     "data": {
      "image/png": "[encoded data removed]",
      "text/plain": [
       "<Figure size 700x900 with 4 Axes>"
      ]
     },
     "metadata": {},
     "output_type": "display_data"
    }
   ],
   "source": [
    "ylim = 1.0\n",
    "\n",
    "idx4 = np.where(smode == 4)[0]   # fix\n",
    "idx5 = np.where(smode == 5)[0]   # float\n",
    "idx0 = np.where(smode == 0)[0]   # none\n",
    "\n",
    "fig = plt.figure(figsize=[7, 9])\n",
    "fig.set_rasterized(True)\n",
    "fmt = '%H:%M'\n",
    "\n",
    "lbl_t = ['East [m]', 'North [m]', 'Up [m]']\n",
    "\n",
    "for k in range(3):\n",
    "    plt.subplot(4, 1, k+1)\n",
    "    plt.plot(t[idx0], enu[idx0, k], 'r.')\n",
    "    plt.plot(t[idx5], enu[idx5, k], 'y.')\n",
    "    plt.plot(t[idx4], enu[idx4, k], 'g.')\n",
    "\n",
    "    plt.ylabel(lbl_t[k])\n",
    "    plt.grid()\n",
    "    plt.ylim([-ylim, ylim])\n",
    "    plt.gca().xaxis.set_major_formatter(md.DateFormatter(fmt))\n",
    "\n",
    "plt.subplot(4, 1, 4)\n",
    "plt.plot(t[idx0], ztd[idx0]*1e2, 'r.', markersize=8, label='none')\n",
    "plt.plot(t[idx5], ztd[idx5]*1e2, 'y.', markersize=8, label='float')\n",
    "plt.plot(t[idx4], ztd[idx4]*1e2, 'g.', markersize=8, label='fix')\n",
    "plt.ylabel('ZTD [cm]')\n",
    "plt.grid()\n",
    "plt.gca().xaxis.set_major_formatter(md.DateFormatter(fmt))\n",
    "\n",
    "plt.xlabel('Time [HH:MM]')\n",
    "plt.legend()\n"
   ]
  },
  {
   "cell_type": "markdown",
   "id": "8993fc13",
   "metadata": {
    "id": "8993fc13"
   },
   "source": [
    "## Example 7: PPP positioning (BeiDou PPP)\n",
    "\n",
    "This section demonstrates PPP-RTK positioning using BeiDou B1C and B2a pilot observations for BeiDou-3 B2b PPP and GPS L1 C/A and L2 P(Y) with a Septentrio PolaRx5 receiver."
   ]
  },
  {
   "cell_type": "markdown",
   "id": "ul3qp8h3oHin",
   "metadata": {
    "id": "ul3qp8h3oHin"
   },
   "source": [
    "First, load the required Python modules."
   ]
  },
  {
   "cell_type": "code",
   "execution_count": 7,
   "id": "IGih7GGt_9z6",
   "metadata": {
    "id": "IGih7GGt_9z6"
   },
   "outputs": [],
   "source": [
    "from binascii import unhexlify\n",
    "from copy import deepcopy\n",
    "import matplotlib.pyplot as plt\n",
    "import matplotlib.dates as md\n",
    "import numpy as np\n",
    "from sys import stdout\n",
    "\n",
    "import cssrlib.gnss as gn\n",
    "from cssrlib.gnss import ecef2pos, Nav\n",
    "from cssrlib.gnss import time2gpst, time2doy, time2str, timediff, epoch2time\n",
    "from cssrlib.gnss import rSigRnx\n",
    "from cssrlib.gnss import sys2str\n",
    "from cssrlib.peph import atxdec, searchpcv\n",
    "from cssrlib.peph import peph\n",
    "from cssrlib.cssr_bds import cssr_bds\n",
    "from cssrlib.pppssr import pppos\n",
    "from cssrlib.rinex import rnxdec"
   ]
  },
  {
   "cell_type": "markdown",
   "id": "eGLKroylAeUU",
   "metadata": {
    "id": "eGLKroylAeUU"
   },
   "source": [
    "Define the input data and parameters for this example. For signals, we choose L1C/A+L2P(Y) for GPS, B1C(P)+B2a(P) for BDS."
   ]
  },
  {
   "cell_type": "code",
   "execution_count": 8,
   "id": "hYbK60gqAfWG",
   "metadata": {
    "id": "hYbK60gqAfWG"
   },
   "outputs": [],
   "source": [
    "ep = [2025, 8, 21, 7, 0, 0] # start epoch\n",
    "\n",
    "time = epoch2time(ep)\n",
    "year = ep[0]\n",
    "doy = int(time2doy(time))\n",
    "\n",
    "let = chr(ord('a')+ep[3])\n",
    "bdir = f'cssrlib-data/data/doy{ep[0]:04d}-{doy:03d}/'\n",
    "navfile = bdir+f'{doy:03d}{let}_rnx.nav'\n",
    "obsfile = bdir+f'{doy:03d}{let}_rnx.obs'\n",
    "atxfile = bdir+'../antex/igs20.atx'\n",
    "\n",
    "file_bds = bdir+f'{doy:03d}{let}_bdsb2b.txt'\n",
    "prn_ref = 59  # satellite PRN to receive BDS PPP collection\n",
    "\n",
    "dtype = [('wn', 'int'), ('tow', 'int'), ('prn', 'int'),\n",
    "         ('type', 'int'), ('len', 'int'), ('nav', 'S124')]\n",
    "\n",
    "xyz_ref = [-3962108.6836, 3381309.5672, 3668678.6720]\n",
    "pos_ref = ecef2pos(xyz_ref)\n",
    "\n",
    "# Define signals to be processed\n",
    "sigs = [rSigRnx(\"GC1C\"), rSigRnx(\"GC2W\"),\n",
    "        rSigRnx(\"GL1C\"), rSigRnx(\"GL2W\"),\n",
    "        rSigRnx(\"GS1C\"), rSigRnx(\"GS2W\"),\n",
    "        rSigRnx(\"CC1P\"), rSigRnx(\"CC5P\"),\n",
    "        rSigRnx(\"CL1P\"), rSigRnx(\"CL5P\"),\n",
    "        rSigRnx(\"CS1P\"), rSigRnx(\"CS5P\")]\n",
    "\n",
    "time = epoch2time(ep)\n",
    "year = ep[0]\n",
    "doy = int(time2doy(time))"
   ]
  },
  {
   "cell_type": "markdown",
   "id": "PrqsDGtJAdTY",
   "metadata": {
    "id": "PrqsDGtJAdTY"
   },
   "source": [
    "Load and parse the input data"
   ]
  },
  {
   "cell_type": "code",
   "execution_count": 9,
   "id": "E56Qi-3cENFV",
   "metadata": {
    "id": "E56Qi-3cENFV"
   },
   "outputs": [],
   "source": [
    "rnx = rnxdec()\n",
    "rnx.setSignals(sigs)\n",
    "\n",
    "nav = Nav()\n",
    "orb = peph()\n",
    "\n",
    "nav.pmode = 0 # Positioning mode: 0:static, 1:kinematic\n",
    "\n",
    "# Decode RINEX NAV data\n",
    "nav = rnx.decode_nav(navfile, nav)\n",
    "\n",
    "# Load PPP corrections\n",
    "v = np.genfromtxt(file_bds, dtype=dtype)\n",
    "\n",
    "cs = cssr_bds()\n",
    "cs.monlevel = 0\n",
    "\n",
    "# Load ANTEX data for satellites and stations\n",
    "atx = atxdec()\n",
    "atx.readpcv(atxfile)\n",
    "\n",
    "nav.monlevel = 0  # Logging level\n",
    "\n",
    "# Load RINEX OBS file header\n",
    "if rnx.decode_obsh(obsfile) >= 0:\n",
    "\n",
    "    # Auto-substitute signals\n",
    "    rnx.autoSubstituteSignals()\n",
    "\n",
    "    # Initialize position\n",
    "    ppp = pppos(nav, rnx.pos, 'test_pppbds.log')\n",
    "\n",
    "    # Set PCO/PCV information\n",
    "    nav.sat_ant = atx.pcvs\n",
    "    nav.rcv_ant = searchpcv(atx.pcvr, rnx.ant,  rnx.ts)"
   ]
  },
  {
   "cell_type": "markdown",
   "id": "tghWoxc9EhfE",
   "metadata": {
    "id": "tghWoxc9EhfE"
   },
   "source": [
    "Print the available and selected satellite signals"
   ]
  },
  {
   "cell_type": "code",
   "execution_count": 10,
   "id": "DEDeJQscFYG9",
   "metadata": {
    "colab": {
     "base_uri": "https://localhost:8080/"
    },
    "id": "DEDeJQscFYG9",
    "outputId": "863b7757-f882-49df-8121-aac2cf756a27"
   },
   "outputs": [
    {
     "name": "stdout",
     "output_type": "stream",
     "text": [
      "Available signals\n",
      "GPS     C1C L1C D1C S1C C2W L2W D2W S2W C2L L2L D2L S2L C5Q L5Q D5Q S5Q\n",
      "GLONASS C1C L1C D1C S1C C2C L2C D2C S2C C2P L2P D2P S2P C3Q L3Q D3Q S3Q\n",
      "GALILEO C1C L1C D1C S1C C5Q L5Q D5Q S5Q C7Q L7Q D7Q S7Q C8Q L8Q D8Q S8Q C6C L6C D6C S6C\n",
      "BEIDOU  C1P L1P D1P S1P C2I L2I D2I S2I C5P L5P D5P S5P C6I L6I D6I S6I C7D L7D D7D S7D C7I L7I D7I S7I\n",
      "QZSS    C1C L1C D1C S1C C1E L1E D1E S1E C1L L1L D1L S1L C2L L2L D2L S2L C5Q L5Q D5Q S5Q\n",
      "IRNSS   C1P L1P D1P S1P C5A L5A D5A S5A\n",
      "\n",
      "Selected signals\n",
      "GPS     C1C C2W L1C L2W S1C S2W \n",
      "BEIDOU  C1P C5P L1P L5P S1P S5P \n"
     ]
    }
   ],
   "source": [
    "print(\"Available signals\")\n",
    "for sys, sigs in rnx.sig_map.items():\n",
    "  txt = \"{:7s} {}\".format(sys2str(sys),\n",
    "        ' '.join([sig.str() for sig in sigs.values()]))\n",
    "  print(txt)\n",
    "\n",
    "print(\"\\nSelected signals\")\n",
    "for sys, tmp in rnx.sig_tab.items():\n",
    "  txt = \"{:7s} \".format(sys2str(sys))\n",
    "  for _, sigs in tmp.items():\n",
    "    txt += \"{} \".format(' '.join([sig.str() for sig in sigs]))\n",
    "  print(txt)"
   ]
  },
  {
   "cell_type": "markdown",
   "id": "AmIWL6FBEsJW",
   "metadata": {
    "id": "AmIWL6FBEsJW"
   },
   "source": [
    "Process data for 15 minutes (ok to abort before finished)"
   ]
  },
  {
   "cell_type": "code",
   "execution_count": 11,
   "id": "GMsOCMUPEtvP",
   "metadata": {
    "colab": {
     "base_uri": "https://localhost:8080/"
    },
    "id": "GMsOCMUPEtvP",
    "outputId": "7bf96376-2da3-44ec-c90b-2ba5ed733e5a"
   },
   "outputs": [
    {
     "name": "stdout",
     "output_type": "stream",
     "text": [
      " 2025-08-21 07:00:27 ENU   0.280   0.554   0.748, 2D  0.621, mode 0 too few satellites < 6: nsat=3\n",
      " 2025-08-21 07:15:00 ENU  -0.127  -0.045   0.302, 2D  0.135, mode 5"
     ]
    }
   ],
   "source": [
    "nep = 15 * 60  # increase this to run longer\n",
    "\n",
    "# Intialize data structures for results\n",
    "t = np.zeros(nep)\n",
    "tc = np.zeros(nep)\n",
    "enu = np.ones((nep, 3))*np.nan\n",
    "sol = np.zeros((nep, 4))\n",
    "dop = np.zeros((nep, 4))\n",
    "ztd = np.zeros((nep, 1))\n",
    "smode = np.zeros(nep, dtype=int)\n",
    "\n",
    "# Skip epochs until start time\n",
    "obs = rnx.decode_obs()\n",
    "while time > obs.t and obs.t.time != 0:\n",
    "    obs = rnx.decode_obs()\n",
    "\n",
    "# Loop over number of epoch from file start\n",
    "for ne in range(nep):\n",
    "    week, tow = time2gpst(obs.t)\n",
    "    cs.week = week\n",
    "    cs.tow0 = tow // 86400 * 86400\n",
    "\n",
    "    # Set intial epoch\n",
    "    if ne == 0:\n",
    "        nav.t = deepcopy(obs.t)\n",
    "        t0 = deepcopy(obs.t)\n",
    "        t0.time = t0.time // 30 * 30\n",
    "        nav.time_p = t0\n",
    "\n",
    "    vi = v[(v['tow'] == tow) & (v['prn'] == prn_ref)]\n",
    "    if len(vi) > 0:\n",
    "        buff = unhexlify(vi['nav'][0])\n",
    "        cs.decode_cssr(buff, 0)\n",
    "\n",
    "    # Call PPP module with BDS-PPP corrections\n",
    "    if (cs.lc[0].cstat & 0xf) == 0xf:\n",
    "        ppp.process(obs, cs=cs)\n",
    "\n",
    "    # Save output\n",
    "    t[ne] = timediff(nav.t, t0) / 86400.0\n",
    "\n",
    "    sol = nav.xa[0:3] if nav.smode == 4 else nav.x[0:3]\n",
    "    enu[ne, :] = gn.ecef2enu(pos_ref, sol-xyz_ref)\n",
    "\n",
    "    ztd[ne] = nav.xa[ppp.IT(nav.na)] if nav.smode == 4 else nav.x[ppp.IT(nav.na)]\n",
    "    smode[ne] = nav.smode\n",
    "\n",
    "    # Log to standard output\n",
    "    stdout.write('\\r {} ENU {:7.3f} {:7.3f} {:7.3f}, 2D {:6.3f}, mode {:1d}'\n",
    "                 .format(time2str(obs.t),\n",
    "                         enu[ne, 0], enu[ne, 1], enu[ne, 2],\n",
    "                         np.sqrt(enu[ne, 0]**2+enu[ne, 1]**2),\n",
    "                         smode[ne]))\n",
    "\n",
    "    # Get new epoch, exit after last epoch\n",
    "    obs = rnx.decode_obs()\n",
    "    if obs.t.time == 0:\n",
    "        break\n",
    "\n",
    "rnx.fobs.close()"
   ]
  },
  {
   "cell_type": "markdown",
   "id": "-QkxrW1_GVYU",
   "metadata": {
    "id": "-QkxrW1_GVYU"
   },
   "source": [
    "Plot results"
   ]
  },
  {
   "cell_type": "code",
   "execution_count": 12,
   "id": "ttuzs72KHeFs",
   "metadata": {
    "colab": {
     "base_uri": "https://localhost:8080/",
     "height": 795
    },
    "id": "ttuzs72KHeFs",
    "outputId": "797c28c9-5aa2-491c-a68a-fc3b38bbf64d"
   },
   "outputs": [
    {
     "data": {
      "text/plain": [
       "<matplotlib.legend.Legend at 0x23345ff5550>"
      ]
     },
     "execution_count": 12,
     "metadata": {},
     "output_type": "execute_result"
    },
    {
     "data": {
      "image/png": "[encoded data removed]",
      "text/plain": [
       "<Figure size 700x900 with 4 Axes>"
      ]
     },
     "metadata": {},
     "output_type": "display_data"
    }
   ],
   "source": [
    "ylim = 1.0\n",
    "\n",
    "idx4 = np.where(smode == 4)[0]\n",
    "idx5 = np.where(smode == 5)[0]\n",
    "idx0 = np.where(smode == 0)[0]\n",
    "\n",
    "fig = plt.figure(figsize=[7, 9])\n",
    "fig.set_rasterized(True)\n",
    "lbl_t = ['East [m]', 'North [m]', 'Up [m]']\n",
    "fmt = '%H:%M'\n",
    "\n",
    "for k in range(3):\n",
    "    plt.subplot(4, 1, k+1)\n",
    "    plt.plot(t[idx0], enu[idx0, k], 'r.')\n",
    "    plt.plot(t[idx5], enu[idx5, k], 'y.')\n",
    "    plt.plot(t[idx4], enu[idx4, k], 'g.')\n",
    "\n",
    "    plt.ylabel(lbl_t[k])\n",
    "    plt.grid()\n",
    "    plt.ylim([-ylim, ylim])\n",
    "    plt.gca().xaxis.set_major_formatter(md.DateFormatter(fmt))\n",
    "\n",
    "plt.subplot(4, 1, 4)\n",
    "plt.plot(t[idx0], ztd[idx0]*1e2, 'r.', markersize=8, label='none')\n",
    "plt.plot(t[idx5], ztd[idx5]*1e2, 'y.', markersize=8, label='float')\n",
    "plt.plot(t[idx4], ztd[idx4]*1e2, 'g.', markersize=8, label='fix')\n",
    "plt.ylabel('ZTD [cm]')\n",
    "plt.grid()\n",
    "plt.gca().xaxis.set_major_formatter(md.DateFormatter(fmt))\n",
    "\n",
    "plt.xlabel('Time [HH:MM]')\n",
    "plt.legend()\n"
   ]
  },
  {
   "cell_type": "markdown",
   "id": "hPjJOF2T8uxG",
   "metadata": {
    "id": "hPjJOF2T8uxG"
   },
   "source": [
    "\n",
    "## Example 8: PPP positioning (Galileo HAS)\n",
    "\n",
    "This section demonstrates PPP positioning using Galileo HAS corrections with a Septentrio PolaRx5 receiver."
   ]
  },
  {
   "cell_type": "markdown",
   "id": "3CU6La60p2gQ",
   "metadata": {
    "id": "3CU6La60p2gQ"
   },
   "source": [
    "First, load the required Python modules."
   ]
  },
  {
   "cell_type": "code",
   "execution_count": 28,
   "id": "tQzCZh9--Ias",
   "metadata": {
    "id": "tQzCZh9--Ias"
   },
   "outputs": [],
   "source": [
    "from copy import deepcopy\n",
    "import matplotlib.pyplot as plt\n",
    "import matplotlib.dates as md\n",
    "import numpy as np\n",
    "from binascii import unhexlify\n",
    "import bitstruct as bs\n",
    "from sys import stdout\n",
    "\n",
    "import cssrlib.gnss as gn\n",
    "from cssrlib.gnss import ecef2pos, Nav, rSigRnx, sys2str\n",
    "from cssrlib.gnss import time2gpst, time2doy, time2str, timediff, epoch2time\n",
    "from cssrlib.peph import atxdec, searchpcv\n",
    "from cssrlib.cssr_has import cssr_has\n",
    "from cssrlib.pppssr import pppos\n",
    "from cssrlib.rinex import rnxdec"
   ]
  },
  {
   "cell_type": "markdown",
   "id": "EpWHwoJa-Ias",
   "metadata": {
    "id": "EpWHwoJa-Ias"
   },
   "source": [
    "Define the input data and parameters for this example"
   ]
  },
  {
   "cell_type": "code",
   "execution_count": 30,
   "id": "p9pQ2yeo-Iat",
   "metadata": {
    "id": "p9pQ2yeo-Iat"
   },
   "outputs": [],
   "source": [
    "# Start epoch and number of epochs\n",
    "ep = [2025, 8, 21, 7, 0, 0] # start epoch\n",
    "\n",
    "time = epoch2time(ep)\n",
    "year = ep[0]\n",
    "doy = int(time2doy(time))\n",
    "\n",
    "let = chr(ord('a')+ep[3])\n",
    "bdir = f'cssrlib-data/data/doy{ep[0]:04d}-{doy:03d}/'\n",
    "navfile = bdir+f'{doy:03d}{let}_rnx.nav'\n",
    "obsfile = bdir+f'{doy:03d}{let}_rnx.obs'\n",
    "atxfile = bdir+'../antex/igs20.atx'\n",
    "\n",
    "# Specify Galile HAS corrections files\n",
    "file_has = bdir+f'{doy:03d}{let}_gale6.txt'\n",
    "# Table for Reed-Solomon decoding\n",
    "file_gm = bdir+\"../../samples/Galileo-HAS-SIS-ICD_1.0_Annex_B_Reed_Solomon_Generator_Matrix.txt\"\n",
    "\n",
    "dtype = [('wn', 'int'), ('tow', 'int'), ('prn', 'int'),\n",
    "         ('type', 'int'), ('len', 'int'), ('nav', 'S124')]\n",
    "\n",
    "# Set user reference position\n",
    "xyz_ref = [-3962108.6836, 3381309.5672, 3668678.6720]\n",
    "pos_ref = ecef2pos(xyz_ref)\n",
    "\n",
    "# Define signals to be processed\n",
    "sigs = [rSigRnx(\"GC1C\"), rSigRnx(\"GC2L\"),\n",
    "        rSigRnx(\"GL1C\"), rSigRnx(\"GL2L\"),\n",
    "        rSigRnx(\"GS1C\"), rSigRnx(\"GS2L\"),\n",
    "        rSigRnx(\"EC1C\"), rSigRnx(\"EC5Q\"),\n",
    "        rSigRnx(\"EL1C\"), rSigRnx(\"EL5Q\"),\n",
    "        rSigRnx(\"ES1C\"), rSigRnx(\"ES5Q\")]\n"
   ]
  },
  {
   "cell_type": "markdown",
   "id": "3ORyJKZI-Iat",
   "metadata": {
    "id": "3ORyJKZI-Iat"
   },
   "source": [
    "Load and parse the input data"
   ]
  },
  {
   "cell_type": "code",
   "execution_count": null,
   "id": "G3uGHYHh-Iat",
   "metadata": {
    "id": "G3uGHYHh-Iat"
   },
   "outputs": [],
   "source": [
    "rnx = rnxdec()\n",
    "rnx.setSignals(sigs)\n",
    "\n",
    "nav = Nav()\n",
    "# orb = peph()\n",
    "\n",
    "nav.pmode = 0 # Positioning mode: 0:static, 1:kinematic\n",
    "\n",
    "# Decode RINEX NAV data\n",
    "nav = rnx.decode_nav(navfile, nav)\n",
    "\n",
    "# Load PPP corrections\n",
    "v = np.genfromtxt(file_has, dtype=dtype)\n",
    "gMat = np.genfromtxt(file_gm, dtype=\"u1\", delimiter=\",\")\n",
    "\n",
    "# Load ANTEX data for satellites and stations\n",
    "atx = atxdec()\n",
    "atx.readpcv(atxfile)\n",
    "\n",
    "cs = cssr_has()\n",
    "# cs.monlevel = 2\n",
    "nav.monlevel = 0  # Logging level\n",
    "\n",
    "# Load RINEX OBS file header\n",
    "if rnx.decode_obsh(obsfile) >= 0:\n",
    "\n",
    "    # Auto-substitute signals\n",
    "    rnx.autoSubstituteSignals()\n",
    "\n",
    "    # Initialize position\n",
    "    ppp = pppos(nav, rnx.pos, 'test_ppphas.log')\n",
    "\n",
    "    # Modify default config parameters\n",
    "    nav.elmin = np.deg2rad(5.0)  # min sat el\n",
    "\n",
    "    # Set PCO/PCV information\n",
    "    nav.sat_ant = atx.pcvs\n",
    "    nav.rcv_ant = searchpcv(atx.pcvr, rnx.ant,  rnx.ts)"
   ]
  },
  {
   "cell_type": "markdown",
   "id": "4rL8k8Vi-Iau",
   "metadata": {
    "id": "4rL8k8Vi-Iau"
   },
   "source": [
    "Print the available satellite and selected signals. We choose L1C/A+L2P(Y) for GPS, E1+E5b for Galileo."
   ]
  },
  {
   "cell_type": "code",
   "execution_count": 32,
   "id": "n_Oxkxn--Iau",
   "metadata": {
    "colab": {
     "base_uri": "https://localhost:8080/"
    },
    "id": "n_Oxkxn--Iau",
    "outputId": "f2fdaca6-da70-4f10-fb65-fbe8d8e2f659"
   },
   "outputs": [
    {
     "name": "stdout",
     "output_type": "stream",
     "text": [
      "Available signals\n",
      "GPS     C1C L1C D1C S1C C2W L2W D2W S2W C2L L2L D2L S2L C5Q L5Q D5Q S5Q\n",
      "GLONASS C1C L1C D1C S1C C2C L2C D2C S2C C2P L2P D2P S2P C3Q L3Q D3Q S3Q\n",
      "GALILEO C1C L1C D1C S1C C5Q L5Q D5Q S5Q C7Q L7Q D7Q S7Q C8Q L8Q D8Q S8Q C6C L6C D6C S6C\n",
      "BEIDOU  C1P L1P D1P S1P C2I L2I D2I S2I C5P L5P D5P S5P C6I L6I D6I S6I C7D L7D D7D S7D C7I L7I D7I S7I\n",
      "QZSS    C1C L1C D1C S1C C1E L1E D1E S1E C1L L1L D1L S1L C2L L2L D2L S2L C5Q L5Q D5Q S5Q\n",
      "IRNSS   C1P L1P D1P S1P C5A L5A D5A S5A\n",
      "\n",
      "Selected signals\n",
      "GPS     C1C C2L L1C L2L S1C S2L \n",
      "GALILEO C1C C5Q L1C L5Q S1C S5Q \n"
     ]
    }
   ],
   "source": [
    "print(\"Available signals\")\n",
    "for sys, sigs in rnx.sig_map.items():\n",
    "  txt = \"{:7s} {}\".format(sys2str(sys),\n",
    "        ' '.join([sig.str() for sig in sigs.values()]))\n",
    "  print(txt)\n",
    "\n",
    "print(\"\\nSelected signals\")\n",
    "for sys, tmp in rnx.sig_tab.items():\n",
    "  txt = \"{:7s} \".format(sys2str(sys))\n",
    "  for _, sigs in tmp.items():\n",
    "    txt += \"{} \".format(' '.join([sig.str() for sig in sigs]))\n",
    "  print(txt)"
   ]
  },
  {
   "cell_type": "markdown",
   "id": "ZRBRDQtw-Iau",
   "metadata": {
    "id": "ZRBRDQtw-Iau"
   },
   "source": [
    "Process data for 15 minutes (ok to abort before finished)"
   ]
  },
  {
   "cell_type": "code",
   "execution_count": 33,
   "id": "uVeqUA6A-Iav",
   "metadata": {
    "colab": {
     "base_uri": "https://localhost:8080/"
    },
    "id": "uVeqUA6A-Iav",
    "outputId": "8e1440b6-0917-4ef5-8fc9-0925b6df09d3"
   },
   "outputs": [
    {
     "name": "stdout",
     "output_type": "stream",
     "text": [
      " 2025-08-21 07:00:02 ENU   0.280   0.554   0.748, 2D  0.621, mode 0 nsat  0/ 0/ 0 data collected mid=26 ms=11 tow=370803\n",
      " 2025-08-21 07:00:07 ENU   0.280   0.554   0.748, 2D  0.621, mode 0 nsat  0/ 0/ 0 data collected mid=27 ms= 2 tow=370808\n",
      " 2025-08-21 07:00:17 ENU  -1.298   0.549   1.188, 2D  1.409, mode 5 nsat 20/16/15 data collected mid=28 ms= 2 tow=370818\n",
      " 2025-08-21 07:00:27 ENU  -1.176   0.545   0.985, 2D  1.296, mode 5 nsat 20/16/15 data collected mid=29 ms= 2 tow=370828\n",
      " 2025-08-21 07:00:37 ENU  -1.066   0.644   0.678, 2D  1.245, mode 5 nsat 20/16/15 data collected mid=30 ms= 2 tow=370838\n",
      " 2025-08-21 07:00:47 ENU  -0.952   0.659   0.157, 2D  1.158, mode 5 nsat 20/16/15 data collected mid=31 ms= 2 tow=370848\n",
      " 2025-08-21 07:00:50 ENU  -0.941   0.637   0.057, 2D  1.137, mode 5 nsat 20/16/15 reset mid=0 ms=11 tow=370851.0\n",
      " 2025-08-21 07:00:53 ENU  -0.950   0.615  -0.096, 2D  1.131, mode 5 nsat 20/16/15 data collected mid= 0 ms=11 tow=370854\n",
      " 2025-08-21 07:00:57 ENU  -0.940   0.592  -0.222, 2D  1.111, mode 5 nsat 20/16/15 data collected mid= 1 ms= 2 tow=370858\n",
      " 2025-08-21 07:01:07 ENU  -0.909   0.520  -0.404, 2D  1.047, mode 5 nsat 20/16/15 data collected mid= 2 ms= 2 tow=370868\n",
      " 2025-08-21 07:01:17 ENU  -0.840   0.475  -0.302, 2D  0.965, mode 5 nsat 19/16/15 data collected mid= 3 ms= 2 tow=370878\n",
      " 2025-08-21 07:01:27 ENU  -0.760   0.463  -0.027, 2D  0.890, mode 5 nsat 19/16/15 data collected mid= 4 ms= 2 tow=370888\n",
      " 2025-08-21 07:01:37 ENU  -0.683   0.444   0.261, 2D  0.814, mode 5 nsat 20/16/15 data collected mid= 5 ms= 2 tow=370898\n",
      " 2025-08-21 07:01:40 ENU  -0.649   0.432   0.345, 2D  0.780, mode 5 nsat 19/16/15 reset mid=6 ms=11 tow=370901.0\n",
      " 2025-08-21 07:01:43 ENU  -0.629   0.417   0.413, 2D  0.755, mode 5 nsat 19/16/15 data collected mid= 6 ms=11 tow=370904\n",
      " 2025-08-21 07:01:47 ENU  -0.612   0.392   0.457, 2D  0.726, mode 5 nsat 19/16/15 data collected mid= 7 ms= 2 tow=370908\n",
      " 2025-08-21 07:01:57 ENU  -0.606   0.352   0.543, 2D  0.700, mode 5 nsat 19/16/15 data collected mid= 8 ms= 2 tow=370918\n",
      " 2025-08-21 07:02:07 ENU  -0.602   0.361   0.583, 2D  0.702, mode 5 nsat 19/16/15 data collected mid= 9 ms= 2 tow=370928\n",
      " 2025-08-21 07:02:17 ENU  -0.581   0.390   0.509, 2D  0.700, mode 5 nsat 19/16/15 data collected mid=10 ms= 2 tow=370938\n",
      " 2025-08-21 07:02:27 ENU  -0.522   0.414   0.274, 2D  0.666, mode 5 nsat 20/16/15 data collected mid=11 ms= 2 tow=370948\n",
      " 2025-08-21 07:02:30 ENU  -0.498   0.426   0.239, 2D  0.655, mode 5 nsat 19/16/15 reset mid=12 ms=11 tow=370951.0\n",
      " 2025-08-21 07:02:33 ENU  -0.480   0.427   0.199, 2D  0.642, mode 5 nsat 20/16/15 data collected mid=12 ms=11 tow=370954\n",
      " 2025-08-21 07:02:37 ENU  -0.456   0.436   0.281, 2D  0.631, mode 5 nsat 19/16/15 data collected mid=13 ms= 2 tow=370958\n",
      " 2025-08-21 07:02:47 ENU  -0.394   0.465   0.123, 2D  0.609, mode 5 nsat 19/16/15 data collected mid=14 ms= 2 tow=370968\n",
      " 2025-08-21 07:02:57 ENU  -0.319   0.448   0.062, 2D  0.550, mode 5 nsat 20/16/15 data collected mid=15 ms= 2 tow=370978\n",
      " 2025-08-21 07:03:07 ENU  -0.266   0.432   0.017, 2D  0.507, mode 5 nsat 19/16/15 data collected mid=16 ms= 2 tow=370988\n",
      " 2025-08-21 07:03:17 ENU  -0.221   0.446  -0.011, 2D  0.498, mode 5 nsat 19/16/15 data collected mid=17 ms= 2 tow=370998\n",
      " 2025-08-21 07:03:20 ENU  -0.197   0.451   0.004, 2D  0.492, mode 5 nsat 19/16/15 reset mid=18 ms=11 tow=371001.0\n",
      " 2025-08-21 07:03:24 ENU  -0.178   0.434   0.023, 2D  0.469, mode 5 nsat 19/16/15 data collected mid=18 ms=11 tow=371005\n",
      " 2025-08-21 07:03:27 ENU  -0.162   0.435   0.056, 2D  0.464, mode 5 nsat 19/16/15 data collected mid=19 ms= 2 tow=371008\n",
      " 2025-08-21 07:03:37 ENU  -0.095   0.432   0.018, 2D  0.442, mode 5 nsat 19/16/15 data collected mid=20 ms= 2 tow=371018\n",
      " 2025-08-21 07:03:47 ENU  -0.086   0.386  -0.063, 2D  0.396, mode 5 nsat 19/16/15 data collected mid=21 ms= 2 tow=371028\n",
      " 2025-08-21 07:03:57 ENU  -0.078   0.389  -0.202, 2D  0.396, mode 5 nsat 19/16/15 data collected mid=22 ms= 2 tow=371038\n",
      " 2025-08-21 07:04:07 ENU  -0.089   0.393  -0.325, 2D  0.403, mode 5 nsat 19/16/15 data collected mid=23 ms= 2 tow=371048\n",
      " 2025-08-21 07:04:10 ENU  -0.081   0.397  -0.415, 2D  0.405, mode 5 nsat 19/16/16 reset mid=24 ms=11 tow=371051.0\n",
      " 2025-08-21 07:04:13 ENU  -0.076   0.405  -0.479, 2D  0.412, mode 5 nsat 19/16/16 data collected mid=24 ms=11 tow=371054\n",
      " 2025-08-21 07:04:17 ENU  -0.069   0.407  -0.531, 2D  0.412, mode 5 nsat 19/16/16 data collected mid=25 ms= 2 tow=371058\n",
      " 2025-08-21 07:04:27 ENU  -0.094   0.425  -0.584, 2D  0.436, mode 5 nsat 19/16/16 data collected mid=26 ms= 2 tow=371068\n",
      " 2025-08-21 07:04:37 ENU  -0.102   0.430  -0.626, 2D  0.442, mode 5 nsat 19/16/16 data collected mid=27 ms= 2 tow=371078\n",
      " 2025-08-21 07:04:47 ENU  -0.078   0.430  -0.675, 2D  0.437, mode 5 nsat 19/16/16 data collected mid=28 ms= 2 tow=371088\n",
      " 2025-08-21 07:04:57 ENU  -0.087   0.401  -0.552, 2D  0.411, mode 5 nsat 19/16/16 data collected mid=29 ms= 2 tow=371098\n",
      " 2025-08-21 07:05:00 ENU  -0.083   0.392  -0.511, 2D  0.401, mode 5 nsat 19/16/16 reset mid=30 ms=11 tow=371101.0\n",
      " 2025-08-21 07:05:03 ENU  -0.083   0.402  -0.489, 2D  0.411, mode 5 nsat 19/16/16 data collected mid=30 ms=11 tow=371104\n",
      " 2025-08-21 07:05:07 ENU  -0.080   0.390  -0.413, 2D  0.398, mode 5 nsat 19/16/16 data collected mid=31 ms= 2 tow=371108\n",
      " 2025-08-21 07:05:17 ENU  -0.046   0.384  -0.348, 2D  0.387, mode 5 nsat 19/16/16 data collected mid= 0 ms= 2 tow=371118\n",
      " 2025-08-21 07:05:27 ENU  -0.043   0.388  -0.278, 2D  0.391, mode 5 nsat 19/16/16 data collected mid= 1 ms= 2 tow=371128\n",
      " 2025-08-21 07:05:37 ENU  -0.010   0.384  -0.238, 2D  0.384, mode 5 nsat 19/16/16 data collected mid= 2 ms= 2 tow=371138\n",
      " 2025-08-21 07:05:47 ENU  -0.002   0.378  -0.269, 2D  0.378, mode 5 nsat 19/16/16 data collected mid= 3 ms= 2 tow=371148\n",
      " 2025-08-21 07:05:50 ENU  -0.006   0.369  -0.289, 2D  0.370, mode 5 nsat 19/16/16 reset mid=4 ms=11 tow=371151.0\n",
      " 2025-08-21 07:05:53 ENU   0.005   0.374  -0.297, 2D  0.374, mode 5 nsat 19/16/16 data collected mid= 4 ms=11 tow=371154\n",
      " 2025-08-21 07:05:57 ENU   0.018   0.355  -0.344, 2D  0.356, mode 5 nsat 19/16/16 data collected mid= 5 ms= 2 tow=371158\n",
      " 2025-08-21 07:06:07 ENU   0.023   0.341  -0.399, 2D  0.342, mode 5 nsat 19/16/16 data collected mid= 6 ms= 2 tow=371168\n",
      " 2025-08-21 07:06:17 ENU   0.035   0.334  -0.484, 2D  0.336, mode 5 nsat 19/16/16 data collected mid= 7 ms= 2 tow=371178\n",
      " 2025-08-21 07:06:27 ENU   0.047   0.329  -0.572, 2D  0.332, mode 5 nsat 19/16/16 data collected mid= 8 ms= 2 tow=371188\n",
      " 2025-08-21 07:06:37 ENU   0.032   0.332  -0.570, 2D  0.333, mode 5 nsat 19/16/16 data collected mid= 9 ms= 2 tow=371198\n",
      " 2025-08-21 07:06:40 ENU   0.033   0.329  -0.582, 2D  0.331, mode 5 nsat 19/16/16 reset mid=10 ms=11 tow=371201.0\n",
      " 2025-08-21 07:06:43 ENU   0.047   0.334  -0.618, 2D  0.338, mode 5 nsat 19/16/16 data collected mid=10 ms=11 tow=371204\n",
      " 2025-08-21 07:06:47 ENU   0.028   0.337  -0.580, 2D  0.338, mode 5 nsat 19/16/16 data collected mid=11 ms= 2 tow=371208\n",
      " 2025-08-21 07:06:57 ENU   0.018   0.341  -0.586, 2D  0.342, mode 5 nsat 20/16/16 data collected mid=12 ms= 2 tow=371218\n",
      " 2025-08-21 07:07:07 ENU  -0.011   0.347  -0.586, 2D  0.347, mode 5 nsat 19/16/16 data collected mid=13 ms= 2 tow=371228\n",
      " 2025-08-21 07:07:17 ENU  -0.029   0.350  -0.569, 2D  0.351, mode 5 nsat 19/16/16 data collected mid=14 ms= 2 tow=371238\n",
      " 2025-08-21 07:07:27 ENU  -0.041   0.357  -0.561, 2D  0.359, mode 5 nsat 19/16/16 data collected mid=15 ms= 2 tow=371248\n",
      " 2025-08-21 07:07:30 ENU  -0.045   0.351  -0.534, 2D  0.354, mode 5 nsat 19/16/16 reset mid=16 ms=11 tow=371251.0\n",
      " 2025-08-21 07:07:32 ENU  -0.044   0.351  -0.558, 2D  0.354, mode 5 nsat 19/16/16 data collected mid=16 ms=11 tow=371253\n",
      " 2025-08-21 07:07:37 ENU  -0.049   0.353  -0.554, 2D  0.356, mode 5 nsat 19/16/16 data collected mid=17 ms= 2 tow=371258\n",
      " 2025-08-21 07:07:47 ENU  -0.035   0.354  -0.558, 2D  0.355, mode 5 nsat 19/16/16 data collected mid=18 ms= 2 tow=371268\n",
      " 2025-08-21 07:07:57 ENU  -0.030   0.355  -0.590, 2D  0.356, mode 5 nsat 19/16/16 data collected mid=19 ms= 2 tow=371278\n",
      " 2025-08-21 07:08:07 ENU  -0.011   0.353  -0.619, 2D  0.354, mode 5 nsat 19/16/16 data collected mid=20 ms= 2 tow=371288\n",
      " 2025-08-21 07:08:17 ENU   0.008   0.351  -0.668, 2D  0.351, mode 5 nsat 19/16/16 data collected mid=21 ms= 2 tow=371298\n",
      " 2025-08-21 07:08:20 ENU   0.008   0.354  -0.646, 2D  0.354, mode 5 nsat 19/16/16 reset mid=22 ms=11 tow=371301.0\n",
      " 2025-08-21 07:08:22 ENU   0.012   0.348  -0.633, 2D  0.348, mode 5 nsat 19/16/16 data collected mid=22 ms=11 tow=371303\n",
      " 2025-08-21 07:08:27 ENU   0.021   0.381  -0.639, 2D  0.381, mode 5 nsat 19/16/16 data collected mid=23 ms= 2 tow=371308\n",
      " 2025-08-21 07:08:37 ENU   0.029   0.357  -0.633, 2D  0.358, mode 5 nsat 19/16/16 data collected mid=24 ms= 2 tow=371318\n",
      " 2025-08-21 07:08:47 ENU   0.032   0.357  -0.624, 2D  0.359, mode 5 nsat 19/16/16 data collected mid=25 ms= 2 tow=371328\n",
      " 2025-08-21 07:08:57 ENU   0.029   0.343  -0.599, 2D  0.344, mode 5 nsat 19/16/16 data collected mid=26 ms= 2 tow=371338\n",
      " 2025-08-21 07:09:07 ENU   0.039   0.347  -0.607, 2D  0.350, mode 5 nsat 19/16/16 data collected mid=27 ms= 2 tow=371348\n",
      " 2025-08-21 07:09:10 ENU   0.027   0.337  -0.626, 2D  0.338, mode 5 nsat 19/16/16 reset mid=28 ms=11 tow=371351.0\n",
      " 2025-08-21 07:09:12 ENU   0.031   0.345  -0.638, 2D  0.347, mode 5 nsat 19/16/16 data collected mid=28 ms=11 tow=371353\n",
      " 2025-08-21 07:09:17 ENU   0.017   0.344  -0.620, 2D  0.345, mode 5 nsat 19/16/16 data collected mid=29 ms= 2 tow=371358\n",
      " 2025-08-21 07:09:27 ENU   0.026   0.345  -0.613, 2D  0.346, mode 5 nsat 19/16/16 data collected mid=30 ms= 2 tow=371368\n",
      " 2025-08-21 07:09:37 ENU   0.028   0.336  -0.601, 2D  0.337, mode 5 nsat 19/16/16 data collected mid=31 ms= 2 tow=371378\n",
      " 2025-08-21 07:09:47 ENU   0.028   0.312  -0.583, 2D  0.314, mode 5 nsat 19/16/16 data collected mid= 0 ms= 2 tow=371388\n",
      " 2025-08-21 07:09:57 ENU   0.040   0.302  -0.592, 2D  0.304, mode 5 nsat 19/16/16 data collected mid= 1 ms= 2 tow=371398\n",
      " 2025-08-21 07:10:00 ENU   0.047   0.296  -0.608, 2D  0.299, mode 5 nsat 19/16/16 reset mid=2 ms=11 tow=371401.0\n",
      " 2025-08-21 07:10:02 ENU   0.051   0.294  -0.617, 2D  0.298, mode 5 nsat 19/16/16 data collected mid= 2 ms=11 tow=371403\n",
      " 2025-08-21 07:10:07 ENU   0.008   0.278  -0.534, 2D  0.278, mode 5 nsat 19/16/16 data collected mid= 3 ms= 2 tow=371408\n",
      " 2025-08-21 07:10:17 ENU   0.049   0.291  -0.529, 2D  0.295, mode 5 nsat 19/16/16 data collected mid= 4 ms= 2 tow=371418\n",
      " 2025-08-21 07:10:27 ENU   0.060   0.286  -0.526, 2D  0.292, mode 5 nsat 19/16/15 data collected mid= 5 ms= 2 tow=371428\n",
      " 2025-08-21 07:10:37 ENU   0.052   0.289  -0.534, 2D  0.293, mode 5 nsat 19/16/16 data collected mid= 6 ms= 2 tow=371438\n",
      " 2025-08-21 07:10:47 ENU   0.053   0.280  -0.509, 2D  0.285, mode 5 nsat 19/16/16 data collected mid= 7 ms= 2 tow=371448\n",
      " 2025-08-21 07:10:50 ENU   0.052   0.278  -0.529, 2D  0.283, mode 5 nsat 19/16/16 reset mid=8 ms=11 tow=371451.0\n",
      " 2025-08-21 07:10:52 ENU   0.049   0.282  -0.535, 2D  0.286, mode 5 nsat 19/16/16 data collected mid= 8 ms=11 tow=371453\n",
      " 2025-08-21 07:10:57 ENU   0.051   0.291  -0.525, 2D  0.296, mode 5 nsat 19/16/16 data collected mid= 9 ms= 2 tow=371458\n",
      " 2025-08-21 07:11:07 ENU   0.058   0.286  -0.542, 2D  0.292, mode 5 nsat 19/16/16 data collected mid=10 ms= 2 tow=371468\n",
      " 2025-08-21 07:11:17 ENU   0.051   0.292  -0.539, 2D  0.296, mode 5 nsat 19/16/16 data collected mid=11 ms= 2 tow=371478\n",
      " 2025-08-21 07:11:27 ENU   0.051   0.290  -0.516, 2D  0.294, mode 5 nsat 19/16/16 data collected mid=12 ms= 2 tow=371488\n",
      " 2025-08-21 07:11:37 ENU   0.047   0.283  -0.463, 2D  0.286, mode 5 nsat 19/16/16 data collected mid=13 ms= 2 tow=371498\n",
      " 2025-08-21 07:11:40 ENU   0.065   0.284  -0.514, 2D  0.292, mode 5 nsat 19/16/16 reset mid=14 ms=11 tow=371501.0\n",
      " 2025-08-21 07:11:42 ENU   0.062   0.279  -0.524, 2D  0.286, mode 5 nsat 19/16/16 data collected mid=14 ms=11 tow=371503\n",
      " 2025-08-21 07:11:47 ENU   0.058   0.268  -0.527, 2D  0.275, mode 5 nsat 19/16/16 data collected mid=15 ms= 2 tow=371508\n",
      " 2025-08-21 07:11:57 ENU   0.058   0.271  -0.566, 2D  0.277, mode 5 nsat 19/16/16 data collected mid=16 ms= 2 tow=371518\n",
      " 2025-08-21 07:12:07 ENU   0.068   0.260  -0.553, 2D  0.268, mode 5 nsat 19/16/16 data collected mid=17 ms= 2 tow=371528\n",
      " 2025-08-21 07:12:17 ENU   0.052   0.254  -0.558, 2D  0.259, mode 5 nsat 19/16/16 data collected mid=18 ms= 2 tow=371538\n",
      " 2025-08-21 07:12:27 ENU   0.048   0.261  -0.546, 2D  0.266, mode 5 nsat 19/16/16 data collected mid=19 ms= 2 tow=371548\n",
      " 2025-08-21 07:12:30 ENU   0.047   0.265  -0.531, 2D  0.269, mode 5 nsat 19/16/16 reset mid=20 ms=11 tow=371551.0\n",
      " 2025-08-21 07:12:32 ENU   0.042   0.254  -0.503, 2D  0.257, mode 5 nsat 19/16/16 data collected mid=20 ms=11 tow=371553\n",
      " 2025-08-21 07:12:37 ENU   0.049   0.260  -0.458, 2D  0.265, mode 5 nsat 19/16/16 data collected mid=21 ms= 2 tow=371558\n",
      " 2025-08-21 07:12:47 ENU   0.055   0.251  -0.535, 2D  0.257, mode 5 nsat 19/16/16 data collected mid=22 ms= 2 tow=371568\n",
      " 2025-08-21 07:12:57 ENU   0.054   0.248  -0.514, 2D  0.253, mode 5 nsat 19/16/16 data collected mid=23 ms= 2 tow=371578\n",
      " 2025-08-21 07:13:07 ENU   0.048   0.244  -0.515, 2D  0.248, mode 5 nsat 19/16/16 data collected mid=24 ms= 2 tow=371588\n",
      " 2025-08-21 07:13:17 ENU   0.067   0.241  -0.610, 2D  0.250, mode 5 nsat 19/16/16 data collected mid=25 ms= 2 tow=371598\n",
      " 2025-08-21 07:13:20 ENU   0.072   0.227  -0.601, 2D  0.238, mode 5 nsat 19/16/16 reset mid=26 ms=11 tow=371601.0\n",
      " 2025-08-21 07:13:22 ENU   0.069   0.226  -0.617, 2D  0.236, mode 5 nsat 19/16/16 data collected mid=26 ms=11 tow=371603\n",
      " 2025-08-21 07:13:27 ENU   0.073   0.227  -0.627, 2D  0.238, mode 5 nsat 19/16/16 data collected mid=27 ms= 2 tow=371608\n",
      " 2025-08-21 07:13:37 ENU   0.070   0.215  -0.622, 2D  0.226, mode 5 nsat 19/16/16 data collected mid=28 ms= 2 tow=371618\n",
      " 2025-08-21 07:13:47 ENU   0.041   0.214  -0.584, 2D  0.218, mode 5 nsat 19/16/16 data collected mid=29 ms= 2 tow=371628\n",
      " 2025-08-21 07:13:57 ENU   0.038   0.211  -0.529, 2D  0.214, mode 5 nsat 19/16/16 data collected mid=30 ms= 2 tow=371638\n",
      " 2025-08-21 07:14:07 ENU   0.048   0.219  -0.581, 2D  0.225, mode 5 nsat 19/16/16 data collected mid=31 ms= 2 tow=371648\n",
      " 2025-08-21 07:14:10 ENU   0.064   0.219  -0.642, 2D  0.228, mode 5 nsat 19/16/16 reset mid=0 ms=11 tow=371651.0\n",
      " 2025-08-21 07:14:12 ENU   0.061   0.210  -0.627, 2D  0.218, mode 5 nsat 19/16/16 data collected mid= 0 ms=11 tow=371653\n",
      " 2025-08-21 07:14:17 ENU   0.066   0.210  -0.666, 2D  0.221, mode 5 nsat 19/16/16 data collected mid= 1 ms= 2 tow=371658\n",
      " 2025-08-21 07:14:27 ENU   0.061   0.202  -0.679, 2D  0.211, mode 5 nsat 19/16/16 data collected mid= 2 ms= 2 tow=371668\n",
      " 2025-08-21 07:14:37 ENU   0.054   0.215  -0.633, 2D  0.222, mode 5 nsat 19/16/16 data collected mid= 3 ms= 2 tow=371678\n",
      " 2025-08-21 07:14:47 ENU   0.046   0.226  -0.647, 2D  0.231, mode 5 nsat 19/16/16 data collected mid= 4 ms= 2 tow=371688\n",
      " 2025-08-21 07:14:57 ENU   0.045   0.221  -0.593, 2D  0.226, mode 5 nsat 19/16/16 data collected mid= 5 ms= 2 tow=371698\n",
      " 2025-08-21 07:15:00 ENU   0.035   0.224  -0.582, 2D  0.226, mode 5 nsat 19/16/16\n"
     ]
    }
   ],
   "source": [
    "nep = 15 * 60  # increase this to run longer\n",
    "\n",
    "# Intialize data structures for results\n",
    "t = np.zeros(nep)\n",
    "enu = np.ones((nep, 3))*np.nan\n",
    "sol = np.zeros((nep, 4))\n",
    "ztd = np.zeros((nep, 1))\n",
    "smode = np.zeros(nep, dtype=int)\n",
    "nsat = np.zeros((nep, 3), dtype=int)\n",
    "\n",
    "# Init variables\n",
    "mid_, ms_, icnt = -1, -1, 0\n",
    "rec, mid_decoded = [], []\n",
    "has_pages = np.zeros((255, 53), dtype=int)\n",
    "\n",
    "# Skip epochs until start time\n",
    "obs = rnx.decode_obs()\n",
    "while time > obs.t and obs.t.time != 0:\n",
    "    obs = rnx.decode_obs()\n",
    "\n",
    "# Loop over number of epoch from file start\n",
    "for ne in range(nep):\n",
    "    week, tow = time2gpst(obs.t)\n",
    "    cs.week = week\n",
    "    cs.tow0 = tow // 3600 * 3600\n",
    "\n",
    "    # Set initial epoch\n",
    "    if ne == 0:\n",
    "        nav.t = deepcopy(obs.t)\n",
    "        t0 = deepcopy(obs.t)\n",
    "        t0.time = t0.time // 30 * 30\n",
    "        nav.time_p = t0\n",
    "\n",
    "    vi = v[v['tow'] == tow]\n",
    "    for vn in vi:\n",
    "        buff = unhexlify(vn['nav'])\n",
    "        i = 14\n",
    "        if bs.unpack_from('u24', buff, i)[0] == 0xaf3bc3:\n",
    "            continue\n",
    "        hass, res = bs.unpack_from('u2u2', buff, i)\n",
    "        i += 4\n",
    "        if hass >= 2:  # 0:test,1:operational,2:res,3:dnu\n",
    "            continue\n",
    "        mt, mid, ms, pid = bs.unpack_from('u2u5u5u8', buff, i)\n",
    "\n",
    "        cs.msgtype = mt\n",
    "        ms += 1\n",
    "        i += 20\n",
    "\n",
    "        if mid_ == -1 and mid not in mid_decoded:\n",
    "            mid_ = mid\n",
    "            ms_ = ms\n",
    "        if mid == mid_ and pid-1 not in rec:\n",
    "            page = bs.unpack_from('u8'*53, buff, i)\n",
    "            rec += [pid-1]\n",
    "            has_pages[pid-1, :] = page\n",
    "\n",
    "    if len(rec) >= ms_:\n",
    "        if cs.monlevel >= 2:\n",
    "            print(f\" data collected mid={mid_:2d} ms={ms_:2d} tow={tow:.0f}\")\n",
    "        HASmsg = cs.decode_has_page(rec, has_pages, gMat, ms_)\n",
    "        cs.decode_cssr(HASmsg)\n",
    "        rec = []\n",
    "\n",
    "        mid_decoded += [mid_]\n",
    "        mid_ = -1\n",
    "        if len(mid_decoded) > 10:\n",
    "            mid_decoded = mid_decoded[1:]\n",
    "    else:\n",
    "        icnt += 1\n",
    "        if icnt > 2*ms_ and mid_ != -1:\n",
    "            icnt = 0\n",
    "            if cs.monlevel >= 2:\n",
    "                print(f\" reset mid={mid_} ms={ms_} tow={tow}\")\n",
    "            rec = []\n",
    "            mid_ = -1\n",
    "\n",
    "    # Call PPP module with HAS corrections\n",
    "    if (cs.lc[0].cstat & 0xf) == 0xf:\n",
    "        ppp.process(obs, cs=cs)\n",
    "\n",
    "    # Save output\n",
    "    t[ne] = timediff(nav.t, t0) / 86400.0\n",
    "\n",
    "    sol = nav.xa[0:3] if nav.smode == 4 else nav.x[0:3]\n",
    "    enu[ne, :] = gn.ecef2enu(pos_ref, sol-xyz_ref)\n",
    "\n",
    "    ztd[ne] = nav.xa[ppp.IT(nav.na)] if nav.smode == 4 else nav.x[ppp.IT(nav.na)]\n",
    "    smode[ne] = nav.smode\n",
    "    nsat[ne, :] = nav.nsat\n",
    "\n",
    "    nav.fout.write(\"{} {:14.4f} {:14.4f} {:14.4f} \"\n",
    "                    \"ENU {:7.3f} {:7.3f} {:7.3f}, 2D {:6.3f}, mode {:1d}\\n\"\n",
    "                    .format(time2str(obs.t),\n",
    "                            sol[0], sol[1], sol[2],\n",
    "                            enu[ne, 0], enu[ne, 1], enu[ne, 2],\n",
    "                            np.sqrt(enu[ne, 0]**2+enu[ne, 1]**2),\n",
    "                            smode[ne]))\n",
    "\n",
    "    stdout.write('\\r {} ENU {:7.3f} {:7.3f} {:7.3f}, 2D {:6.3f}, mode {:1d} nsat {:2d}/{:2d}/{:2d}'\n",
    "                 .format(time2str(obs.t),\n",
    "                         enu[ne, 0], enu[ne, 1], enu[ne, 2],\n",
    "                         np.sqrt(enu[ne, 0]**2+enu[ne, 1]**2),\n",
    "                         smode[ne],\n",
    "                         nsat[ne, 0], nsat[ne, 1], nsat[ne, 2]))\n",
    "\n",
    "    # Get new epoch, exit after last epoch\n",
    "    obs = rnx.decode_obs()\n",
    "    if obs.t.time == 0:\n",
    "        break\n",
    "\n",
    "stdout.write('\\n')\n",
    "rnx.fobs.close()\n"
   ]
  },
  {
   "cell_type": "markdown",
   "id": "yXJXvBP5-Iav",
   "metadata": {
    "id": "yXJXvBP5-Iav"
   },
   "source": [
    "Plot results"
   ]
  },
  {
   "cell_type": "code",
   "execution_count": 34,
   "id": "jBUBDuDH-Iax",
   "metadata": {
    "colab": {
     "base_uri": "https://localhost:8080/",
     "height": 795
    },
    "id": "jBUBDuDH-Iax",
    "outputId": "d9fbe8c3-9ae9-48f5-cd48-325f07d63ab9"
   },
   "outputs": [
    {
     "data": {
      "text/plain": [
       "<matplotlib.legend.Legend at 0x2334bffc190>"
      ]
     },
     "execution_count": 34,
     "metadata": {},
     "output_type": "execute_result"
    },
    {
     "data": {
      "image/png": "[encoded data removed]",
      "text/plain": [
       "<Figure size 700x900 with 4 Axes>"
      ]
     },
     "metadata": {},
     "output_type": "display_data"
    }
   ],
   "source": [
    "ylim = 1.0\n",
    "\n",
    "idx4 = np.where(smode == 4)[0]\n",
    "idx5 = np.where(smode == 5)[0]\n",
    "idx0 = np.where(smode == 0)[0]\n",
    "\n",
    "fig = plt.figure(figsize=[7, 9])\n",
    "fig.set_rasterized(True)\n",
    "fmt = '%H:%M'\n",
    "\n",
    "lbl_t = ['East [m]', 'North [m]', 'Up [m]']\n",
    "\n",
    "for k in range(3):\n",
    "    plt.subplot(4, 1, k+1)\n",
    "    plt.plot(t[idx0], enu[idx0, k], 'r.')\n",
    "    plt.plot(t[idx5], enu[idx5, k], 'y.')\n",
    "    plt.plot(t[idx4], enu[idx4, k], 'g.')\n",
    "\n",
    "    plt.ylabel(lbl_t[k])\n",
    "    plt.grid()\n",
    "    plt.ylim([-ylim, ylim])\n",
    "    plt.gca().xaxis.set_major_formatter(md.DateFormatter(fmt))\n",
    "\n",
    "plt.subplot(4, 1, 4)\n",
    "plt.plot(t[idx0], ztd[idx0]*1e2, 'r.', markersize=8, label='none')\n",
    "plt.plot(t[idx5], ztd[idx5]*1e2, 'y.', markersize=8, label='float')\n",
    "plt.plot(t[idx4], ztd[idx4]*1e2, 'g.', markersize=8, label='fix')\n",
    "plt.ylabel('ZTD [cm]')\n",
    "plt.grid()\n",
    "plt.gca().xaxis.set_major_formatter(md.DateFormatter(fmt))\n",
    "\n",
    "plt.xlabel('Time [HH:MM]')\n",
    "plt.legend()\n"
   ]
  },
  {
   "cell_type": "markdown",
   "id": "OdegzV6Wpwb3",
   "metadata": {
    "id": "OdegzV6Wpwb3"
   },
   "source": []
  },
  {
   "cell_type": "markdown",
   "id": "nf1Rwd3u8vXK",
   "metadata": {
    "id": "nf1Rwd3u8vXK"
   },
   "source": [
    "\n",
    "## Example 9: PPP positioning (MADOCA-PPP)\n",
    "\n",
    "This section demonstrates PPP positioning using QZSS MADOCA-PPP corrections with a Septentrio mosaic-X5 receiver."
   ]
  },
  {
   "cell_type": "markdown",
   "id": "to8XjhfTtpCu",
   "metadata": {
    "id": "to8XjhfTtpCu"
   },
   "source": [
    "First, load the required Python modules."
   ]
  },
  {
   "cell_type": "code",
   "execution_count": 36,
   "id": "wsXq8ow7Kt6-",
   "metadata": {
    "id": "wsXq8ow7Kt6-"
   },
   "outputs": [],
   "source": [
    "from copy import deepcopy\n",
    "import matplotlib.pyplot as plt\n",
    "import numpy as np\n",
    "from binascii import unhexlify\n",
    "from sys import stdout\n",
    "\n",
    "import cssrlib.gnss as gn\n",
    "from cssrlib.gnss import ecef2pos, Nav\n",
    "from cssrlib.gnss import time2gpst, time2doy, time2str, timediff, epoch2time\n",
    "from cssrlib.gnss import rSigRnx\n",
    "from cssrlib.gnss import sys2str\n",
    "from cssrlib.peph import atxdec, searchpcv\n",
    "from cssrlib.cssr_mdc import cssr_mdc\n",
    "from cssrlib.pppssr import pppos\n",
    "from cssrlib.rinex import rnxdec"
   ]
  },
  {
   "cell_type": "markdown",
   "id": "sIWw2QoZKt7I",
   "metadata": {
    "id": "sIWw2QoZKt7I"
   },
   "source": [
    "Define the input data and parameters for this example"
   ]
  },
  {
   "cell_type": "code",
   "execution_count": 37,
   "id": "yzPWKG1oKt7I",
   "metadata": {
    "id": "yzPWKG1oKt7I"
   },
   "outputs": [],
   "source": [
    "# Start epoch and number of epochs\n",
    "ep = [2025, 8, 21, 7, 0, 0]\n",
    "\n",
    "time = epoch2time(ep)\n",
    "year = ep[0]\n",
    "doy = int(time2doy(time))\n",
    "\n",
    "let = chr(ord('a')+ep[3])\n",
    "bdir = f'cssrlib-data/data/doy{ep[0]:04d}-{doy:03d}/'\n",
    "navfile = bdir+f'{doy:03d}{let}_rnx.nav'\n",
    "obsfile = bdir+f'{doy:03d}{let}_rnx.obs'\n",
    "atxfile = bdir+'../antex/igs20.atx'\n",
    "\n",
    "# Specify L6 corrections files\n",
    "file_l6 = bdir+f'{doy:03d}{let}_qzsl6.txt'\n",
    "prn_ref = 199  # QZSS PRN\n",
    "l6_ch = 1  # 0:L6D, 1:L6E\n",
    "dtype = [('wn', 'int'), ('tow', 'int'), ('prn', 'int'),\n",
    "         ('type', 'int'), ('len', 'int'), ('nav', 'S500')]\n",
    "\n",
    "# Set user reference position\n",
    "xyz_ref = [-3962108.6836, 3381309.5672, 3668678.6720]\n",
    "pos_ref = ecef2pos(xyz_ref)\n",
    "\n",
    "# Define signals to be processed\n",
    "sigs = [rSigRnx(\"GC1C\"), rSigRnx(\"GC2W\"),\n",
    "        rSigRnx(\"GL1C\"), rSigRnx(\"GL2W\"),\n",
    "        rSigRnx(\"GS1C\"), rSigRnx(\"GS2W\"),\n",
    "        rSigRnx(\"EC1C\"), rSigRnx(\"EC5Q\"),\n",
    "        rSigRnx(\"EL1C\"), rSigRnx(\"EL5Q\"),\n",
    "        rSigRnx(\"ES1C\"), rSigRnx(\"ES5Q\"),\n",
    "        rSigRnx(\"JC1C\"), rSigRnx(\"JC2L\"),\n",
    "        rSigRnx(\"JL1C\"), rSigRnx(\"JL2L\"),\n",
    "        rSigRnx(\"JS1C\"), rSigRnx(\"JS2L\")]\n"
   ]
  },
  {
   "cell_type": "markdown",
   "id": "-CjlD8OGKt7I",
   "metadata": {
    "id": "-CjlD8OGKt7I"
   },
   "source": [
    "Load and parse the input data"
   ]
  },
  {
   "cell_type": "code",
   "execution_count": 38,
   "id": "Z-oB0iDWKt7I",
   "metadata": {
    "id": "Z-oB0iDWKt7I"
   },
   "outputs": [],
   "source": [
    "rnx = rnxdec()\n",
    "rnx.setSignals(sigs)\n",
    "\n",
    "nav = Nav()\n",
    "nav.pmode = 0 # Positioning mode: 0:static, 1:kinematic\n",
    "\n",
    "# Decode RINEX NAV data\n",
    "nav = rnx.decode_nav(navfile, nav)\n",
    "\n",
    "# Load PPP corrections\n",
    "v = np.genfromtxt(file_l6, dtype=dtype)\n",
    "\n",
    "cs = cssr_mdc('madoca_cssr.log')\n",
    "cs.monlevel = 0\n",
    "\n",
    "# Load ANTEX data for satellites and stations\n",
    "atx = atxdec()\n",
    "atx.readpcv(atxfile)\n",
    "\n",
    "nav.monlevel = 0  # Logging level\n",
    "\n",
    "# Load RINEX OBS file header\n",
    "if rnx.decode_obsh(obsfile) >= 0:\n",
    "\n",
    "    # Auto-substitute signals\n",
    "    rnx.autoSubstituteSignals()\n",
    "\n",
    "    # Initialize position\n",
    "    rr = rnx.pos\n",
    "    pos = ecef2pos(rr)\n",
    "    ppp = pppos(nav, rnx.pos, 'test_pppmdc.log')\n",
    "    nav.elmin = np.deg2rad(5.0)\n",
    "    nav.glo_ch = rnx.glo_ch\n",
    "\n",
    "    # Set PCO/PCV information\n",
    "    nav.sat_ant = atx.pcvs\n",
    "    nav.rcv_ant = searchpcv(atx.pcvr, rnx.ant,  rnx.ts)"
   ]
  },
  {
   "cell_type": "markdown",
   "id": "jHYIRQokKt7J",
   "metadata": {
    "id": "jHYIRQokKt7J"
   },
   "source": [
    "Print the available satellite signals"
   ]
  },
  {
   "cell_type": "code",
   "execution_count": 77,
   "id": "NqhVIdPgKt7J",
   "metadata": {
    "colab": {
     "base_uri": "https://localhost:8080/"
    },
    "id": "NqhVIdPgKt7J",
    "outputId": "2ea50f20-ffed-4da0-f7c7-83d0de604e57"
   },
   "outputs": [
    {
     "name": "stdout",
     "output_type": "stream",
     "text": [
      "Available signals\n",
      "GPS     C1C L1C D1C S1C C1W S1W C2W L2W D2W S2W C2L L2L D2L S2L C5Q L5Q D5Q S5Q C1L L1L D1L S1L\n",
      "GALILEO C1C L1C D1C S1C C6C L6C D6C S6C C5Q L5Q D5Q S5Q C7Q L7Q D7Q S7Q C8Q L8Q D8Q S8Q\n",
      "SBAS    C1C L1C D1C S1C C5I L5I D5I S5I\n",
      "GLONASS C1C L1C D1C S1C C1P L1P D1P S1P C2P L2P D2P S2P C2C L2C D2C S2C C3Q L3Q D3Q S3Q\n",
      "BEIDOU  C1P L1P D1P S1P C5P L5P D5P S5P C2I L2I D2I S2I C7I L7I D7I S7I C6I L6I D6I S6I C7D L7D D7D S7D\n",
      "QZSS    C1C L1C D1C S1C C2L L2L D2L S2L C5Q L5Q D5Q S5Q C1L L1L D1L S1L C1Z L1Z D1Z S1Z C5P L5P D5P S5P\n",
      "IRNSS   C5A L5A D5A S5A\n",
      "\n",
      "Selected signals\n",
      "GPS     C1C C2W L1C L2W S1C S2W \n",
      "GALILEO C1C C5Q L1C L5Q S1C S5Q \n",
      "QZSS    C1C C2L L1C L2L S1C S2L \n"
     ]
    }
   ],
   "source": [
    "print(\"Available signals\")\n",
    "for sys, sigs in rnx.sig_map.items():\n",
    "  txt = \"{:7s} {}\".format(sys2str(sys),\n",
    "        ' '.join([sig.str() for sig in sigs.values()]))\n",
    "  print(txt)\n",
    "\n",
    "print(\"\\nSelected signals\")\n",
    "for sys, tmp in rnx.sig_tab.items():\n",
    "  txt = \"{:7s} \".format(sys2str(sys))\n",
    "  for _, sigs in tmp.items():\n",
    "    txt += \"{} \".format(' '.join([sig.str() for sig in sigs]))\n",
    "  print(txt)"
   ]
  },
  {
   "cell_type": "markdown",
   "id": "zDhWQUZAKt7J",
   "metadata": {
    "id": "zDhWQUZAKt7J"
   },
   "source": [
    "Process data for 15 minutes (ok to abort before finished)"
   ]
  },
  {
   "cell_type": "code",
   "execution_count": 39,
   "id": "tjGh4fpZKt7J",
   "metadata": {
    "colab": {
     "base_uri": "https://localhost:8080/"
    },
    "id": "tjGh4fpZKt7J",
    "outputId": "fc918566-9605-46ef-858c-658c7426fc8e"
   },
   "outputs": [
    {
     "name": "stdout",
     "output_type": "stream",
     "text": [
      " 2025-08-21 07:15:00 ENU  -0.191   0.079  -0.037, 2D  0.207, mode 5"
     ]
    }
   ],
   "source": [
    "nep = 15 * 60  # increase this to run longer\n",
    "\n",
    "# Intialize data structures for results\n",
    "t = np.zeros(nep)\n",
    "enu = np.ones((nep, 3))*np.nan\n",
    "sol = np.zeros((nep, 4))\n",
    "ztd = np.zeros((nep, 1))\n",
    "smode = np.zeros(nep, dtype=int)\n",
    "\n",
    "# Skip epochs until start time\n",
    "obs = rnx.decode_obs()\n",
    "while time > obs.t and obs.t.time != 0:\n",
    "    obs = rnx.decode_obs()\n",
    "\n",
    "# Loop over number of epoch from file start\n",
    "for ne in range(nep):\n",
    "    week, tow = time2gpst(obs.t)\n",
    "    cs.week = week\n",
    "    cs.tow0 = tow // 3600*3600\n",
    "\n",
    "    # Set initial epoch\n",
    "    if ne == 0:\n",
    "        nav.t = deepcopy(obs.t)\n",
    "        t0 = deepcopy(obs.t)\n",
    "        t0.time = t0.time//30*30\n",
    "        nav.time_p = t0\n",
    "\n",
    "    vi = v[(v['tow'] == tow) & (v['type'] == l6_ch)\n",
    "           & (v['prn'] == prn_ref)]\n",
    "    if len(vi) > 0:\n",
    "      msg = unhexlify(vi['nav'][0])\n",
    "      cs.decode_l6msg(msg, 0)\n",
    "      if cs.fcnt == 5:  # end of sub-frame\n",
    "          cs.decode_cssr(cs.buff, 0)\n",
    "\n",
    "    # Call PPP module\n",
    "    if (cs.lc[0].cstat & 0xf) == 0xf:\n",
    "        ppp.process(obs, cs=cs)\n",
    "\n",
    "    # Save output\n",
    "    t[ne] = timediff(nav.t, t0) / 86400.0\n",
    "    sol = nav.xa[0:3] if nav.smode == 4 else nav.x[0:3]\n",
    "    enu[ne, :] = gn.ecef2enu(pos_ref, sol-xyz_ref)\n",
    "    ztd[ne] = nav.xa[ppp.IT(nav.na)] if nav.smode == 4 else nav.x[ppp.IT(nav.na)]\n",
    "    smode[ne] = nav.smode\n",
    "\n",
    "    # Log to standard output\n",
    "    stdout.write('\\r {} ENU {:7.3f} {:7.3f} {:7.3f}, 2D {:6.3f}, mode {:1d}'\n",
    "                 .format(time2str(obs.t),\n",
    "                         enu[ne, 0], enu[ne, 1], enu[ne, 2],\n",
    "                         np.sqrt(enu[ne, 0]**2+enu[ne, 1]**2),\n",
    "                         smode[ne]))\n",
    "\n",
    "    # Get new epoch, exit after last epoch\n",
    "    obs = rnx.decode_obs()\n",
    "    if obs.t.time == 0:\n",
    "        break"
   ]
  },
  {
   "cell_type": "markdown",
   "id": "JvZIeMofKt7K",
   "metadata": {
    "id": "JvZIeMofKt7K"
   },
   "source": [
    "Plot results"
   ]
  },
  {
   "cell_type": "code",
   "execution_count": 91,
   "id": "PHo6f5f1Kt7K",
   "metadata": {
    "colab": {
     "base_uri": "https://localhost:8080/",
     "height": 795
    },
    "id": "PHo6f5f1Kt7K",
    "outputId": "831cb237-f64e-4564-bfa1-ac19b2ae4451"
   },
   "outputs": [
    {
     "data": {
      "text/plain": [
       "<matplotlib.legend.Legend at 0x21d46361950>"
      ]
     },
     "execution_count": 91,
     "metadata": {},
     "output_type": "execute_result"
    },
    {
     "data": {
      "image/png": "[encoded data removed]",
      "text/plain": [
       "<Figure size 700x900 with 4 Axes>"
      ]
     },
     "metadata": {},
     "output_type": "display_data"
    }
   ],
   "source": [
    "ylim = 1.0\n",
    "\n",
    "idx4 = np.where(smode == 4)[0]\n",
    "idx5 = np.where(smode == 5)[0]\n",
    "idx0 = np.where(smode == 0)[0]\n",
    "\n",
    "fig = plt.figure(figsize=[7, 9])\n",
    "fig.set_rasterized(True)\n",
    "lbl_t = ['East [m]', 'North [m]', 'Up [m]']\n",
    "fmt = '%H:%M'\n",
    "\n",
    "for k in range(3):\n",
    "    plt.subplot(4, 1, k+1)\n",
    "    plt.plot(t[idx0], enu[idx0, k], 'r.')\n",
    "    plt.plot(t[idx5], enu[idx5, k], 'y.')\n",
    "    plt.plot(t[idx4], enu[idx4, k], 'g.')\n",
    "\n",
    "    plt.ylabel(lbl_t[k])\n",
    "    plt.grid()\n",
    "    plt.ylim([-ylim, ylim])\n",
    "    plt.gca().xaxis.set_major_formatter(md.DateFormatter(fmt))\n",
    "\n",
    "plt.subplot(4, 1, 4)\n",
    "plt.plot(t[idx0], ztd[idx0]*1e2, 'r.', markersize=8, label='none')\n",
    "plt.plot(t[idx5], ztd[idx5]*1e2, 'y.', markersize=8, label='float')\n",
    "plt.plot(t[idx4], ztd[idx4]*1e2, 'g.', markersize=8, label='fix')\n",
    "plt.ylabel('ZTD [cm]')\n",
    "plt.grid()\n",
    "plt.gca().xaxis.set_major_formatter(md.DateFormatter(fmt))\n",
    "\n",
    "plt.xlabel('Time [HH:MM]')\n",
    "plt.legend()\n"
   ]
  },
  {
   "cell_type": "markdown",
   "id": "140a3d36",
   "metadata": {},
   "source": [
    "## Example 10: PPP positioning (PPP via SouthPAN)\n",
    "\n",
    "This section demonstrates PPP positioning using PPP via SouthPAN (PVS) corrections with a Septentrio mosaic-X5 receiver."
   ]
  },
  {
   "cell_type": "code",
   "execution_count": 40,
   "id": "4ef1b043",
   "metadata": {},
   "outputs": [],
   "source": [
    "from copy import deepcopy\n",
    "import matplotlib.pyplot as plt\n",
    "import numpy as np\n",
    "from binascii import unhexlify\n",
    "from sys import stdout\n",
    "\n",
    "import cssrlib.gnss as gn\n",
    "from cssrlib.gnss import ecef2pos, Nav\n",
    "from cssrlib.gnss import time2gpst, time2doy, time2str, timediff, epoch2time\n",
    "from cssrlib.gnss import rSigRnx\n",
    "from cssrlib.gnss import sys2str\n",
    "from cssrlib.peph import atxdec, searchpcv\n",
    "from cssrlib.cssr_pvs import cssr_pvs\n",
    "from cssrlib.pppssr import pppos\n",
    "from cssrlib.rinex import rnxdec"
   ]
  },
  {
   "cell_type": "markdown",
   "id": "fda6108f",
   "metadata": {},
   "source": []
  },
  {
   "cell_type": "code",
   "execution_count": 49,
   "id": "847a774c",
   "metadata": {},
   "outputs": [],
   "source": [
    "# Start epoch and number of epochs\n",
    "ep = [2025, 8, 21, 7, 0, 0]\n",
    "\n",
    "time = epoch2time(ep)\n",
    "year = ep[0]\n",
    "doy = int(time2doy(time))\n",
    "\n",
    "let = chr(ord('a')+ep[3])\n",
    "bdir = f'cssrlib-data/data/doy{ep[0]:04d}-{doy:03d}/'\n",
    "navfile = bdir+f'{doy:03d}{let}_rnx.nav'\n",
    "obsfile = bdir+f'{doy:03d}{let}_rnx.obs'\n",
    "atxfile = bdir+'../antex/igs20.atx'\n",
    "\n",
    "# Specify SBAS corrections files\n",
    "file_sbas = bdir+f'{doy:03d}{let}_sbas.txt'\n",
    "prn_ref = 122  # satellite PRN for PRN122\n",
    "sbas_type = 1  # L1: 0, L5: 1\n",
    "\n",
    "dtype = [('wn', 'int'), ('tow', 'float'), ('prn', 'int'),\n",
    "         ('type', 'int'), ('marker', 'S2'), ('nav', 'S124')]\n",
    "\n",
    "# Set user reference position\n",
    "xyz_ref = [-3962108.6836, 3381309.5672, 3668678.6720]\n",
    "pos_ref = ecef2pos(xyz_ref)\n",
    "\n",
    "# Define signals to be processed\n",
    "sigs = [rSigRnx(\"GC1C\"), rSigRnx(\"GC5Q\"),\n",
    "        rSigRnx(\"GL1C\"), rSigRnx(\"GL5Q\"),\n",
    "        rSigRnx(\"GS1C\"), rSigRnx(\"GS5Q\"),\n",
    "        rSigRnx(\"EC1C\"), rSigRnx(\"EC5Q\"),\n",
    "        rSigRnx(\"EL1C\"), rSigRnx(\"EL5Q\"),\n",
    "        rSigRnx(\"ES1C\"), rSigRnx(\"ES5Q\")]\n"
   ]
  },
  {
   "cell_type": "markdown",
   "id": "8d18ea4c",
   "metadata": {},
   "source": []
  },
  {
   "cell_type": "code",
   "execution_count": 50,
   "id": "6117e773",
   "metadata": {},
   "outputs": [],
   "source": [
    "rnx = rnxdec()\n",
    "rnx.setSignals(sigs)\n",
    "\n",
    "nav = Nav()\n",
    "nav.pmode = 0 # Positioning mode: 0:static, 1:kinematic\n",
    "\n",
    "# Decode RINEX NAV data\n",
    "nav = rnx.decode_nav(navfile, nav)\n",
    "\n",
    "# Load PPP corrections\n",
    "v = np.genfromtxt(file_sbas, dtype=dtype)\n",
    "\n",
    "cs = cssr_pvs()\n",
    "cs.monlevel = 0\n",
    "\n",
    "# Load ANTEX data for satellites and stations\n",
    "atx = atxdec()\n",
    "atx.readpcv(atxfile)\n",
    "\n",
    "nav.monlevel = 0  # Logging level\n",
    "\n",
    "# Load RINEX OBS file header\n",
    "if rnx.decode_obsh(obsfile) >= 0:\n",
    "\n",
    "    # Auto-substitute signals\n",
    "    rnx.autoSubstituteSignals()\n",
    "\n",
    "    # Initialize position\n",
    "    rr = rnx.pos\n",
    "    pos = ecef2pos(rr)\n",
    "    ppp = pppos(nav, rnx.pos, 'test_ppppvs.log')\n",
    "    nav.elmin = np.deg2rad(5.0)\n",
    "    nav.glo_ch = rnx.glo_ch\n",
    "\n",
    "    # Set PCO/PCV information\n",
    "    nav.sat_ant = atx.pcvs\n",
    "    nav.rcv_ant = searchpcv(atx.pcvr, rnx.ant,  rnx.ts)"
   ]
  },
  {
   "cell_type": "markdown",
   "id": "be76051d",
   "metadata": {},
   "source": []
  },
  {
   "cell_type": "code",
   "execution_count": 46,
   "id": "f39f72ca",
   "metadata": {},
   "outputs": [
    {
     "name": "stdout",
     "output_type": "stream",
     "text": [
      "Available signals\n",
      "GPS     C1C L1C D1C S1C C2W L2W D2W S2W C2L L2L D2L S2L C5Q L5Q D5Q S5Q\n",
      "GLONASS C1C L1C D1C S1C C2C L2C D2C S2C C2P L2P D2P S2P C3Q L3Q D3Q S3Q\n",
      "GALILEO C1C L1C D1C S1C C5Q L5Q D5Q S5Q C7Q L7Q D7Q S7Q C8Q L8Q D8Q S8Q C6C L6C D6C S6C\n",
      "BEIDOU  C1P L1P D1P S1P C2I L2I D2I S2I C5P L5P D5P S5P C6I L6I D6I S6I C7D L7D D7D S7D C7I L7I D7I S7I\n",
      "QZSS    C1C L1C D1C S1C C1E L1E D1E S1E C1L L1L D1L S1L C2L L2L D2L S2L C5Q L5Q D5Q S5Q\n",
      "IRNSS   C1P L1P D1P S1P C5A L5A D5A S5A\n",
      "\n",
      "Selected signals\n",
      "GPS     C1C C5Q L1C L5Q S1C S5Q \n",
      "GALILEO C1C C5Q L1C L5Q S1C S5Q \n"
     ]
    }
   ],
   "source": [
    "print(\"Available signals\")\n",
    "for sys, sigs in rnx.sig_map.items():\n",
    "  txt = \"{:7s} {}\".format(sys2str(sys),\n",
    "        ' '.join([sig.str() for sig in sigs.values()]))\n",
    "  print(txt)\n",
    "\n",
    "print(\"\\nSelected signals\")\n",
    "for sys, tmp in rnx.sig_tab.items():\n",
    "  txt = \"{:7s} \".format(sys2str(sys))\n",
    "  for _, sigs in tmp.items():\n",
    "    txt += \"{} \".format(' '.join([sig.str() for sig in sigs]))\n",
    "  print(txt)"
   ]
  },
  {
   "cell_type": "markdown",
   "id": "44cde2fb",
   "metadata": {},
   "source": []
  },
  {
   "cell_type": "code",
   "execution_count": null,
   "id": "cf2603db",
   "metadata": {},
   "outputs": [
    {
     "name": "stdout",
     "output_type": "stream",
     "text": [
      " too few satellites < 6: nsat=0\n",
      " 2025-08-21 07:00:01 ENU   0.280   0.554   0.748, 2D  0.621, mode 0 too few satellites < 6: nsat=1\n",
      " 2025-08-21 07:00:02 ENU   0.280   0.554   0.748, 2D  0.621, mode 0 too few satellites < 6: nsat=1\n",
      " 2025-08-21 07:00:03 ENU   0.280   0.554   0.748, 2D  0.621, mode 0 too few satellites < 6: nsat=1\n",
      " 2025-08-21 07:00:04 ENU   0.280   0.554   0.748, 2D  0.621, mode 0 too few satellites < 6: nsat=2\n",
      " 2025-08-21 07:00:05 ENU   0.280   0.554   0.748, 2D  0.621, mode 0 too few satellites < 6: nsat=3\n",
      " 2025-08-21 07:00:06 ENU   0.280   0.554   0.748, 2D  0.621, mode 0 too few satellites < 6: nsat=3\n",
      " 2025-08-21 07:00:07 ENU   0.280   0.554   0.748, 2D  0.621, mode 0 too few satellites < 6: nsat=3\n",
      " 2025-08-21 07:00:08 ENU   0.280   0.554   0.748, 2D  0.621, mode 0 too few satellites < 6: nsat=3\n",
      " 2025-08-21 07:00:09 ENU   0.280   0.554   0.748, 2D  0.621, mode 0 too few satellites < 6: nsat=4\n",
      " 2025-08-21 07:00:10 ENU   0.280   0.554   0.748, 2D  0.621, mode 0 too few satellites < 6: nsat=4\n",
      " 2025-08-21 07:00:11 ENU   0.280   0.554   0.748, 2D  0.621, mode 0 too few satellites < 6: nsat=5\n",
      " 2025-08-21 07:00:12 ENU   0.280   0.554   0.748, 2D  0.621, mode 0 too few satellites < 6: nsat=5\n",
      " 2025-08-21 07:00:13 ENU   0.280   0.554   0.748, 2D  0.621, mode 0 too few satellites < 6: nsat=5\n",
      " 2025-08-21 07:00:14 ENU   0.280   0.554   0.748, 2D  0.621, mode 0 too few satellites < 6: ns=5\n",
      " 2025-08-21 07:00:15 ENU   0.280   0.554   0.748, 2D  0.621, mode 0 too few satellites < 6: ns=5\n",
      " 2025-08-21 07:00:16 ENU   0.280   0.554   0.748, 2D  0.621, mode 0 too few satellites < 6: ns=5\n",
      " 2025-08-21 07:00:17 ENU   0.280   0.554   0.748, 2D  0.621, mode 0 too few satellites < 6: ns=5\n",
      " 2025-08-21 07:11:25 ENU   0.224   0.080  -0.547, 2D  0.238, mode 5"
     ]
    }
   ],
   "source": [
    "nep = 15 * 60  # increase this to run longer\n",
    "\n",
    "# Intialize data structures for results\n",
    "t = np.zeros(nep)\n",
    "enu = np.ones((nep, 3))*np.nan\n",
    "sol = np.zeros((nep, 4))\n",
    "ztd = np.zeros((nep, 1))\n",
    "smode = np.zeros(nep, dtype=int)\n",
    "\n",
    "# Skip epochs until start time\n",
    "obs = rnx.decode_obs()\n",
    "while time > obs.t and obs.t.time != 0:\n",
    "    obs = rnx.decode_obs()\n",
    "\n",
    "# Loop over number of epoch from file start\n",
    "for ne in range(nep):\n",
    "    week, tow = time2gpst(obs.t)\n",
    "    cs.week = week\n",
    "    cs.tow0 = tow//86400*86400\n",
    "    cs.time0 = obs.t\n",
    "\n",
    "    # Set initial epoch\n",
    "    if ne == 0:\n",
    "        nav.t = deepcopy(obs.t)\n",
    "        t0 = deepcopy(obs.t)\n",
    "        t0.time = t0.time//30*30\n",
    "        nav.time_p = t0\n",
    "\n",
    "    vi = v[(v['tow'] == tow) & (v['prn'] == prn_ref)\n",
    "           & (v['type'] > 30)]\n",
    "    if len(vi) > 0:\n",
    "      msg = unhexlify(vi['nav'][0])\n",
    "      cs.decode_cssr(msg, 0)\n",
    "\n",
    "    cs.check_validity(obs.t)\n",
    "\n",
    "    # Call PPP module\n",
    "    if (cs.lc[0].cstat & 0x6) == 0x6:\n",
    "        ppp.process(obs, cs=cs)\n",
    "\n",
    "    # Save output\n",
    "    t[ne] = timediff(nav.t, t0) / 86400.0\n",
    "    sol = nav.xa[0:3] if nav.smode == 4 else nav.x[0:3]\n",
    "    enu[ne, :] = gn.ecef2enu(pos_ref, sol-xyz_ref)\n",
    "    ztd[ne] = nav.xa[ppp.IT(nav.na)] if nav.smode == 4 else nav.x[ppp.IT(nav.na)]\n",
    "    smode[ne] = nav.smode\n",
    "\n",
    "    # Log to standard output\n",
    "    stdout.write('\\r {} ENU {:7.3f} {:7.3f} {:7.3f}, 2D {:6.3f}, mode {:1d}'\n",
    "                 .format(time2str(obs.t),\n",
    "                         enu[ne, 0], enu[ne, 1], enu[ne, 2],\n",
    "                         np.sqrt(enu[ne, 0]**2+enu[ne, 1]**2),\n",
    "                         smode[ne]))\n",
    "\n",
    "    # Get new epoch, exit after last epoch\n",
    "    obs = rnx.decode_obs()\n",
    "    if obs.t.time == 0:\n",
    "        break"
   ]
  },
  {
   "cell_type": "markdown",
   "id": "f9675705",
   "metadata": {},
   "source": []
  },
  {
   "cell_type": "code",
   "execution_count": null,
   "id": "5e119a44",
   "metadata": {},
   "outputs": [],
   "source": [
    "ylim = 1.0\n",
    "\n",
    "idx4 = np.where(smode == 4)[0]\n",
    "idx5 = np.where(smode == 5)[0]\n",
    "idx0 = np.where(smode == 0)[0]\n",
    "\n",
    "fig = plt.figure(figsize=[7, 9])\n",
    "fig.set_rasterized(True)\n",
    "lbl_t = ['East [m]', 'North [m]', 'Up [m]']\n",
    "fmt = '%H:%M'\n",
    "\n",
    "for k in range(3):\n",
    "    plt.subplot(4, 1, k+1)\n",
    "    plt.plot(t[idx0], enu[idx0, k], 'r.')\n",
    "    plt.plot(t[idx5], enu[idx5, k], 'y.')\n",
    "    plt.plot(t[idx4], enu[idx4, k], 'g.')\n",
    "\n",
    "    plt.ylabel(lbl_t[k])\n",
    "    plt.grid()\n",
    "    plt.ylim([-ylim, ylim])\n",
    "    plt.gca().xaxis.set_major_formatter(md.DateFormatter(fmt))\n",
    "\n",
    "plt.subplot(4, 1, 4)\n",
    "plt.plot(t[idx0], ztd[idx0]*1e2, 'r.', markersize=8, label='none')\n",
    "plt.plot(t[idx5], ztd[idx5]*1e2, 'y.', markersize=8, label='float')\n",
    "plt.plot(t[idx4], ztd[idx4]*1e2, 'g.', markersize=8, label='fix')\n",
    "plt.ylabel('ZTD [cm]')\n",
    "plt.grid()\n",
    "plt.gca().xaxis.set_major_formatter(md.DateFormatter(fmt))\n",
    "\n",
    "plt.xlabel('Time [HH:MM]')\n",
    "plt.legend()\n"
   ]
  },
  {
   "cell_type": "markdown",
   "id": "06d4a4ac",
   "metadata": {
    "id": "06d4a4ac"
   },
   "source": [
    "## Reference"
   ]
  },
  {
   "cell_type": "markdown",
   "id": "7d78ff97",
   "metadata": {
    "id": "7d78ff97"
   },
   "source": [
    "- [1] T. Takasu, “RTKLIB: Open Source Program Package for RTK-GPS,” FOSS4G 2009 Tokyo, Japan, 2009.\n",
    "-  Hirokawa, R., Hauschild, A., Everett, T. (2023). Python Toolkit for Open PPP/PPP-RTK Services. In *Proceedings of the 35th International Technical Meeting of the Satellite Division of The Institute of Navigation (ION GNSS+ 2023)*"
   ]
  }
 ],
 "metadata": {
  "colab": {
   "collapsed_sections": [
    "b85900d9",
    "d93de7b9",
    "5a058567",
    "3b8b422e",
    "1c4b06ee",
    "rKUv0nEl8vDm",
    "8993fc13",
    "hPjJOF2T8uxG",
    "nf1Rwd3u8vXK"
   ],
   "provenance": []
  },
  "kernelspec": {
   "display_name": "Python 3",
   "language": "python",
   "name": "python3"
  },
  "language_info": {
   "codemirror_mode": {
    "name": "ipython",
    "version": 3
   },
   "file_extension": ".py",
   "mimetype": "text/x-python",
   "name": "python",
   "nbconvert_exporter": "python",
   "pygments_lexer": "ipython3",
   "version": "3.13.8"
  }
 },
 "nbformat": 4,
 "nbformat_minor": 5
}
